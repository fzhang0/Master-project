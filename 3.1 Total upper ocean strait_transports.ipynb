{
 "cells": [
  {
   "cell_type": "markdown",
   "metadata": {
    "extensions": {
     "jupyter_dashboards": {
      "version": 1,
      "views": {
       "grid_default": {
        "col": 0,
        "height": 4,
        "hidden": false,
        "row": 36,
        "width": 12
       },
       "report_default": {
        "hidden": false
       }
      }
     }
    }
   },
   "source": [
    "# Mass Transports\n",
    "\n",
    "Transport diagnostics for flow through major straits.\n",
    "\n",
    "## Theory\n",
    "\n",
    "Formally, mass transports are given by\n",
    "$$T_x = \\rho u  $$\n",
    "$$T_y = \\rho v  $$\n",
    "\n",
    "Mass transports are diagnostics that are calculated online by the model:\n",
    "\n",
    "|variable|long name|units|dimensions|\n",
    "|-|\n",
    "|tx_trans|T-cell i-mass transport|Sv|(time,st_ocean,xu_ocean,yt_ocean)|\n",
    "|ty_trans|T-cell j-mass transport|Sv|(time,st_ocean,xt_ocean,yu_ocean)|\n",
    "\n",
    "\n",
    "These variables are saved in `ocean.nc` files."
   ]
  },
  {
   "cell_type": "markdown",
   "metadata": {},
   "source": [
    "## Calculation"
   ]
  },
  {
   "cell_type": "code",
   "execution_count": 1,
   "metadata": {},
   "outputs": [
    {
     "name": "stdout",
     "output_type": "stream",
     "text": [
      "Populating the interactive namespace from numpy and matplotlib\n",
      "Available exptdata keys:  ['1deg_c1', '025deg_c1', '01deg_c1', '1deg_c2', '025deg_c2', '01deg_c2', '1deg_c3', '025deg_c3', '01deg_c3']\n"
     ]
    }
   ],
   "source": [
    "%matplotlib inline\n",
    "%pylab inline\n",
    "import cosima_cookbook as cc\n",
    "import matplotlib.pyplot as plt\n",
    "import numpy as np\n",
    "import pandas as pd\n",
    "import copy\n",
    "from collections import OrderedDict\n",
    "\n",
    "\n",
    "from dask.distributed import Client\n",
    "import climtas.nci\n",
    "\n",
    "import sys, os\n",
    "sys.path.append(os.path.join(os.getcwd(), '..'))  # so we can import ../exptdata\n",
    "\n",
    "import exptdata\n",
    "print('Available exptdata keys: ', [k for k in exptdata.exptdict.keys()])"
   ]
  },
  {
   "cell_type": "code",
   "execution_count": 2,
   "metadata": {},
   "outputs": [
    {
     "data": {
      "text/html": [
       "<div>\n",
       "    <div style=\"width: 24px; height: 24px; background-color: #e1e1e1; border: 3px solid #9D9D9D; border-radius: 5px; position: absolute;\"> </div>\n",
       "    <div style=\"margin-left: 48px;\">\n",
       "        <h3 style=\"margin-bottom: 0px;\">Client</h3>\n",
       "        <p style=\"color: #9D9D9D; margin-bottom: 0px;\">Client-c81d263a-c3eb-11ec-b397-40f2e9c90134</p>\n",
       "        <table style=\"width: 100%; text-align: left;\">\n",
       "\n",
       "        <tr>\n",
       "        \n",
       "            <td style=\"text-align: left;\"><strong>Connection method:</strong> Cluster object</td>\n",
       "            <td style=\"text-align: left;\"><strong>Cluster type:</strong> distributed.LocalCluster</td>\n",
       "        \n",
       "        </tr>\n",
       "\n",
       "        \n",
       "            <tr>\n",
       "                <td style=\"text-align: left;\">\n",
       "                    <strong>Dashboard: </strong> <a href=\"/proxy/35121/status\" target=\"_blank\">/proxy/35121/status</a>\n",
       "                </td>\n",
       "                <td style=\"text-align: left;\"></td>\n",
       "            </tr>\n",
       "        \n",
       "\n",
       "        </table>\n",
       "\n",
       "        \n",
       "            <details>\n",
       "            <summary style=\"margin-bottom: 20px;\"><h3 style=\"display: inline;\">Cluster Info</h3></summary>\n",
       "            <div class=\"jp-RenderedHTMLCommon jp-RenderedHTML jp-mod-trusted jp-OutputArea-output\">\n",
       "    <div style=\"width: 24px; height: 24px; background-color: #e1e1e1; border: 3px solid #9D9D9D; border-radius: 5px; position: absolute;\">\n",
       "    </div>\n",
       "    <div style=\"margin-left: 48px;\">\n",
       "        <h3 style=\"margin-bottom: 0px; margin-top: 0px;\">LocalCluster</h3>\n",
       "        <p style=\"color: #9D9D9D; margin-bottom: 0px;\">b7724b22</p>\n",
       "        <table style=\"width: 100%; text-align: left;\">\n",
       "            <tr>\n",
       "                <td style=\"text-align: left;\">\n",
       "                    <strong>Dashboard:</strong> <a href=\"/proxy/35121/status\" target=\"_blank\">/proxy/35121/status</a>\n",
       "                </td>\n",
       "                <td style=\"text-align: left;\">\n",
       "                    <strong>Workers:</strong> 8\n",
       "                </td>\n",
       "            </tr>\n",
       "            <tr>\n",
       "                <td style=\"text-align: left;\">\n",
       "                    <strong>Total threads:</strong> 8\n",
       "                </td>\n",
       "                <td style=\"text-align: left;\">\n",
       "                    <strong>Total memory:</strong> 128.00 GiB\n",
       "                </td>\n",
       "            </tr>\n",
       "            \n",
       "            <tr>\n",
       "    <td style=\"text-align: left;\"><strong>Status:</strong> running</td>\n",
       "    <td style=\"text-align: left;\"><strong>Using processes:</strong> True</td>\n",
       "</tr>\n",
       "\n",
       "            \n",
       "        </table>\n",
       "\n",
       "        <details>\n",
       "            <summary style=\"margin-bottom: 20px;\">\n",
       "                <h3 style=\"display: inline;\">Scheduler Info</h3>\n",
       "            </summary>\n",
       "\n",
       "            <div style=\"\">\n",
       "    <div>\n",
       "        <div style=\"width: 24px; height: 24px; background-color: #FFF7E5; border: 3px solid #FF6132; border-radius: 5px; position: absolute;\"> </div>\n",
       "        <div style=\"margin-left: 48px;\">\n",
       "            <h3 style=\"margin-bottom: 0px;\">Scheduler</h3>\n",
       "            <p style=\"color: #9D9D9D; margin-bottom: 0px;\">Scheduler-56acd013-f78d-40e1-8a6d-0edada7bf08f</p>\n",
       "            <table style=\"width: 100%; text-align: left;\">\n",
       "                <tr>\n",
       "                    <td style=\"text-align: left;\">\n",
       "                        <strong>Comm:</strong> tcp://127.0.0.1:44505\n",
       "                    </td>\n",
       "                    <td style=\"text-align: left;\">\n",
       "                        <strong>Workers:</strong> 8\n",
       "                    </td>\n",
       "                </tr>\n",
       "                <tr>\n",
       "                    <td style=\"text-align: left;\">\n",
       "                        <strong>Dashboard:</strong> <a href=\"/proxy/35121/status\" target=\"_blank\">/proxy/35121/status</a>\n",
       "                    </td>\n",
       "                    <td style=\"text-align: left;\">\n",
       "                        <strong>Total threads:</strong> 8\n",
       "                    </td>\n",
       "                </tr>\n",
       "                <tr>\n",
       "                    <td style=\"text-align: left;\">\n",
       "                        <strong>Started:</strong> Just now\n",
       "                    </td>\n",
       "                    <td style=\"text-align: left;\">\n",
       "                        <strong>Total memory:</strong> 128.00 GiB\n",
       "                    </td>\n",
       "                </tr>\n",
       "            </table>\n",
       "        </div>\n",
       "    </div>\n",
       "\n",
       "    <details style=\"margin-left: 48px;\">\n",
       "        <summary style=\"margin-bottom: 20px;\">\n",
       "            <h3 style=\"display: inline;\">Workers</h3>\n",
       "        </summary>\n",
       "\n",
       "        \n",
       "        <div style=\"margin-bottom: 20px;\">\n",
       "            <div style=\"width: 24px; height: 24px; background-color: #DBF5FF; border: 3px solid #4CC9FF; border-radius: 5px; position: absolute;\"> </div>\n",
       "            <div style=\"margin-left: 48px;\">\n",
       "            <details>\n",
       "                <summary>\n",
       "                    <h4 style=\"margin-bottom: 0px; display: inline;\">Worker: 0</h4>\n",
       "                </summary>\n",
       "                <table style=\"width: 100%; text-align: left;\">\n",
       "                    <tr>\n",
       "                        <td style=\"text-align: left;\">\n",
       "                            <strong>Comm: </strong> tcp://10.6.122.22:38105\n",
       "                        </td>\n",
       "                        <td style=\"text-align: left;\">\n",
       "                            <strong>Total threads: </strong> 1\n",
       "                        </td>\n",
       "                    </tr>\n",
       "                    <tr>\n",
       "                        <td style=\"text-align: left;\">\n",
       "                            <strong>Dashboard: </strong> <a href=\"/proxy/40541/status\" target=\"_blank\">/proxy/40541/status</a>\n",
       "                        </td>\n",
       "                        <td style=\"text-align: left;\">\n",
       "                            <strong>Memory: </strong> 16.00 GiB\n",
       "                        </td>\n",
       "                    </tr>\n",
       "                    <tr>\n",
       "                        <td style=\"text-align: left;\">\n",
       "                            <strong>Nanny: </strong> tcp://127.0.0.1:40525\n",
       "                        </td>\n",
       "                        <td style=\"text-align: left;\"></td>\n",
       "                    </tr>\n",
       "                    <tr>\n",
       "                        <td colspan=\"2\" style=\"text-align: left;\">\n",
       "                            <strong>Local directory: </strong> /jobfs/38956003.gadi-pbs/tmpkhmbwntkdask-worker-space/dask-worker-space/worker-bwbjlbve\n",
       "                        </td>\n",
       "                    </tr>\n",
       "\n",
       "                    \n",
       "\n",
       "                    \n",
       "\n",
       "                </table>\n",
       "            </details>\n",
       "            </div>\n",
       "        </div>\n",
       "        \n",
       "        <div style=\"margin-bottom: 20px;\">\n",
       "            <div style=\"width: 24px; height: 24px; background-color: #DBF5FF; border: 3px solid #4CC9FF; border-radius: 5px; position: absolute;\"> </div>\n",
       "            <div style=\"margin-left: 48px;\">\n",
       "            <details>\n",
       "                <summary>\n",
       "                    <h4 style=\"margin-bottom: 0px; display: inline;\">Worker: 1</h4>\n",
       "                </summary>\n",
       "                <table style=\"width: 100%; text-align: left;\">\n",
       "                    <tr>\n",
       "                        <td style=\"text-align: left;\">\n",
       "                            <strong>Comm: </strong> tcp://10.6.122.22:45775\n",
       "                        </td>\n",
       "                        <td style=\"text-align: left;\">\n",
       "                            <strong>Total threads: </strong> 1\n",
       "                        </td>\n",
       "                    </tr>\n",
       "                    <tr>\n",
       "                        <td style=\"text-align: left;\">\n",
       "                            <strong>Dashboard: </strong> <a href=\"/proxy/35195/status\" target=\"_blank\">/proxy/35195/status</a>\n",
       "                        </td>\n",
       "                        <td style=\"text-align: left;\">\n",
       "                            <strong>Memory: </strong> 16.00 GiB\n",
       "                        </td>\n",
       "                    </tr>\n",
       "                    <tr>\n",
       "                        <td style=\"text-align: left;\">\n",
       "                            <strong>Nanny: </strong> tcp://127.0.0.1:45405\n",
       "                        </td>\n",
       "                        <td style=\"text-align: left;\"></td>\n",
       "                    </tr>\n",
       "                    <tr>\n",
       "                        <td colspan=\"2\" style=\"text-align: left;\">\n",
       "                            <strong>Local directory: </strong> /jobfs/38956003.gadi-pbs/tmpkhmbwntkdask-worker-space/dask-worker-space/worker-7esk963o\n",
       "                        </td>\n",
       "                    </tr>\n",
       "\n",
       "                    \n",
       "\n",
       "                    \n",
       "\n",
       "                </table>\n",
       "            </details>\n",
       "            </div>\n",
       "        </div>\n",
       "        \n",
       "        <div style=\"margin-bottom: 20px;\">\n",
       "            <div style=\"width: 24px; height: 24px; background-color: #DBF5FF; border: 3px solid #4CC9FF; border-radius: 5px; position: absolute;\"> </div>\n",
       "            <div style=\"margin-left: 48px;\">\n",
       "            <details>\n",
       "                <summary>\n",
       "                    <h4 style=\"margin-bottom: 0px; display: inline;\">Worker: 2</h4>\n",
       "                </summary>\n",
       "                <table style=\"width: 100%; text-align: left;\">\n",
       "                    <tr>\n",
       "                        <td style=\"text-align: left;\">\n",
       "                            <strong>Comm: </strong> tcp://10.6.122.22:41845\n",
       "                        </td>\n",
       "                        <td style=\"text-align: left;\">\n",
       "                            <strong>Total threads: </strong> 1\n",
       "                        </td>\n",
       "                    </tr>\n",
       "                    <tr>\n",
       "                        <td style=\"text-align: left;\">\n",
       "                            <strong>Dashboard: </strong> <a href=\"/proxy/45989/status\" target=\"_blank\">/proxy/45989/status</a>\n",
       "                        </td>\n",
       "                        <td style=\"text-align: left;\">\n",
       "                            <strong>Memory: </strong> 16.00 GiB\n",
       "                        </td>\n",
       "                    </tr>\n",
       "                    <tr>\n",
       "                        <td style=\"text-align: left;\">\n",
       "                            <strong>Nanny: </strong> tcp://127.0.0.1:38269\n",
       "                        </td>\n",
       "                        <td style=\"text-align: left;\"></td>\n",
       "                    </tr>\n",
       "                    <tr>\n",
       "                        <td colspan=\"2\" style=\"text-align: left;\">\n",
       "                            <strong>Local directory: </strong> /jobfs/38956003.gadi-pbs/tmpkhmbwntkdask-worker-space/dask-worker-space/worker-z4obl81q\n",
       "                        </td>\n",
       "                    </tr>\n",
       "\n",
       "                    \n",
       "\n",
       "                    \n",
       "\n",
       "                </table>\n",
       "            </details>\n",
       "            </div>\n",
       "        </div>\n",
       "        \n",
       "        <div style=\"margin-bottom: 20px;\">\n",
       "            <div style=\"width: 24px; height: 24px; background-color: #DBF5FF; border: 3px solid #4CC9FF; border-radius: 5px; position: absolute;\"> </div>\n",
       "            <div style=\"margin-left: 48px;\">\n",
       "            <details>\n",
       "                <summary>\n",
       "                    <h4 style=\"margin-bottom: 0px; display: inline;\">Worker: 3</h4>\n",
       "                </summary>\n",
       "                <table style=\"width: 100%; text-align: left;\">\n",
       "                    <tr>\n",
       "                        <td style=\"text-align: left;\">\n",
       "                            <strong>Comm: </strong> tcp://10.6.122.22:40893\n",
       "                        </td>\n",
       "                        <td style=\"text-align: left;\">\n",
       "                            <strong>Total threads: </strong> 1\n",
       "                        </td>\n",
       "                    </tr>\n",
       "                    <tr>\n",
       "                        <td style=\"text-align: left;\">\n",
       "                            <strong>Dashboard: </strong> <a href=\"/proxy/44951/status\" target=\"_blank\">/proxy/44951/status</a>\n",
       "                        </td>\n",
       "                        <td style=\"text-align: left;\">\n",
       "                            <strong>Memory: </strong> 16.00 GiB\n",
       "                        </td>\n",
       "                    </tr>\n",
       "                    <tr>\n",
       "                        <td style=\"text-align: left;\">\n",
       "                            <strong>Nanny: </strong> tcp://127.0.0.1:34729\n",
       "                        </td>\n",
       "                        <td style=\"text-align: left;\"></td>\n",
       "                    </tr>\n",
       "                    <tr>\n",
       "                        <td colspan=\"2\" style=\"text-align: left;\">\n",
       "                            <strong>Local directory: </strong> /jobfs/38956003.gadi-pbs/tmpkhmbwntkdask-worker-space/dask-worker-space/worker-2qtegyec\n",
       "                        </td>\n",
       "                    </tr>\n",
       "\n",
       "                    \n",
       "\n",
       "                    \n",
       "\n",
       "                </table>\n",
       "            </details>\n",
       "            </div>\n",
       "        </div>\n",
       "        \n",
       "        <div style=\"margin-bottom: 20px;\">\n",
       "            <div style=\"width: 24px; height: 24px; background-color: #DBF5FF; border: 3px solid #4CC9FF; border-radius: 5px; position: absolute;\"> </div>\n",
       "            <div style=\"margin-left: 48px;\">\n",
       "            <details>\n",
       "                <summary>\n",
       "                    <h4 style=\"margin-bottom: 0px; display: inline;\">Worker: 4</h4>\n",
       "                </summary>\n",
       "                <table style=\"width: 100%; text-align: left;\">\n",
       "                    <tr>\n",
       "                        <td style=\"text-align: left;\">\n",
       "                            <strong>Comm: </strong> tcp://10.6.122.22:37079\n",
       "                        </td>\n",
       "                        <td style=\"text-align: left;\">\n",
       "                            <strong>Total threads: </strong> 1\n",
       "                        </td>\n",
       "                    </tr>\n",
       "                    <tr>\n",
       "                        <td style=\"text-align: left;\">\n",
       "                            <strong>Dashboard: </strong> <a href=\"/proxy/41443/status\" target=\"_blank\">/proxy/41443/status</a>\n",
       "                        </td>\n",
       "                        <td style=\"text-align: left;\">\n",
       "                            <strong>Memory: </strong> 16.00 GiB\n",
       "                        </td>\n",
       "                    </tr>\n",
       "                    <tr>\n",
       "                        <td style=\"text-align: left;\">\n",
       "                            <strong>Nanny: </strong> tcp://127.0.0.1:45029\n",
       "                        </td>\n",
       "                        <td style=\"text-align: left;\"></td>\n",
       "                    </tr>\n",
       "                    <tr>\n",
       "                        <td colspan=\"2\" style=\"text-align: left;\">\n",
       "                            <strong>Local directory: </strong> /jobfs/38956003.gadi-pbs/tmpkhmbwntkdask-worker-space/dask-worker-space/worker-bihs6z59\n",
       "                        </td>\n",
       "                    </tr>\n",
       "\n",
       "                    \n",
       "\n",
       "                    \n",
       "\n",
       "                </table>\n",
       "            </details>\n",
       "            </div>\n",
       "        </div>\n",
       "        \n",
       "        <div style=\"margin-bottom: 20px;\">\n",
       "            <div style=\"width: 24px; height: 24px; background-color: #DBF5FF; border: 3px solid #4CC9FF; border-radius: 5px; position: absolute;\"> </div>\n",
       "            <div style=\"margin-left: 48px;\">\n",
       "            <details>\n",
       "                <summary>\n",
       "                    <h4 style=\"margin-bottom: 0px; display: inline;\">Worker: 5</h4>\n",
       "                </summary>\n",
       "                <table style=\"width: 100%; text-align: left;\">\n",
       "                    <tr>\n",
       "                        <td style=\"text-align: left;\">\n",
       "                            <strong>Comm: </strong> tcp://10.6.122.22:42679\n",
       "                        </td>\n",
       "                        <td style=\"text-align: left;\">\n",
       "                            <strong>Total threads: </strong> 1\n",
       "                        </td>\n",
       "                    </tr>\n",
       "                    <tr>\n",
       "                        <td style=\"text-align: left;\">\n",
       "                            <strong>Dashboard: </strong> <a href=\"/proxy/33975/status\" target=\"_blank\">/proxy/33975/status</a>\n",
       "                        </td>\n",
       "                        <td style=\"text-align: left;\">\n",
       "                            <strong>Memory: </strong> 16.00 GiB\n",
       "                        </td>\n",
       "                    </tr>\n",
       "                    <tr>\n",
       "                        <td style=\"text-align: left;\">\n",
       "                            <strong>Nanny: </strong> tcp://127.0.0.1:37173\n",
       "                        </td>\n",
       "                        <td style=\"text-align: left;\"></td>\n",
       "                    </tr>\n",
       "                    <tr>\n",
       "                        <td colspan=\"2\" style=\"text-align: left;\">\n",
       "                            <strong>Local directory: </strong> /jobfs/38956003.gadi-pbs/tmpkhmbwntkdask-worker-space/dask-worker-space/worker-96n423c9\n",
       "                        </td>\n",
       "                    </tr>\n",
       "\n",
       "                    \n",
       "\n",
       "                    \n",
       "\n",
       "                </table>\n",
       "            </details>\n",
       "            </div>\n",
       "        </div>\n",
       "        \n",
       "        <div style=\"margin-bottom: 20px;\">\n",
       "            <div style=\"width: 24px; height: 24px; background-color: #DBF5FF; border: 3px solid #4CC9FF; border-radius: 5px; position: absolute;\"> </div>\n",
       "            <div style=\"margin-left: 48px;\">\n",
       "            <details>\n",
       "                <summary>\n",
       "                    <h4 style=\"margin-bottom: 0px; display: inline;\">Worker: 6</h4>\n",
       "                </summary>\n",
       "                <table style=\"width: 100%; text-align: left;\">\n",
       "                    <tr>\n",
       "                        <td style=\"text-align: left;\">\n",
       "                            <strong>Comm: </strong> tcp://10.6.122.22:45239\n",
       "                        </td>\n",
       "                        <td style=\"text-align: left;\">\n",
       "                            <strong>Total threads: </strong> 1\n",
       "                        </td>\n",
       "                    </tr>\n",
       "                    <tr>\n",
       "                        <td style=\"text-align: left;\">\n",
       "                            <strong>Dashboard: </strong> <a href=\"/proxy/35071/status\" target=\"_blank\">/proxy/35071/status</a>\n",
       "                        </td>\n",
       "                        <td style=\"text-align: left;\">\n",
       "                            <strong>Memory: </strong> 16.00 GiB\n",
       "                        </td>\n",
       "                    </tr>\n",
       "                    <tr>\n",
       "                        <td style=\"text-align: left;\">\n",
       "                            <strong>Nanny: </strong> tcp://127.0.0.1:33779\n",
       "                        </td>\n",
       "                        <td style=\"text-align: left;\"></td>\n",
       "                    </tr>\n",
       "                    <tr>\n",
       "                        <td colspan=\"2\" style=\"text-align: left;\">\n",
       "                            <strong>Local directory: </strong> /jobfs/38956003.gadi-pbs/tmpkhmbwntkdask-worker-space/dask-worker-space/worker-a042k5ns\n",
       "                        </td>\n",
       "                    </tr>\n",
       "\n",
       "                    \n",
       "\n",
       "                    \n",
       "\n",
       "                </table>\n",
       "            </details>\n",
       "            </div>\n",
       "        </div>\n",
       "        \n",
       "        <div style=\"margin-bottom: 20px;\">\n",
       "            <div style=\"width: 24px; height: 24px; background-color: #DBF5FF; border: 3px solid #4CC9FF; border-radius: 5px; position: absolute;\"> </div>\n",
       "            <div style=\"margin-left: 48px;\">\n",
       "            <details>\n",
       "                <summary>\n",
       "                    <h4 style=\"margin-bottom: 0px; display: inline;\">Worker: 7</h4>\n",
       "                </summary>\n",
       "                <table style=\"width: 100%; text-align: left;\">\n",
       "                    <tr>\n",
       "                        <td style=\"text-align: left;\">\n",
       "                            <strong>Comm: </strong> tcp://10.6.122.22:36393\n",
       "                        </td>\n",
       "                        <td style=\"text-align: left;\">\n",
       "                            <strong>Total threads: </strong> 1\n",
       "                        </td>\n",
       "                    </tr>\n",
       "                    <tr>\n",
       "                        <td style=\"text-align: left;\">\n",
       "                            <strong>Dashboard: </strong> <a href=\"/proxy/32985/status\" target=\"_blank\">/proxy/32985/status</a>\n",
       "                        </td>\n",
       "                        <td style=\"text-align: left;\">\n",
       "                            <strong>Memory: </strong> 16.00 GiB\n",
       "                        </td>\n",
       "                    </tr>\n",
       "                    <tr>\n",
       "                        <td style=\"text-align: left;\">\n",
       "                            <strong>Nanny: </strong> tcp://127.0.0.1:45311\n",
       "                        </td>\n",
       "                        <td style=\"text-align: left;\"></td>\n",
       "                    </tr>\n",
       "                    <tr>\n",
       "                        <td colspan=\"2\" style=\"text-align: left;\">\n",
       "                            <strong>Local directory: </strong> /jobfs/38956003.gadi-pbs/tmpkhmbwntkdask-worker-space/dask-worker-space/worker-rsasltj3\n",
       "                        </td>\n",
       "                    </tr>\n",
       "\n",
       "                    \n",
       "\n",
       "                    \n",
       "\n",
       "                </table>\n",
       "            </details>\n",
       "            </div>\n",
       "        </div>\n",
       "        \n",
       "\n",
       "    </details>\n",
       "</div>\n",
       "\n",
       "        </details>\n",
       "    </div>\n",
       "</div>\n",
       "            </details>\n",
       "        \n",
       "\n",
       "    </div>\n",
       "</div>"
      ],
      "text/plain": [
       "<Client: 'tcp://127.0.0.1:44505' processes=8 threads=8, memory=128.00 GiB>"
      ]
     },
     "execution_count": 2,
     "metadata": {},
     "output_type": "execute_result"
    }
   ],
   "source": [
    "import climtas.nci\n",
    "climtas.nci.GadiClient(malloc_trim_threshold='64kib')"
   ]
  },
  {
   "cell_type": "code",
   "execution_count": 3,
   "metadata": {},
   "outputs": [],
   "source": [
    "session = cc.database.create_session()"
   ]
  },
  {
   "cell_type": "code",
   "execution_count": 4,
   "metadata": {},
   "outputs": [],
   "source": [
    "data = copy.deepcopy(exptdata.exptdict)  # to store fields under the same keys as exptdata.exptdict"
   ]
  },
  {
   "cell_type": "code",
   "execution_count": 5,
   "metadata": {},
   "outputs": [],
   "source": [
    "figdir = ''\n",
    "def savefigure(fname):\n",
    "    plt.savefig(os.path.join(figdir, fname+'.png'),dpi=300, bbox_inches=\"tight\")  # comment out to disable saving\n",
    "#     plt.savefig(os.path.join(figdir, fname+'.pdf'),dpi=300, bbox_inches=\"tight\")  # comment out to disable saving\n",
    "    return"
   ]
  },
  {
   "cell_type": "markdown",
   "metadata": {
    "tags": []
   },
   "source": [
    "# Tasman Sea"
   ]
  },
  {
   "cell_type": "code",
   "execution_count": 6,
   "metadata": {},
   "outputs": [],
   "source": [
    "# Strait locations: [minlon, maxlon, minlat, maxlat]\n",
    "# Add as many as you like, but they must be zonal or meridional\n",
    "\n",
    "data['1deg_c1']['straits'] = OrderedDict([('Tasman Sea', [-213, -189, -43, -43])])          \n",
    "data['025deg_c1']['straits'] = OrderedDict([('Tasman Sea', [-213, -189, -43, -43])])\n",
    "data['01deg_c1']['straits'] = OrderedDict([('Tasman Sea', [-213, -189, -43, -43])])\n",
    "data['1deg_c2']['straits'] = OrderedDict([('Tasman Sea', [-213, -189, -43, -43])])\n",
    "data['025deg_c2']['straits'] = OrderedDict([('Tasman Sea', [-213, -189, -43, -43])])\n",
    "data['01deg_c2']['straits'] = OrderedDict([('Tasman Sea', [-213, -189, -43, -43])])\n",
    "data['1deg_c3']['straits'] = OrderedDict([('Tasman Sea', [-213, -189, -43, -43])])\n",
    "data['025deg_c3']['straits'] = OrderedDict([('Tasman Sea', [-213, -189, -43, -43])])\n",
    "data['01deg_c3']['straits'] = OrderedDict([('Tasman Sea', [-213, -189, -43, -43])])"
   ]
  },
  {
   "cell_type": "code",
   "execution_count": 7,
   "metadata": {
    "tags": []
   },
   "outputs": [],
   "source": [
    "# # load data\n",
    "# for ekey in data.keys():\n",
    "#     print(ekey)\n",
    "#     e = data[ekey]\n",
    "#     e['tx_trans'] = cc.querying.getvar(e['expt'],'tx_trans', session,\n",
    "#                                        start_time='1958-01-01 00:00:00', \n",
    "#                                        end_time='2018-12-31 00:00:00')\n",
    "#     e['ty_trans'] = cc.querying.getvar(e['expt'],'ty_trans', session,\n",
    "#                                        start_time='1958-01-01 00:00:00', \n",
    "#                                        end_time='2018-12-31 00:00:00')\n",
    "\n",
    "        \n",
    "# # 0-2000m transport      \n",
    "#     e['tx_trans_int_2000'] = e['tx_trans'].sel(st_ocean=slice(0,2000)).sum('st_ocean')\n",
    "#     e['ty_trans_int_2000'] = e['ty_trans'].sel(st_ocean=slice(0,2000)).sum('st_ocean')"
   ]
  },
  {
   "cell_type": "code",
   "execution_count": 8,
   "metadata": {
    "tags": []
   },
   "outputs": [],
   "source": [
    "# # plot maps of transect locations (just final time shown), 0-2000m\n",
    "# m = 1.5 # margin (degrees)\n",
    "# for ekey in data.keys():\n",
    "#     print(ekey)\n",
    "#     e = data[ekey]\n",
    "#     for strait, (xmin, xmax, ymin, ymax) in e['straits'].items():\n",
    "#         print(strait)\n",
    "#         fig, ax = plt.subplots(nrows=1, ncols=1)\n",
    "#         ax.set_facecolor('gray')  # gray land points\n",
    "#         if xmin == xmax:\n",
    "#             e['tx_trans_int_2000'].isel(time=-1)\\\n",
    "#                                 .sel(xu_ocean=slice(xmin-m, xmax+m))\\\n",
    "#                                 .sel(yt_ocean=slice(ymin-m, ymax+m))\\\n",
    "#                                 .plot()\n",
    "\n",
    "#         elif ymin == ymax:\n",
    "#             e['ty_trans_int_2000'].isel(time=-1)\\\n",
    "#                                 .sel(xt_ocean=slice(xmin-m, xmax+m))\\\n",
    "#                                 .sel(yu_ocean=slice(ymin-m, ymax+m))\\\n",
    "#                                 .plot()\n",
    "#         else:\n",
    "#             raise ValueError('Transports are computed only along lines of either constant latitude or longitude')\n",
    "#         plt.plot([xmin, xmax], [ymin, ymax],\n",
    "#                 color='green', linewidth=4, alpha=0.7)\n",
    "#         plt.title(strait+', '+e['desc'])"
   ]
  },
  {
   "cell_type": "code",
   "execution_count": 9,
   "metadata": {
    "tags": []
   },
   "outputs": [],
   "source": [
    "# # plot vertical slices at transect locations\n",
    "# m = 1.5 # margin (degrees)\n",
    "# for ekey in data.keys():\n",
    "#     print(ekey)\n",
    "#     e = data[ekey]\n",
    "#     for strait, (xmin, xmax, ymin, ymax) in e['straits'].items():\n",
    "#         print(strait)\n",
    "#         fig, ax = plt.subplots(nrows=1, ncols=1)\n",
    "#         ax.set_facecolor('gray')  # gray land points\n",
    "#         if xmin == xmax:\n",
    "#             e['tx_trans'].isel(time=-1)\\\n",
    "#                                 .sel(xu_ocean=xmin, method='nearest')\\\n",
    "#                                 .sel(yt_ocean=slice(ymin-m, ymax+m))\\\n",
    "#                                 .plot()\n",
    "#             plt.plot([ymin, ymin, ymax, ymax], [0, 5000, 5000, 0],\n",
    "#                 color='green', linewidth=4, alpha=0.7)\n",
    "#         elif ymin == ymax:\n",
    "#             e['ty_trans'].isel(time=-1)\\\n",
    "#                                 .sel(xt_ocean=slice(xmin-m, xmax+m))\\\n",
    "#                                 .sel(yu_ocean=ymin, method='nearest')\\\n",
    "#                                 .plot()\n",
    "#             plt.plot([xmin, xmin, xmax, xmax], [0, 5000, 5000, 0],\n",
    "#                 color='green', linewidth=4, alpha=0.7)\n",
    "#         else:\n",
    "#             raise ValueError('Transports are computed only along lines of either constant latitude or longitude')\n",
    "#         plt.title(strait+', '+e['desc'])\n",
    "#         plt.gca().invert_yaxis()"
   ]
  },
  {
   "cell_type": "markdown",
   "metadata": {
    "tags": []
   },
   "source": [
    "## every 1 year"
   ]
  },
  {
   "cell_type": "code",
   "execution_count": 7,
   "metadata": {
    "collapsed": true,
    "jupyter": {
     "outputs_hidden": true
    },
    "tags": []
   },
   "outputs": [
    {
     "name": "stdout",
     "output_type": "stream",
     "text": [
      "1deg_c1\n",
      "1958-01-01 00:00:00-1959-01-01 00:00:00\n",
      "1959-01-01 00:00:00-1960-01-01 00:00:00\n",
      "1960-01-01 00:00:00-1961-01-01 00:00:00\n",
      "1961-01-01 00:00:00-1962-01-01 00:00:00\n",
      "1962-01-01 00:00:00-1963-01-01 00:00:00\n",
      "1963-01-01 00:00:00-1964-01-01 00:00:00\n",
      "1964-01-01 00:00:00-1965-01-01 00:00:00\n",
      "1965-01-01 00:00:00-1966-01-01 00:00:00\n",
      "1966-01-01 00:00:00-1967-01-01 00:00:00\n",
      "1967-01-01 00:00:00-1968-01-01 00:00:00\n",
      "1968-01-01 00:00:00-1969-01-01 00:00:00\n",
      "1969-01-01 00:00:00-1970-01-01 00:00:00\n",
      "1970-01-01 00:00:00-1971-01-01 00:00:00\n",
      "1971-01-01 00:00:00-1972-01-01 00:00:00\n",
      "1972-01-01 00:00:00-1973-01-01 00:00:00\n",
      "1973-01-01 00:00:00-1974-01-01 00:00:00\n",
      "1974-01-01 00:00:00-1975-01-01 00:00:00\n",
      "1975-01-01 00:00:00-1976-01-01 00:00:00\n",
      "1976-01-01 00:00:00-1977-01-01 00:00:00\n",
      "1977-01-01 00:00:00-1978-01-01 00:00:00\n",
      "1978-01-01 00:00:00-1979-01-01 00:00:00\n",
      "1979-01-01 00:00:00-1980-01-01 00:00:00\n",
      "1980-01-01 00:00:00-1981-01-01 00:00:00\n",
      "1981-01-01 00:00:00-1982-01-01 00:00:00\n",
      "1982-01-01 00:00:00-1983-01-01 00:00:00\n",
      "1983-01-01 00:00:00-1984-01-01 00:00:00\n",
      "1984-01-01 00:00:00-1985-01-01 00:00:00\n",
      "1985-01-01 00:00:00-1986-01-01 00:00:00\n",
      "1986-01-01 00:00:00-1987-01-01 00:00:00\n",
      "1987-01-01 00:00:00-1988-01-01 00:00:00\n",
      "1988-01-01 00:00:00-1989-01-01 00:00:00\n",
      "1989-01-01 00:00:00-1990-01-01 00:00:00\n",
      "1990-01-01 00:00:00-1991-01-01 00:00:00\n",
      "1991-01-01 00:00:00-1992-01-01 00:00:00\n",
      "1992-01-01 00:00:00-1993-01-01 00:00:00\n",
      "1993-01-01 00:00:00-1994-01-01 00:00:00\n",
      "1994-01-01 00:00:00-1995-01-01 00:00:00\n",
      "1995-01-01 00:00:00-1996-01-01 00:00:00\n",
      "1996-01-01 00:00:00-1997-01-01 00:00:00\n",
      "1997-01-01 00:00:00-1998-01-01 00:00:00\n",
      "1998-01-01 00:00:00-1999-01-01 00:00:00\n",
      "1999-01-01 00:00:00-2000-01-01 00:00:00\n",
      "2000-01-01 00:00:00-2001-01-01 00:00:00\n",
      "2001-01-01 00:00:00-2002-01-01 00:00:00\n",
      "2002-01-01 00:00:00-2003-01-01 00:00:00\n",
      "2003-01-01 00:00:00-2004-01-01 00:00:00\n",
      "2004-01-01 00:00:00-2005-01-01 00:00:00\n",
      "2005-01-01 00:00:00-2006-01-01 00:00:00\n",
      "2006-01-01 00:00:00-2007-01-01 00:00:00\n",
      "2007-01-01 00:00:00-2008-01-01 00:00:00\n",
      "2008-01-01 00:00:00-2009-01-01 00:00:00\n",
      "2009-01-01 00:00:00-2010-01-01 00:00:00\n",
      "2010-01-01 00:00:00-2011-01-01 00:00:00\n",
      "2011-01-01 00:00:00-2012-01-01 00:00:00\n",
      "2012-01-01 00:00:00-2013-01-01 00:00:00\n",
      "2013-01-01 00:00:00-2014-01-01 00:00:00\n",
      "2014-01-01 00:00:00-2015-01-01 00:00:00\n",
      "2015-01-01 00:00:00-2016-01-01 00:00:00\n",
      "2016-01-01 00:00:00-2017-01-01 00:00:00\n",
      "2017-01-01 00:00:00-2018-01-01 00:00:00\n",
      "2018-01-01 00:00:00-2019-01-01 00:00:00\n",
      "025deg_c1\n",
      "1958-01-01 00:00:00-1959-01-01 00:00:00\n",
      "1959-01-01 00:00:00-1960-01-01 00:00:00\n",
      "1960-01-01 00:00:00-1961-01-01 00:00:00\n",
      "1961-01-01 00:00:00-1962-01-01 00:00:00\n",
      "1962-01-01 00:00:00-1963-01-01 00:00:00\n",
      "1963-01-01 00:00:00-1964-01-01 00:00:00\n",
      "1964-01-01 00:00:00-1965-01-01 00:00:00\n",
      "1965-01-01 00:00:00-1966-01-01 00:00:00\n",
      "1966-01-01 00:00:00-1967-01-01 00:00:00\n",
      "1967-01-01 00:00:00-1968-01-01 00:00:00\n",
      "1968-01-01 00:00:00-1969-01-01 00:00:00\n",
      "1969-01-01 00:00:00-1970-01-01 00:00:00\n",
      "1970-01-01 00:00:00-1971-01-01 00:00:00\n",
      "1971-01-01 00:00:00-1972-01-01 00:00:00\n",
      "1972-01-01 00:00:00-1973-01-01 00:00:00\n",
      "1973-01-01 00:00:00-1974-01-01 00:00:00\n",
      "1974-01-01 00:00:00-1975-01-01 00:00:00\n",
      "1975-01-01 00:00:00-1976-01-01 00:00:00\n",
      "1976-01-01 00:00:00-1977-01-01 00:00:00\n",
      "1977-01-01 00:00:00-1978-01-01 00:00:00\n",
      "1978-01-01 00:00:00-1979-01-01 00:00:00\n",
      "1979-01-01 00:00:00-1980-01-01 00:00:00\n",
      "1980-01-01 00:00:00-1981-01-01 00:00:00\n",
      "1981-01-01 00:00:00-1982-01-01 00:00:00\n",
      "1982-01-01 00:00:00-1983-01-01 00:00:00\n",
      "1983-01-01 00:00:00-1984-01-01 00:00:00\n",
      "1984-01-01 00:00:00-1985-01-01 00:00:00\n",
      "1985-01-01 00:00:00-1986-01-01 00:00:00\n",
      "1986-01-01 00:00:00-1987-01-01 00:00:00\n",
      "1987-01-01 00:00:00-1988-01-01 00:00:00\n",
      "1988-01-01 00:00:00-1989-01-01 00:00:00\n",
      "1989-01-01 00:00:00-1990-01-01 00:00:00\n",
      "1990-01-01 00:00:00-1991-01-01 00:00:00\n",
      "1991-01-01 00:00:00-1992-01-01 00:00:00\n",
      "1992-01-01 00:00:00-1993-01-01 00:00:00\n",
      "1993-01-01 00:00:00-1994-01-01 00:00:00\n",
      "1994-01-01 00:00:00-1995-01-01 00:00:00\n",
      "1995-01-01 00:00:00-1996-01-01 00:00:00\n",
      "1996-01-01 00:00:00-1997-01-01 00:00:00\n",
      "1997-01-01 00:00:00-1998-01-01 00:00:00\n",
      "1998-01-01 00:00:00-1999-01-01 00:00:00\n",
      "1999-01-01 00:00:00-2000-01-01 00:00:00\n",
      "2000-01-01 00:00:00-2001-01-01 00:00:00\n",
      "2001-01-01 00:00:00-2002-01-01 00:00:00\n",
      "2002-01-01 00:00:00-2003-01-01 00:00:00\n",
      "2003-01-01 00:00:00-2004-01-01 00:00:00\n",
      "2004-01-01 00:00:00-2005-01-01 00:00:00\n",
      "2005-01-01 00:00:00-2006-01-01 00:00:00\n",
      "2006-01-01 00:00:00-2007-01-01 00:00:00\n",
      "2007-01-01 00:00:00-2008-01-01 00:00:00\n",
      "2008-01-01 00:00:00-2009-01-01 00:00:00\n"
     ]
    },
    {
     "name": "stderr",
     "output_type": "stream",
     "text": [
      "distributed.utils_perf - WARNING - full garbage collections took 10% CPU time recently (threshold: 10%)\n"
     ]
    },
    {
     "name": "stdout",
     "output_type": "stream",
     "text": [
      "2009-01-01 00:00:00-2010-01-01 00:00:00\n"
     ]
    },
    {
     "name": "stderr",
     "output_type": "stream",
     "text": [
      "distributed.utils_perf - WARNING - full garbage collections took 10% CPU time recently (threshold: 10%)\n"
     ]
    },
    {
     "name": "stdout",
     "output_type": "stream",
     "text": [
      "2010-01-01 00:00:00-2011-01-01 00:00:00\n"
     ]
    },
    {
     "name": "stderr",
     "output_type": "stream",
     "text": [
      "distributed.utils_perf - WARNING - full garbage collections took 10% CPU time recently (threshold: 10%)\n",
      "distributed.utils_perf - WARNING - full garbage collections took 10% CPU time recently (threshold: 10%)\n",
      "distributed.utils_perf - WARNING - full garbage collections took 10% CPU time recently (threshold: 10%)\n",
      "distributed.utils_perf - WARNING - full garbage collections took 10% CPU time recently (threshold: 10%)\n"
     ]
    },
    {
     "name": "stdout",
     "output_type": "stream",
     "text": [
      "2011-01-01 00:00:00-2012-01-01 00:00:00\n"
     ]
    },
    {
     "name": "stderr",
     "output_type": "stream",
     "text": [
      "distributed.utils_perf - WARNING - full garbage collections took 10% CPU time recently (threshold: 10%)\n",
      "distributed.utils_perf - WARNING - full garbage collections took 10% CPU time recently (threshold: 10%)\n",
      "distributed.utils_perf - WARNING - full garbage collections took 10% CPU time recently (threshold: 10%)\n",
      "distributed.utils_perf - WARNING - full garbage collections took 10% CPU time recently (threshold: 10%)\n"
     ]
    },
    {
     "name": "stdout",
     "output_type": "stream",
     "text": [
      "2012-01-01 00:00:00-2013-01-01 00:00:00\n"
     ]
    },
    {
     "name": "stderr",
     "output_type": "stream",
     "text": [
      "distributed.utils_perf - WARNING - full garbage collections took 10% CPU time recently (threshold: 10%)\n",
      "distributed.utils_perf - WARNING - full garbage collections took 10% CPU time recently (threshold: 10%)\n",
      "distributed.utils_perf - WARNING - full garbage collections took 10% CPU time recently (threshold: 10%)\n",
      "distributed.utils_perf - WARNING - full garbage collections took 10% CPU time recently (threshold: 10%)\n"
     ]
    },
    {
     "name": "stdout",
     "output_type": "stream",
     "text": [
      "2013-01-01 00:00:00-2014-01-01 00:00:00\n"
     ]
    },
    {
     "name": "stderr",
     "output_type": "stream",
     "text": [
      "distributed.utils_perf - WARNING - full garbage collections took 10% CPU time recently (threshold: 10%)\n",
      "distributed.utils_perf - WARNING - full garbage collections took 10% CPU time recently (threshold: 10%)\n",
      "distributed.utils_perf - WARNING - full garbage collections took 10% CPU time recently (threshold: 10%)\n",
      "distributed.utils_perf - WARNING - full garbage collections took 10% CPU time recently (threshold: 10%)\n"
     ]
    },
    {
     "name": "stdout",
     "output_type": "stream",
     "text": [
      "2014-01-01 00:00:00-2015-01-01 00:00:00\n"
     ]
    },
    {
     "name": "stderr",
     "output_type": "stream",
     "text": [
      "distributed.utils_perf - WARNING - full garbage collections took 11% CPU time recently (threshold: 10%)\n",
      "distributed.utils_perf - WARNING - full garbage collections took 10% CPU time recently (threshold: 10%)\n",
      "distributed.utils_perf - WARNING - full garbage collections took 11% CPU time recently (threshold: 10%)\n",
      "distributed.utils_perf - WARNING - full garbage collections took 13% CPU time recently (threshold: 10%)\n"
     ]
    },
    {
     "name": "stdout",
     "output_type": "stream",
     "text": [
      "2015-01-01 00:00:00-2016-01-01 00:00:00\n"
     ]
    },
    {
     "name": "stderr",
     "output_type": "stream",
     "text": [
      "distributed.utils_perf - WARNING - full garbage collections took 11% CPU time recently (threshold: 10%)\n",
      "distributed.utils_perf - WARNING - full garbage collections took 11% CPU time recently (threshold: 10%)\n",
      "distributed.utils_perf - WARNING - full garbage collections took 10% CPU time recently (threshold: 10%)\n",
      "distributed.utils_perf - WARNING - full garbage collections took 10% CPU time recently (threshold: 10%)\n"
     ]
    },
    {
     "name": "stdout",
     "output_type": "stream",
     "text": [
      "2016-01-01 00:00:00-2017-01-01 00:00:00\n"
     ]
    },
    {
     "name": "stderr",
     "output_type": "stream",
     "text": [
      "distributed.utils_perf - WARNING - full garbage collections took 13% CPU time recently (threshold: 10%)\n",
      "distributed.utils_perf - WARNING - full garbage collections took 14% CPU time recently (threshold: 10%)\n"
     ]
    },
    {
     "name": "stdout",
     "output_type": "stream",
     "text": [
      "2017-01-01 00:00:00-2018-01-01 00:00:00\n"
     ]
    },
    {
     "name": "stderr",
     "output_type": "stream",
     "text": [
      "distributed.utils_perf - WARNING - full garbage collections took 10% CPU time recently (threshold: 10%)\n",
      "distributed.utils_perf - WARNING - full garbage collections took 16% CPU time recently (threshold: 10%)\n",
      "distributed.utils_perf - WARNING - full garbage collections took 11% CPU time recently (threshold: 10%)\n",
      "distributed.utils_perf - WARNING - full garbage collections took 12% CPU time recently (threshold: 10%)\n"
     ]
    },
    {
     "name": "stdout",
     "output_type": "stream",
     "text": [
      "2018-01-01 00:00:00-2019-01-01 00:00:00\n"
     ]
    },
    {
     "name": "stderr",
     "output_type": "stream",
     "text": [
      "distributed.utils_perf - WARNING - full garbage collections took 12% CPU time recently (threshold: 10%)\n",
      "distributed.utils_perf - WARNING - full garbage collections took 12% CPU time recently (threshold: 10%)\n"
     ]
    },
    {
     "name": "stdout",
     "output_type": "stream",
     "text": [
      "01deg_c1\n",
      "1958-01-01 00:00:00-1959-01-01 00:00:00\n"
     ]
    },
    {
     "name": "stderr",
     "output_type": "stream",
     "text": [
      "distributed.utils_perf - WARNING - full garbage collections took 14% CPU time recently (threshold: 10%)\n"
     ]
    },
    {
     "name": "stdout",
     "output_type": "stream",
     "text": [
      "1959-01-01 00:00:00-1960-01-01 00:00:00\n"
     ]
    },
    {
     "name": "stderr",
     "output_type": "stream",
     "text": [
      "distributed.utils_perf - WARNING - full garbage collections took 13% CPU time recently (threshold: 10%)\n"
     ]
    },
    {
     "name": "stdout",
     "output_type": "stream",
     "text": [
      "1960-01-01 00:00:00-1961-01-01 00:00:00\n"
     ]
    },
    {
     "name": "stderr",
     "output_type": "stream",
     "text": [
      "distributed.utils_perf - WARNING - full garbage collections took 10% CPU time recently (threshold: 10%)\n",
      "distributed.utils_perf - WARNING - full garbage collections took 12% CPU time recently (threshold: 10%)\n"
     ]
    },
    {
     "name": "stdout",
     "output_type": "stream",
     "text": [
      "1961-01-01 00:00:00-1962-01-01 00:00:00\n"
     ]
    },
    {
     "name": "stderr",
     "output_type": "stream",
     "text": [
      "distributed.utils_perf - WARNING - full garbage collections took 14% CPU time recently (threshold: 10%)\n",
      "distributed.utils_perf - WARNING - full garbage collections took 14% CPU time recently (threshold: 10%)\n"
     ]
    },
    {
     "name": "stdout",
     "output_type": "stream",
     "text": [
      "1962-01-01 00:00:00-1963-01-01 00:00:00\n"
     ]
    },
    {
     "name": "stderr",
     "output_type": "stream",
     "text": [
      "distributed.utils_perf - WARNING - full garbage collections took 15% CPU time recently (threshold: 10%)\n"
     ]
    },
    {
     "name": "stdout",
     "output_type": "stream",
     "text": [
      "1963-01-01 00:00:00-1964-01-01 00:00:00\n"
     ]
    },
    {
     "name": "stderr",
     "output_type": "stream",
     "text": [
      "distributed.utils_perf - WARNING - full garbage collections took 13% CPU time recently (threshold: 10%)\n",
      "distributed.utils_perf - WARNING - full garbage collections took 15% CPU time recently (threshold: 10%)\n"
     ]
    },
    {
     "name": "stdout",
     "output_type": "stream",
     "text": [
      "1964-01-01 00:00:00-1965-01-01 00:00:00\n"
     ]
    },
    {
     "name": "stderr",
     "output_type": "stream",
     "text": [
      "distributed.utils_perf - WARNING - full garbage collections took 15% CPU time recently (threshold: 10%)\n",
      "distributed.utils_perf - WARNING - full garbage collections took 16% CPU time recently (threshold: 10%)\n"
     ]
    },
    {
     "name": "stdout",
     "output_type": "stream",
     "text": [
      "1965-01-01 00:00:00-1966-01-01 00:00:00\n"
     ]
    },
    {
     "name": "stderr",
     "output_type": "stream",
     "text": [
      "distributed.utils_perf - WARNING - full garbage collections took 14% CPU time recently (threshold: 10%)\n",
      "distributed.utils_perf - WARNING - full garbage collections took 14% CPU time recently (threshold: 10%)\n",
      "distributed.utils_perf - WARNING - full garbage collections took 21% CPU time recently (threshold: 10%)\n"
     ]
    },
    {
     "name": "stdout",
     "output_type": "stream",
     "text": [
      "1966-01-01 00:00:00-1967-01-01 00:00:00\n"
     ]
    },
    {
     "name": "stderr",
     "output_type": "stream",
     "text": [
      "distributed.utils_perf - WARNING - full garbage collections took 11% CPU time recently (threshold: 10%)\n",
      "distributed.utils_perf - WARNING - full garbage collections took 14% CPU time recently (threshold: 10%)\n",
      "distributed.utils_perf - WARNING - full garbage collections took 22% CPU time recently (threshold: 10%)\n"
     ]
    },
    {
     "name": "stdout",
     "output_type": "stream",
     "text": [
      "1967-01-01 00:00:00-1968-01-01 00:00:00\n"
     ]
    },
    {
     "name": "stderr",
     "output_type": "stream",
     "text": [
      "distributed.utils_perf - WARNING - full garbage collections took 10% CPU time recently (threshold: 10%)\n",
      "distributed.utils_perf - WARNING - full garbage collections took 22% CPU time recently (threshold: 10%)\n",
      "distributed.utils_perf - WARNING - full garbage collections took 14% CPU time recently (threshold: 10%)\n"
     ]
    },
    {
     "name": "stdout",
     "output_type": "stream",
     "text": [
      "1968-01-01 00:00:00-1969-01-01 00:00:00\n"
     ]
    },
    {
     "name": "stderr",
     "output_type": "stream",
     "text": [
      "distributed.utils_perf - WARNING - full garbage collections took 10% CPU time recently (threshold: 10%)\n",
      "distributed.utils_perf - WARNING - full garbage collections took 22% CPU time recently (threshold: 10%)\n"
     ]
    },
    {
     "name": "stdout",
     "output_type": "stream",
     "text": [
      "1969-01-01 00:00:00-1970-01-01 00:00:00\n"
     ]
    },
    {
     "name": "stderr",
     "output_type": "stream",
     "text": [
      "distributed.utils_perf - WARNING - full garbage collections took 22% CPU time recently (threshold: 10%)\n",
      "distributed.utils_perf - WARNING - full garbage collections took 23% CPU time recently (threshold: 10%)\n"
     ]
    },
    {
     "name": "stdout",
     "output_type": "stream",
     "text": [
      "1970-01-01 00:00:00-1971-01-01 00:00:00\n"
     ]
    },
    {
     "name": "stderr",
     "output_type": "stream",
     "text": [
      "distributed.utils_perf - WARNING - full garbage collections took 23% CPU time recently (threshold: 10%)\n"
     ]
    },
    {
     "name": "stdout",
     "output_type": "stream",
     "text": [
      "1971-01-01 00:00:00-1972-01-01 00:00:00\n"
     ]
    },
    {
     "name": "stderr",
     "output_type": "stream",
     "text": [
      "distributed.utils_perf - WARNING - full garbage collections took 13% CPU time recently (threshold: 10%)\n",
      "distributed.utils_perf - WARNING - full garbage collections took 23% CPU time recently (threshold: 10%)\n"
     ]
    },
    {
     "name": "stdout",
     "output_type": "stream",
     "text": [
      "1972-01-01 00:00:00-1973-01-01 00:00:00\n"
     ]
    },
    {
     "name": "stderr",
     "output_type": "stream",
     "text": [
      "distributed.utils_perf - WARNING - full garbage collections took 13% CPU time recently (threshold: 10%)\n",
      "distributed.utils_perf - WARNING - full garbage collections took 13% CPU time recently (threshold: 10%)\n",
      "distributed.utils_perf - WARNING - full garbage collections took 23% CPU time recently (threshold: 10%)\n"
     ]
    },
    {
     "name": "stdout",
     "output_type": "stream",
     "text": [
      "1973-01-01 00:00:00-1974-01-01 00:00:00\n"
     ]
    },
    {
     "name": "stderr",
     "output_type": "stream",
     "text": [
      "distributed.utils_perf - WARNING - full garbage collections took 11% CPU time recently (threshold: 10%)\n",
      "distributed.utils_perf - WARNING - full garbage collections took 23% CPU time recently (threshold: 10%)\n"
     ]
    },
    {
     "name": "stdout",
     "output_type": "stream",
     "text": [
      "1974-01-01 00:00:00-1975-01-01 00:00:00\n"
     ]
    },
    {
     "name": "stderr",
     "output_type": "stream",
     "text": [
      "distributed.utils_perf - WARNING - full garbage collections took 24% CPU time recently (threshold: 10%)\n",
      "distributed.utils_perf - WARNING - full garbage collections took 13% CPU time recently (threshold: 10%)\n",
      "distributed.utils_perf - WARNING - full garbage collections took 24% CPU time recently (threshold: 10%)\n"
     ]
    },
    {
     "name": "stdout",
     "output_type": "stream",
     "text": [
      "1975-01-01 00:00:00-1976-01-01 00:00:00\n"
     ]
    },
    {
     "name": "stderr",
     "output_type": "stream",
     "text": [
      "distributed.utils_perf - WARNING - full garbage collections took 13% CPU time recently (threshold: 10%)\n",
      "distributed.utils_perf - WARNING - full garbage collections took 11% CPU time recently (threshold: 10%)\n",
      "distributed.utils_perf - WARNING - full garbage collections took 10% CPU time recently (threshold: 10%)\n",
      "distributed.utils_perf - WARNING - full garbage collections took 24% CPU time recently (threshold: 10%)\n"
     ]
    },
    {
     "name": "stdout",
     "output_type": "stream",
     "text": [
      "1976-01-01 00:00:00-1977-01-01 00:00:00\n"
     ]
    },
    {
     "name": "stderr",
     "output_type": "stream",
     "text": [
      "distributed.utils_perf - WARNING - full garbage collections took 24% CPU time recently (threshold: 10%)\n"
     ]
    },
    {
     "name": "stdout",
     "output_type": "stream",
     "text": [
      "1977-01-01 00:00:00-1978-01-01 00:00:00\n"
     ]
    },
    {
     "name": "stderr",
     "output_type": "stream",
     "text": [
      "distributed.utils_perf - WARNING - full garbage collections took 24% CPU time recently (threshold: 10%)\n"
     ]
    },
    {
     "name": "stdout",
     "output_type": "stream",
     "text": [
      "1978-01-01 00:00:00-1979-01-01 00:00:00\n"
     ]
    },
    {
     "name": "stderr",
     "output_type": "stream",
     "text": [
      "distributed.utils_perf - WARNING - full garbage collections took 12% CPU time recently (threshold: 10%)\n",
      "distributed.utils_perf - WARNING - full garbage collections took 13% CPU time recently (threshold: 10%)\n",
      "distributed.utils_perf - WARNING - full garbage collections took 24% CPU time recently (threshold: 10%)\n",
      "distributed.utils_perf - WARNING - full garbage collections took 24% CPU time recently (threshold: 10%)\n"
     ]
    },
    {
     "name": "stdout",
     "output_type": "stream",
     "text": [
      "1979-01-01 00:00:00-1980-01-01 00:00:00\n"
     ]
    },
    {
     "name": "stderr",
     "output_type": "stream",
     "text": [
      "distributed.utils_perf - WARNING - full garbage collections took 13% CPU time recently (threshold: 10%)\n",
      "distributed.utils_perf - WARNING - full garbage collections took 24% CPU time recently (threshold: 10%)\n"
     ]
    },
    {
     "name": "stdout",
     "output_type": "stream",
     "text": [
      "1980-01-01 00:00:00-1981-01-01 00:00:00\n"
     ]
    },
    {
     "name": "stderr",
     "output_type": "stream",
     "text": [
      "distributed.utils_perf - WARNING - full garbage collections took 12% CPU time recently (threshold: 10%)\n",
      "distributed.utils_perf - WARNING - full garbage collections took 12% CPU time recently (threshold: 10%)\n",
      "distributed.utils_perf - WARNING - full garbage collections took 24% CPU time recently (threshold: 10%)\n"
     ]
    },
    {
     "name": "stdout",
     "output_type": "stream",
     "text": [
      "1981-01-01 00:00:00-1982-01-01 00:00:00\n"
     ]
    },
    {
     "name": "stderr",
     "output_type": "stream",
     "text": [
      "distributed.utils_perf - WARNING - full garbage collections took 24% CPU time recently (threshold: 10%)\n"
     ]
    },
    {
     "name": "stdout",
     "output_type": "stream",
     "text": [
      "1982-01-01 00:00:00-1983-01-01 00:00:00\n"
     ]
    },
    {
     "name": "stderr",
     "output_type": "stream",
     "text": [
      "distributed.utils_perf - WARNING - full garbage collections took 10% CPU time recently (threshold: 10%)\n",
      "distributed.utils_perf - WARNING - full garbage collections took 24% CPU time recently (threshold: 10%)\n",
      "distributed.utils_perf - WARNING - full garbage collections took 12% CPU time recently (threshold: 10%)\n",
      "distributed.utils_perf - WARNING - full garbage collections took 24% CPU time recently (threshold: 10%)\n"
     ]
    },
    {
     "name": "stdout",
     "output_type": "stream",
     "text": [
      "1983-01-01 00:00:00-1984-01-01 00:00:00\n"
     ]
    },
    {
     "name": "stderr",
     "output_type": "stream",
     "text": [
      "distributed.utils_perf - WARNING - full garbage collections took 24% CPU time recently (threshold: 10%)\n"
     ]
    },
    {
     "name": "stdout",
     "output_type": "stream",
     "text": [
      "1984-01-01 00:00:00-1985-01-01 00:00:00\n"
     ]
    },
    {
     "name": "stderr",
     "output_type": "stream",
     "text": [
      "distributed.utils_perf - WARNING - full garbage collections took 12% CPU time recently (threshold: 10%)\n",
      "distributed.utils_perf - WARNING - full garbage collections took 12% CPU time recently (threshold: 10%)\n",
      "distributed.utils_perf - WARNING - full garbage collections took 25% CPU time recently (threshold: 10%)\n"
     ]
    },
    {
     "name": "stdout",
     "output_type": "stream",
     "text": [
      "1985-01-01 00:00:00-1986-01-01 00:00:00\n"
     ]
    },
    {
     "name": "stderr",
     "output_type": "stream",
     "text": [
      "distributed.utils_perf - WARNING - full garbage collections took 12% CPU time recently (threshold: 10%)\n",
      "distributed.utils_perf - WARNING - full garbage collections took 25% CPU time recently (threshold: 10%)\n"
     ]
    },
    {
     "name": "stdout",
     "output_type": "stream",
     "text": [
      "1986-01-01 00:00:00-1987-01-01 00:00:00\n"
     ]
    },
    {
     "name": "stderr",
     "output_type": "stream",
     "text": [
      "distributed.utils_perf - WARNING - full garbage collections took 11% CPU time recently (threshold: 10%)\n",
      "distributed.utils_perf - WARNING - full garbage collections took 25% CPU time recently (threshold: 10%)\n"
     ]
    },
    {
     "name": "stdout",
     "output_type": "stream",
     "text": [
      "1987-01-01 00:00:00-1988-01-01 00:00:00\n"
     ]
    },
    {
     "name": "stderr",
     "output_type": "stream",
     "text": [
      "distributed.utils_perf - WARNING - full garbage collections took 12% CPU time recently (threshold: 10%)\n",
      "distributed.utils_perf - WARNING - full garbage collections took 25% CPU time recently (threshold: 10%)\n",
      "distributed.utils_perf - WARNING - full garbage collections took 11% CPU time recently (threshold: 10%)\n",
      "distributed.utils_perf - WARNING - full garbage collections took 24% CPU time recently (threshold: 10%)\n"
     ]
    },
    {
     "name": "stdout",
     "output_type": "stream",
     "text": [
      "1988-01-01 00:00:00-1989-01-01 00:00:00\n"
     ]
    },
    {
     "name": "stderr",
     "output_type": "stream",
     "text": [
      "distributed.utils_perf - WARNING - full garbage collections took 24% CPU time recently (threshold: 10%)\n"
     ]
    },
    {
     "name": "stdout",
     "output_type": "stream",
     "text": [
      "1989-01-01 00:00:00-1990-01-01 00:00:00\n"
     ]
    },
    {
     "name": "stderr",
     "output_type": "stream",
     "text": [
      "distributed.utils_perf - WARNING - full garbage collections took 11% CPU time recently (threshold: 10%)\n",
      "distributed.utils_perf - WARNING - full garbage collections took 24% CPU time recently (threshold: 10%)\n"
     ]
    },
    {
     "name": "stdout",
     "output_type": "stream",
     "text": [
      "1990-01-01 00:00:00-1991-01-01 00:00:00\n"
     ]
    },
    {
     "name": "stderr",
     "output_type": "stream",
     "text": [
      "distributed.utils_perf - WARNING - full garbage collections took 11% CPU time recently (threshold: 10%)\n",
      "distributed.utils_perf - WARNING - full garbage collections took 25% CPU time recently (threshold: 10%)\n"
     ]
    },
    {
     "name": "stdout",
     "output_type": "stream",
     "text": [
      "1991-01-01 00:00:00-1992-01-01 00:00:00\n"
     ]
    },
    {
     "name": "stderr",
     "output_type": "stream",
     "text": [
      "distributed.utils_perf - WARNING - full garbage collections took 11% CPU time recently (threshold: 10%)\n",
      "distributed.utils_perf - WARNING - full garbage collections took 25% CPU time recently (threshold: 10%)\n",
      "distributed.utils_perf - WARNING - full garbage collections took 11% CPU time recently (threshold: 10%)\n"
     ]
    },
    {
     "name": "stdout",
     "output_type": "stream",
     "text": [
      "1992-01-01 00:00:00-1993-01-01 00:00:00\n"
     ]
    },
    {
     "name": "stderr",
     "output_type": "stream",
     "text": [
      "distributed.utils_perf - WARNING - full garbage collections took 11% CPU time recently (threshold: 10%)\n",
      "distributed.utils_perf - WARNING - full garbage collections took 24% CPU time recently (threshold: 10%)\n",
      "distributed.utils_perf - WARNING - full garbage collections took 24% CPU time recently (threshold: 10%)\n"
     ]
    },
    {
     "name": "stdout",
     "output_type": "stream",
     "text": [
      "1993-01-01 00:00:00-1994-01-01 00:00:00\n"
     ]
    },
    {
     "name": "stderr",
     "output_type": "stream",
     "text": [
      "distributed.utils_perf - WARNING - full garbage collections took 11% CPU time recently (threshold: 10%)\n",
      "distributed.utils_perf - WARNING - full garbage collections took 10% CPU time recently (threshold: 10%)\n",
      "distributed.utils_perf - WARNING - full garbage collections took 25% CPU time recently (threshold: 10%)\n"
     ]
    },
    {
     "name": "stdout",
     "output_type": "stream",
     "text": [
      "1994-01-01 00:00:00-1995-01-01 00:00:00\n"
     ]
    },
    {
     "name": "stderr",
     "output_type": "stream",
     "text": [
      "distributed.utils_perf - WARNING - full garbage collections took 25% CPU time recently (threshold: 10%)\n",
      "distributed.utils_perf - WARNING - full garbage collections took 11% CPU time recently (threshold: 10%)\n"
     ]
    },
    {
     "name": "stdout",
     "output_type": "stream",
     "text": [
      "1995-01-01 00:00:00-1996-01-01 00:00:00\n"
     ]
    },
    {
     "name": "stderr",
     "output_type": "stream",
     "text": [
      "distributed.utils_perf - WARNING - full garbage collections took 25% CPU time recently (threshold: 10%)\n"
     ]
    },
    {
     "name": "stdout",
     "output_type": "stream",
     "text": [
      "1996-01-01 00:00:00-1997-01-01 00:00:00\n"
     ]
    },
    {
     "name": "stderr",
     "output_type": "stream",
     "text": [
      "distributed.utils_perf - WARNING - full garbage collections took 10% CPU time recently (threshold: 10%)\n",
      "distributed.utils_perf - WARNING - full garbage collections took 27% CPU time recently (threshold: 10%)\n"
     ]
    },
    {
     "name": "stdout",
     "output_type": "stream",
     "text": [
      "1997-01-01 00:00:00-1998-01-01 00:00:00\n"
     ]
    },
    {
     "name": "stderr",
     "output_type": "stream",
     "text": [
      "distributed.utils_perf - WARNING - full garbage collections took 27% CPU time recently (threshold: 10%)\n",
      "distributed.utils_perf - WARNING - full garbage collections took 11% CPU time recently (threshold: 10%)\n",
      "distributed.utils_perf - WARNING - full garbage collections took 27% CPU time recently (threshold: 10%)\n",
      "distributed.utils_perf - WARNING - full garbage collections took 11% CPU time recently (threshold: 10%)\n"
     ]
    },
    {
     "name": "stdout",
     "output_type": "stream",
     "text": [
      "1998-01-01 00:00:00-1999-01-01 00:00:00\n"
     ]
    },
    {
     "name": "stderr",
     "output_type": "stream",
     "text": [
      "distributed.utils_perf - WARNING - full garbage collections took 10% CPU time recently (threshold: 10%)\n",
      "distributed.utils_perf - WARNING - full garbage collections took 27% CPU time recently (threshold: 10%)\n"
     ]
    },
    {
     "name": "stdout",
     "output_type": "stream",
     "text": [
      "1999-01-01 00:00:00-2000-01-01 00:00:00\n"
     ]
    },
    {
     "name": "stderr",
     "output_type": "stream",
     "text": [
      "distributed.utils_perf - WARNING - full garbage collections took 27% CPU time recently (threshold: 10%)\n"
     ]
    },
    {
     "name": "stdout",
     "output_type": "stream",
     "text": [
      "2000-01-01 00:00:00-2001-01-01 00:00:00\n"
     ]
    },
    {
     "name": "stderr",
     "output_type": "stream",
     "text": [
      "distributed.utils_perf - WARNING - full garbage collections took 11% CPU time recently (threshold: 10%)\n",
      "distributed.utils_perf - WARNING - full garbage collections took 27% CPU time recently (threshold: 10%)\n"
     ]
    },
    {
     "name": "stdout",
     "output_type": "stream",
     "text": [
      "2001-01-01 00:00:00-2002-01-01 00:00:00\n"
     ]
    },
    {
     "name": "stderr",
     "output_type": "stream",
     "text": [
      "distributed.utils_perf - WARNING - full garbage collections took 10% CPU time recently (threshold: 10%)\n",
      "distributed.utils_perf - WARNING - full garbage collections took 10% CPU time recently (threshold: 10%)\n",
      "distributed.utils_perf - WARNING - full garbage collections took 27% CPU time recently (threshold: 10%)\n"
     ]
    },
    {
     "name": "stdout",
     "output_type": "stream",
     "text": [
      "2002-01-01 00:00:00-2003-01-01 00:00:00\n"
     ]
    },
    {
     "name": "stderr",
     "output_type": "stream",
     "text": [
      "distributed.utils_perf - WARNING - full garbage collections took 10% CPU time recently (threshold: 10%)\n",
      "distributed.utils_perf - WARNING - full garbage collections took 27% CPU time recently (threshold: 10%)\n"
     ]
    },
    {
     "name": "stdout",
     "output_type": "stream",
     "text": [
      "2003-01-01 00:00:00-2004-01-01 00:00:00\n"
     ]
    },
    {
     "name": "stderr",
     "output_type": "stream",
     "text": [
      "distributed.utils_perf - WARNING - full garbage collections took 10% CPU time recently (threshold: 10%)\n",
      "distributed.utils_perf - WARNING - full garbage collections took 27% CPU time recently (threshold: 10%)\n",
      "distributed.utils_perf - WARNING - full garbage collections took 27% CPU time recently (threshold: 10%)\n"
     ]
    },
    {
     "name": "stdout",
     "output_type": "stream",
     "text": [
      "2004-01-01 00:00:00-2005-01-01 00:00:00\n"
     ]
    },
    {
     "name": "stderr",
     "output_type": "stream",
     "text": [
      "distributed.utils_perf - WARNING - full garbage collections took 10% CPU time recently (threshold: 10%)\n",
      "distributed.utils_perf - WARNING - full garbage collections took 27% CPU time recently (threshold: 10%)\n"
     ]
    },
    {
     "name": "stdout",
     "output_type": "stream",
     "text": [
      "2005-01-01 00:00:00-2006-01-01 00:00:00\n"
     ]
    },
    {
     "name": "stderr",
     "output_type": "stream",
     "text": [
      "distributed.utils_perf - WARNING - full garbage collections took 10% CPU time recently (threshold: 10%)\n",
      "distributed.utils_perf - WARNING - full garbage collections took 27% CPU time recently (threshold: 10%)\n"
     ]
    },
    {
     "name": "stdout",
     "output_type": "stream",
     "text": [
      "2006-01-01 00:00:00-2007-01-01 00:00:00\n"
     ]
    },
    {
     "name": "stderr",
     "output_type": "stream",
     "text": [
      "distributed.utils_perf - WARNING - full garbage collections took 10% CPU time recently (threshold: 10%)\n",
      "distributed.utils_perf - WARNING - full garbage collections took 10% CPU time recently (threshold: 10%)\n",
      "distributed.utils_perf - WARNING - full garbage collections took 27% CPU time recently (threshold: 10%)\n"
     ]
    },
    {
     "name": "stdout",
     "output_type": "stream",
     "text": [
      "2007-01-01 00:00:00-2008-01-01 00:00:00\n"
     ]
    },
    {
     "name": "stderr",
     "output_type": "stream",
     "text": [
      "distributed.utils_perf - WARNING - full garbage collections took 27% CPU time recently (threshold: 10%)\n"
     ]
    },
    {
     "name": "stdout",
     "output_type": "stream",
     "text": [
      "2008-01-01 00:00:00-2009-01-01 00:00:00\n"
     ]
    },
    {
     "name": "stderr",
     "output_type": "stream",
     "text": [
      "distributed.utils_perf - WARNING - full garbage collections took 27% CPU time recently (threshold: 10%)\n",
      "distributed.utils_perf - WARNING - full garbage collections took 27% CPU time recently (threshold: 10%)\n"
     ]
    },
    {
     "name": "stdout",
     "output_type": "stream",
     "text": [
      "2009-01-01 00:00:00-2010-01-01 00:00:00\n"
     ]
    },
    {
     "name": "stderr",
     "output_type": "stream",
     "text": [
      "distributed.utils_perf - WARNING - full garbage collections took 27% CPU time recently (threshold: 10%)\n"
     ]
    },
    {
     "name": "stdout",
     "output_type": "stream",
     "text": [
      "2010-01-01 00:00:00-2011-01-01 00:00:00\n"
     ]
    },
    {
     "name": "stderr",
     "output_type": "stream",
     "text": [
      "distributed.utils_perf - WARNING - full garbage collections took 10% CPU time recently (threshold: 10%)\n",
      "distributed.utils_perf - WARNING - full garbage collections took 28% CPU time recently (threshold: 10%)\n"
     ]
    },
    {
     "name": "stdout",
     "output_type": "stream",
     "text": [
      "2011-01-01 00:00:00-2012-01-01 00:00:00\n"
     ]
    },
    {
     "name": "stderr",
     "output_type": "stream",
     "text": [
      "distributed.utils_perf - WARNING - full garbage collections took 28% CPU time recently (threshold: 10%)\n"
     ]
    },
    {
     "name": "stdout",
     "output_type": "stream",
     "text": [
      "2012-01-01 00:00:00-2013-01-01 00:00:00\n"
     ]
    },
    {
     "name": "stderr",
     "output_type": "stream",
     "text": [
      "distributed.utils_perf - WARNING - full garbage collections took 10% CPU time recently (threshold: 10%)\n",
      "distributed.utils_perf - WARNING - full garbage collections took 28% CPU time recently (threshold: 10%)\n"
     ]
    },
    {
     "name": "stdout",
     "output_type": "stream",
     "text": [
      "2013-01-01 00:00:00-2014-01-01 00:00:00\n"
     ]
    },
    {
     "name": "stderr",
     "output_type": "stream",
     "text": [
      "distributed.utils_perf - WARNING - full garbage collections took 27% CPU time recently (threshold: 10%)\n"
     ]
    },
    {
     "name": "stdout",
     "output_type": "stream",
     "text": [
      "2014-01-01 00:00:00-2015-01-01 00:00:00\n"
     ]
    },
    {
     "name": "stderr",
     "output_type": "stream",
     "text": [
      "distributed.utils_perf - WARNING - full garbage collections took 27% CPU time recently (threshold: 10%)\n",
      "distributed.utils_perf - WARNING - full garbage collections took 10% CPU time recently (threshold: 10%)\n",
      "distributed.utils_perf - WARNING - full garbage collections took 27% CPU time recently (threshold: 10%)\n"
     ]
    },
    {
     "name": "stdout",
     "output_type": "stream",
     "text": [
      "2015-01-01 00:00:00-2016-01-01 00:00:00\n"
     ]
    },
    {
     "name": "stderr",
     "output_type": "stream",
     "text": [
      "distributed.utils_perf - WARNING - full garbage collections took 27% CPU time recently (threshold: 10%)\n"
     ]
    },
    {
     "name": "stdout",
     "output_type": "stream",
     "text": [
      "2016-01-01 00:00:00-2017-01-01 00:00:00\n"
     ]
    },
    {
     "name": "stderr",
     "output_type": "stream",
     "text": [
      "distributed.utils_perf - WARNING - full garbage collections took 28% CPU time recently (threshold: 10%)\n"
     ]
    },
    {
     "name": "stdout",
     "output_type": "stream",
     "text": [
      "2017-01-01 00:00:00-2018-01-01 00:00:00\n"
     ]
    },
    {
     "name": "stderr",
     "output_type": "stream",
     "text": [
      "distributed.utils_perf - WARNING - full garbage collections took 28% CPU time recently (threshold: 10%)\n"
     ]
    },
    {
     "name": "stdout",
     "output_type": "stream",
     "text": [
      "2018-01-01 00:00:00-2019-01-01 00:00:00\n"
     ]
    },
    {
     "name": "stderr",
     "output_type": "stream",
     "text": [
      "distributed.utils_perf - WARNING - full garbage collections took 27% CPU time recently (threshold: 10%)\n"
     ]
    },
    {
     "name": "stdout",
     "output_type": "stream",
     "text": [
      "1deg_c2\n",
      "1958-01-01 00:00:00-1959-01-01 00:00:00\n",
      "1959-01-01 00:00:00-1960-01-01 00:00:00\n",
      "1960-01-01 00:00:00-1961-01-01 00:00:00\n",
      "1961-01-01 00:00:00-1962-01-01 00:00:00\n"
     ]
    },
    {
     "name": "stderr",
     "output_type": "stream",
     "text": [
      "distributed.utils_perf - WARNING - full garbage collections took 27% CPU time recently (threshold: 10%)\n"
     ]
    },
    {
     "name": "stdout",
     "output_type": "stream",
     "text": [
      "1962-01-01 00:00:00-1963-01-01 00:00:00\n",
      "1963-01-01 00:00:00-1964-01-01 00:00:00\n",
      "1964-01-01 00:00:00-1965-01-01 00:00:00\n",
      "1965-01-01 00:00:00-1966-01-01 00:00:00\n",
      "1966-01-01 00:00:00-1967-01-01 00:00:00\n",
      "1967-01-01 00:00:00-1968-01-01 00:00:00\n",
      "1968-01-01 00:00:00-1969-01-01 00:00:00\n",
      "1969-01-01 00:00:00-1970-01-01 00:00:00\n",
      "1970-01-01 00:00:00-1971-01-01 00:00:00\n",
      "1971-01-01 00:00:00-1972-01-01 00:00:00\n",
      "1972-01-01 00:00:00-1973-01-01 00:00:00\n",
      "1973-01-01 00:00:00-1974-01-01 00:00:00\n",
      "1974-01-01 00:00:00-1975-01-01 00:00:00\n",
      "1975-01-01 00:00:00-1976-01-01 00:00:00\n",
      "1976-01-01 00:00:00-1977-01-01 00:00:00\n",
      "1977-01-01 00:00:00-1978-01-01 00:00:00\n",
      "1978-01-01 00:00:00-1979-01-01 00:00:00\n",
      "1979-01-01 00:00:00-1980-01-01 00:00:00\n",
      "1980-01-01 00:00:00-1981-01-01 00:00:00\n",
      "1981-01-01 00:00:00-1982-01-01 00:00:00\n",
      "1982-01-01 00:00:00-1983-01-01 00:00:00\n",
      "1983-01-01 00:00:00-1984-01-01 00:00:00\n",
      "1984-01-01 00:00:00-1985-01-01 00:00:00\n",
      "1985-01-01 00:00:00-1986-01-01 00:00:00\n",
      "1986-01-01 00:00:00-1987-01-01 00:00:00\n",
      "1987-01-01 00:00:00-1988-01-01 00:00:00\n",
      "1988-01-01 00:00:00-1989-01-01 00:00:00\n",
      "1989-01-01 00:00:00-1990-01-01 00:00:00\n"
     ]
    },
    {
     "name": "stderr",
     "output_type": "stream",
     "text": [
      "distributed.utils_perf - WARNING - full garbage collections took 24% CPU time recently (threshold: 10%)\n"
     ]
    },
    {
     "name": "stdout",
     "output_type": "stream",
     "text": [
      "1990-01-01 00:00:00-1991-01-01 00:00:00\n",
      "1991-01-01 00:00:00-1992-01-01 00:00:00\n",
      "1992-01-01 00:00:00-1993-01-01 00:00:00\n",
      "1993-01-01 00:00:00-1994-01-01 00:00:00\n",
      "1994-01-01 00:00:00-1995-01-01 00:00:00\n",
      "1995-01-01 00:00:00-1996-01-01 00:00:00\n",
      "1996-01-01 00:00:00-1997-01-01 00:00:00\n",
      "1997-01-01 00:00:00-1998-01-01 00:00:00\n",
      "1998-01-01 00:00:00-1999-01-01 00:00:00\n",
      "1999-01-01 00:00:00-2000-01-01 00:00:00\n",
      "2000-01-01 00:00:00-2001-01-01 00:00:00\n",
      "2001-01-01 00:00:00-2002-01-01 00:00:00\n",
      "2002-01-01 00:00:00-2003-01-01 00:00:00\n",
      "2003-01-01 00:00:00-2004-01-01 00:00:00\n",
      "2004-01-01 00:00:00-2005-01-01 00:00:00\n",
      "2005-01-01 00:00:00-2006-01-01 00:00:00\n",
      "2006-01-01 00:00:00-2007-01-01 00:00:00\n",
      "2007-01-01 00:00:00-2008-01-01 00:00:00\n",
      "2008-01-01 00:00:00-2009-01-01 00:00:00\n",
      "2009-01-01 00:00:00-2010-01-01 00:00:00\n",
      "2010-01-01 00:00:00-2011-01-01 00:00:00\n",
      "2011-01-01 00:00:00-2012-01-01 00:00:00\n",
      "2012-01-01 00:00:00-2013-01-01 00:00:00\n",
      "2013-01-01 00:00:00-2014-01-01 00:00:00\n",
      "2014-01-01 00:00:00-2015-01-01 00:00:00\n",
      "2015-01-01 00:00:00-2016-01-01 00:00:00\n",
      "2016-01-01 00:00:00-2017-01-01 00:00:00\n",
      "2017-01-01 00:00:00-2018-01-01 00:00:00\n",
      "2018-01-01 00:00:00-2019-01-01 00:00:00\n"
     ]
    },
    {
     "name": "stderr",
     "output_type": "stream",
     "text": [
      "distributed.utils_perf - WARNING - full garbage collections took 21% CPU time recently (threshold: 10%)\n"
     ]
    },
    {
     "name": "stdout",
     "output_type": "stream",
     "text": [
      "025deg_c2\n",
      "1958-01-01 00:00:00-1959-01-01 00:00:00\n",
      "1959-01-01 00:00:00-1960-01-01 00:00:00\n",
      "1960-01-01 00:00:00-1961-01-01 00:00:00\n",
      "1961-01-01 00:00:00-1962-01-01 00:00:00\n"
     ]
    },
    {
     "name": "stderr",
     "output_type": "stream",
     "text": [
      "distributed.utils_perf - WARNING - full garbage collections took 21% CPU time recently (threshold: 10%)\n"
     ]
    },
    {
     "name": "stdout",
     "output_type": "stream",
     "text": [
      "1962-01-01 00:00:00-1963-01-01 00:00:00\n",
      "1963-01-01 00:00:00-1964-01-01 00:00:00\n",
      "1964-01-01 00:00:00-1965-01-01 00:00:00\n"
     ]
    },
    {
     "name": "stderr",
     "output_type": "stream",
     "text": [
      "distributed.utils_perf - WARNING - full garbage collections took 21% CPU time recently (threshold: 10%)\n"
     ]
    },
    {
     "name": "stdout",
     "output_type": "stream",
     "text": [
      "1965-01-01 00:00:00-1966-01-01 00:00:00\n",
      "1966-01-01 00:00:00-1967-01-01 00:00:00\n",
      "1967-01-01 00:00:00-1968-01-01 00:00:00\n",
      "1968-01-01 00:00:00-1969-01-01 00:00:00\n"
     ]
    },
    {
     "name": "stderr",
     "output_type": "stream",
     "text": [
      "distributed.utils_perf - WARNING - full garbage collections took 20% CPU time recently (threshold: 10%)\n"
     ]
    },
    {
     "name": "stdout",
     "output_type": "stream",
     "text": [
      "1969-01-01 00:00:00-1970-01-01 00:00:00\n",
      "1970-01-01 00:00:00-1971-01-01 00:00:00\n",
      "1971-01-01 00:00:00-1972-01-01 00:00:00\n"
     ]
    },
    {
     "name": "stderr",
     "output_type": "stream",
     "text": [
      "distributed.utils_perf - WARNING - full garbage collections took 20% CPU time recently (threshold: 10%)\n"
     ]
    },
    {
     "name": "stdout",
     "output_type": "stream",
     "text": [
      "1972-01-01 00:00:00-1973-01-01 00:00:00\n",
      "1973-01-01 00:00:00-1974-01-01 00:00:00\n",
      "1974-01-01 00:00:00-1975-01-01 00:00:00\n"
     ]
    },
    {
     "name": "stderr",
     "output_type": "stream",
     "text": [
      "distributed.utils_perf - WARNING - full garbage collections took 21% CPU time recently (threshold: 10%)\n"
     ]
    },
    {
     "name": "stdout",
     "output_type": "stream",
     "text": [
      "1975-01-01 00:00:00-1976-01-01 00:00:00\n",
      "1976-01-01 00:00:00-1977-01-01 00:00:00\n",
      "1977-01-01 00:00:00-1978-01-01 00:00:00\n",
      "1978-01-01 00:00:00-1979-01-01 00:00:00\n"
     ]
    },
    {
     "name": "stderr",
     "output_type": "stream",
     "text": [
      "distributed.utils_perf - WARNING - full garbage collections took 21% CPU time recently (threshold: 10%)\n"
     ]
    },
    {
     "name": "stdout",
     "output_type": "stream",
     "text": [
      "1979-01-01 00:00:00-1980-01-01 00:00:00\n",
      "1980-01-01 00:00:00-1981-01-01 00:00:00\n",
      "1981-01-01 00:00:00-1982-01-01 00:00:00\n"
     ]
    },
    {
     "name": "stderr",
     "output_type": "stream",
     "text": [
      "distributed.utils_perf - WARNING - full garbage collections took 20% CPU time recently (threshold: 10%)\n"
     ]
    },
    {
     "name": "stdout",
     "output_type": "stream",
     "text": [
      "1982-01-01 00:00:00-1983-01-01 00:00:00\n",
      "1983-01-01 00:00:00-1984-01-01 00:00:00\n",
      "1984-01-01 00:00:00-1985-01-01 00:00:00\n",
      "1985-01-01 00:00:00-1986-01-01 00:00:00\n"
     ]
    },
    {
     "name": "stderr",
     "output_type": "stream",
     "text": [
      "distributed.utils_perf - WARNING - full garbage collections took 20% CPU time recently (threshold: 10%)\n"
     ]
    },
    {
     "name": "stdout",
     "output_type": "stream",
     "text": [
      "1986-01-01 00:00:00-1987-01-01 00:00:00\n",
      "1987-01-01 00:00:00-1988-01-01 00:00:00\n",
      "1988-01-01 00:00:00-1989-01-01 00:00:00\n"
     ]
    },
    {
     "name": "stderr",
     "output_type": "stream",
     "text": [
      "distributed.utils_perf - WARNING - full garbage collections took 20% CPU time recently (threshold: 10%)\n"
     ]
    },
    {
     "name": "stdout",
     "output_type": "stream",
     "text": [
      "1989-01-01 00:00:00-1990-01-01 00:00:00\n",
      "1990-01-01 00:00:00-1991-01-01 00:00:00\n",
      "1991-01-01 00:00:00-1992-01-01 00:00:00\n",
      "1992-01-01 00:00:00-1993-01-01 00:00:00\n"
     ]
    },
    {
     "name": "stderr",
     "output_type": "stream",
     "text": [
      "distributed.utils_perf - WARNING - full garbage collections took 20% CPU time recently (threshold: 10%)\n"
     ]
    },
    {
     "name": "stdout",
     "output_type": "stream",
     "text": [
      "1993-01-01 00:00:00-1994-01-01 00:00:00\n",
      "1994-01-01 00:00:00-1995-01-01 00:00:00\n",
      "1995-01-01 00:00:00-1996-01-01 00:00:00\n"
     ]
    },
    {
     "name": "stderr",
     "output_type": "stream",
     "text": [
      "distributed.utils_perf - WARNING - full garbage collections took 20% CPU time recently (threshold: 10%)\n"
     ]
    },
    {
     "name": "stdout",
     "output_type": "stream",
     "text": [
      "1996-01-01 00:00:00-1997-01-01 00:00:00\n",
      "1997-01-01 00:00:00-1998-01-01 00:00:00\n",
      "1998-01-01 00:00:00-1999-01-01 00:00:00\n",
      "1999-01-01 00:00:00-2000-01-01 00:00:00\n"
     ]
    },
    {
     "name": "stderr",
     "output_type": "stream",
     "text": [
      "distributed.utils_perf - WARNING - full garbage collections took 20% CPU time recently (threshold: 10%)\n"
     ]
    },
    {
     "name": "stdout",
     "output_type": "stream",
     "text": [
      "2000-01-01 00:00:00-2001-01-01 00:00:00\n",
      "2001-01-01 00:00:00-2002-01-01 00:00:00\n",
      "2002-01-01 00:00:00-2003-01-01 00:00:00\n"
     ]
    },
    {
     "name": "stderr",
     "output_type": "stream",
     "text": [
      "distributed.utils_perf - WARNING - full garbage collections took 20% CPU time recently (threshold: 10%)\n"
     ]
    },
    {
     "name": "stdout",
     "output_type": "stream",
     "text": [
      "2003-01-01 00:00:00-2004-01-01 00:00:00\n",
      "2004-01-01 00:00:00-2005-01-01 00:00:00\n",
      "2005-01-01 00:00:00-2006-01-01 00:00:00\n",
      "2006-01-01 00:00:00-2007-01-01 00:00:00\n"
     ]
    },
    {
     "name": "stderr",
     "output_type": "stream",
     "text": [
      "distributed.utils_perf - WARNING - full garbage collections took 20% CPU time recently (threshold: 10%)\n"
     ]
    },
    {
     "name": "stdout",
     "output_type": "stream",
     "text": [
      "2007-01-01 00:00:00-2008-01-01 00:00:00\n",
      "2008-01-01 00:00:00-2009-01-01 00:00:00\n",
      "2009-01-01 00:00:00-2010-01-01 00:00:00\n"
     ]
    },
    {
     "name": "stderr",
     "output_type": "stream",
     "text": [
      "distributed.utils_perf - WARNING - full garbage collections took 20% CPU time recently (threshold: 10%)\n"
     ]
    },
    {
     "name": "stdout",
     "output_type": "stream",
     "text": [
      "2010-01-01 00:00:00-2011-01-01 00:00:00\n",
      "2011-01-01 00:00:00-2012-01-01 00:00:00\n",
      "2012-01-01 00:00:00-2013-01-01 00:00:00\n",
      "2013-01-01 00:00:00-2014-01-01 00:00:00\n"
     ]
    },
    {
     "name": "stderr",
     "output_type": "stream",
     "text": [
      "distributed.utils_perf - WARNING - full garbage collections took 19% CPU time recently (threshold: 10%)\n"
     ]
    },
    {
     "name": "stdout",
     "output_type": "stream",
     "text": [
      "2014-01-01 00:00:00-2015-01-01 00:00:00\n",
      "2015-01-01 00:00:00-2016-01-01 00:00:00\n",
      "2016-01-01 00:00:00-2017-01-01 00:00:00\n"
     ]
    },
    {
     "name": "stderr",
     "output_type": "stream",
     "text": [
      "distributed.utils_perf - WARNING - full garbage collections took 19% CPU time recently (threshold: 10%)\n"
     ]
    },
    {
     "name": "stdout",
     "output_type": "stream",
     "text": [
      "2017-01-01 00:00:00-2018-01-01 00:00:00\n",
      "2018-01-01 00:00:00-2019-01-01 00:00:00\n",
      "01deg_c2\n",
      "1958-01-01 00:00:00-1959-01-01 00:00:00\n"
     ]
    },
    {
     "name": "stderr",
     "output_type": "stream",
     "text": [
      "distributed.utils_perf - WARNING - full garbage collections took 19% CPU time recently (threshold: 10%)\n"
     ]
    },
    {
     "name": "stdout",
     "output_type": "stream",
     "text": [
      "1959-01-01 00:00:00-1960-01-01 00:00:00\n"
     ]
    },
    {
     "name": "stderr",
     "output_type": "stream",
     "text": [
      "distributed.utils_perf - WARNING - full garbage collections took 19% CPU time recently (threshold: 10%)\n"
     ]
    },
    {
     "name": "stdout",
     "output_type": "stream",
     "text": [
      "1960-01-01 00:00:00-1961-01-01 00:00:00\n"
     ]
    },
    {
     "name": "stderr",
     "output_type": "stream",
     "text": [
      "distributed.utils_perf - WARNING - full garbage collections took 19% CPU time recently (threshold: 10%)\n"
     ]
    },
    {
     "name": "stdout",
     "output_type": "stream",
     "text": [
      "1961-01-01 00:00:00-1962-01-01 00:00:00\n",
      "1962-01-01 00:00:00-1963-01-01 00:00:00\n"
     ]
    },
    {
     "name": "stderr",
     "output_type": "stream",
     "text": [
      "distributed.utils_perf - WARNING - full garbage collections took 10% CPU time recently (threshold: 10%)\n",
      "distributed.utils_perf - WARNING - full garbage collections took 19% CPU time recently (threshold: 10%)\n"
     ]
    },
    {
     "name": "stdout",
     "output_type": "stream",
     "text": [
      "1963-01-01 00:00:00-1964-01-01 00:00:00\n"
     ]
    },
    {
     "name": "stderr",
     "output_type": "stream",
     "text": [
      "distributed.utils_perf - WARNING - full garbage collections took 19% CPU time recently (threshold: 10%)\n"
     ]
    },
    {
     "name": "stdout",
     "output_type": "stream",
     "text": [
      "1964-01-01 00:00:00-1965-01-01 00:00:00\n"
     ]
    },
    {
     "name": "stderr",
     "output_type": "stream",
     "text": [
      "distributed.utils_perf - WARNING - full garbage collections took 19% CPU time recently (threshold: 10%)\n"
     ]
    },
    {
     "name": "stdout",
     "output_type": "stream",
     "text": [
      "1965-01-01 00:00:00-1966-01-01 00:00:00\n"
     ]
    },
    {
     "name": "stderr",
     "output_type": "stream",
     "text": [
      "distributed.utils_perf - WARNING - full garbage collections took 19% CPU time recently (threshold: 10%)\n"
     ]
    },
    {
     "name": "stdout",
     "output_type": "stream",
     "text": [
      "1966-01-01 00:00:00-1967-01-01 00:00:00\n"
     ]
    },
    {
     "name": "stderr",
     "output_type": "stream",
     "text": [
      "distributed.utils_perf - WARNING - full garbage collections took 20% CPU time recently (threshold: 10%)\n"
     ]
    },
    {
     "name": "stdout",
     "output_type": "stream",
     "text": [
      "1967-01-01 00:00:00-1968-01-01 00:00:00\n"
     ]
    },
    {
     "name": "stderr",
     "output_type": "stream",
     "text": [
      "distributed.utils_perf - WARNING - full garbage collections took 20% CPU time recently (threshold: 10%)\n"
     ]
    },
    {
     "name": "stdout",
     "output_type": "stream",
     "text": [
      "1968-01-01 00:00:00-1969-01-01 00:00:00\n"
     ]
    },
    {
     "name": "stderr",
     "output_type": "stream",
     "text": [
      "distributed.utils_perf - WARNING - full garbage collections took 20% CPU time recently (threshold: 10%)\n"
     ]
    },
    {
     "name": "stdout",
     "output_type": "stream",
     "text": [
      "1969-01-01 00:00:00-1970-01-01 00:00:00\n"
     ]
    },
    {
     "name": "stderr",
     "output_type": "stream",
     "text": [
      "distributed.utils_perf - WARNING - full garbage collections took 20% CPU time recently (threshold: 10%)\n"
     ]
    },
    {
     "name": "stdout",
     "output_type": "stream",
     "text": [
      "1970-01-01 00:00:00-1971-01-01 00:00:00\n"
     ]
    },
    {
     "name": "stderr",
     "output_type": "stream",
     "text": [
      "distributed.utils_perf - WARNING - full garbage collections took 10% CPU time recently (threshold: 10%)\n",
      "distributed.utils_perf - WARNING - full garbage collections took 20% CPU time recently (threshold: 10%)\n"
     ]
    },
    {
     "name": "stdout",
     "output_type": "stream",
     "text": [
      "1971-01-01 00:00:00-1972-01-01 00:00:00\n",
      "1972-01-01 00:00:00-1973-01-01 00:00:00\n"
     ]
    },
    {
     "name": "stderr",
     "output_type": "stream",
     "text": [
      "distributed.utils_perf - WARNING - full garbage collections took 20% CPU time recently (threshold: 10%)\n"
     ]
    },
    {
     "name": "stdout",
     "output_type": "stream",
     "text": [
      "1973-01-01 00:00:00-1974-01-01 00:00:00\n"
     ]
    },
    {
     "name": "stderr",
     "output_type": "stream",
     "text": [
      "distributed.utils_perf - WARNING - full garbage collections took 20% CPU time recently (threshold: 10%)\n"
     ]
    },
    {
     "name": "stdout",
     "output_type": "stream",
     "text": [
      "1974-01-01 00:00:00-1975-01-01 00:00:00\n"
     ]
    },
    {
     "name": "stderr",
     "output_type": "stream",
     "text": [
      "distributed.utils_perf - WARNING - full garbage collections took 20% CPU time recently (threshold: 10%)\n"
     ]
    },
    {
     "name": "stdout",
     "output_type": "stream",
     "text": [
      "1975-01-01 00:00:00-1976-01-01 00:00:00\n"
     ]
    },
    {
     "name": "stderr",
     "output_type": "stream",
     "text": [
      "distributed.utils_perf - WARNING - full garbage collections took 20% CPU time recently (threshold: 10%)\n"
     ]
    },
    {
     "name": "stdout",
     "output_type": "stream",
     "text": [
      "1976-01-01 00:00:00-1977-01-01 00:00:00\n"
     ]
    },
    {
     "name": "stderr",
     "output_type": "stream",
     "text": [
      "distributed.utils_perf - WARNING - full garbage collections took 20% CPU time recently (threshold: 10%)\n"
     ]
    },
    {
     "name": "stdout",
     "output_type": "stream",
     "text": [
      "1977-01-01 00:00:00-1978-01-01 00:00:00\n"
     ]
    },
    {
     "name": "stderr",
     "output_type": "stream",
     "text": [
      "distributed.utils_perf - WARNING - full garbage collections took 20% CPU time recently (threshold: 10%)\n"
     ]
    },
    {
     "name": "stdout",
     "output_type": "stream",
     "text": [
      "1978-01-01 00:00:00-1979-01-01 00:00:00\n"
     ]
    },
    {
     "name": "stderr",
     "output_type": "stream",
     "text": [
      "distributed.utils_perf - WARNING - full garbage collections took 20% CPU time recently (threshold: 10%)\n"
     ]
    },
    {
     "name": "stdout",
     "output_type": "stream",
     "text": [
      "1979-01-01 00:00:00-1980-01-01 00:00:00\n"
     ]
    },
    {
     "name": "stderr",
     "output_type": "stream",
     "text": [
      "distributed.utils_perf - WARNING - full garbage collections took 10% CPU time recently (threshold: 10%)\n",
      "distributed.utils_perf - WARNING - full garbage collections took 20% CPU time recently (threshold: 10%)\n"
     ]
    },
    {
     "name": "stdout",
     "output_type": "stream",
     "text": [
      "1980-01-01 00:00:00-1981-01-01 00:00:00\n"
     ]
    },
    {
     "name": "stderr",
     "output_type": "stream",
     "text": [
      "distributed.utils_perf - WARNING - full garbage collections took 20% CPU time recently (threshold: 10%)\n"
     ]
    },
    {
     "name": "stdout",
     "output_type": "stream",
     "text": [
      "1981-01-01 00:00:00-1982-01-01 00:00:00\n",
      "1982-01-01 00:00:00-1983-01-01 00:00:00\n"
     ]
    },
    {
     "name": "stderr",
     "output_type": "stream",
     "text": [
      "distributed.utils_perf - WARNING - full garbage collections took 20% CPU time recently (threshold: 10%)\n"
     ]
    },
    {
     "name": "stdout",
     "output_type": "stream",
     "text": [
      "1983-01-01 00:00:00-1984-01-01 00:00:00\n"
     ]
    },
    {
     "name": "stderr",
     "output_type": "stream",
     "text": [
      "distributed.utils_perf - WARNING - full garbage collections took 20% CPU time recently (threshold: 10%)\n"
     ]
    },
    {
     "name": "stdout",
     "output_type": "stream",
     "text": [
      "1984-01-01 00:00:00-1985-01-01 00:00:00\n"
     ]
    },
    {
     "name": "stderr",
     "output_type": "stream",
     "text": [
      "distributed.utils_perf - WARNING - full garbage collections took 21% CPU time recently (threshold: 10%)\n"
     ]
    },
    {
     "name": "stdout",
     "output_type": "stream",
     "text": [
      "1985-01-01 00:00:00-1986-01-01 00:00:00\n"
     ]
    },
    {
     "name": "stderr",
     "output_type": "stream",
     "text": [
      "distributed.utils_perf - WARNING - full garbage collections took 21% CPU time recently (threshold: 10%)\n"
     ]
    },
    {
     "name": "stdout",
     "output_type": "stream",
     "text": [
      "1986-01-01 00:00:00-1987-01-01 00:00:00\n"
     ]
    },
    {
     "name": "stderr",
     "output_type": "stream",
     "text": [
      "distributed.utils_perf - WARNING - full garbage collections took 21% CPU time recently (threshold: 10%)\n"
     ]
    },
    {
     "name": "stdout",
     "output_type": "stream",
     "text": [
      "1987-01-01 00:00:00-1988-01-01 00:00:00\n"
     ]
    },
    {
     "name": "stderr",
     "output_type": "stream",
     "text": [
      "distributed.utils_perf - WARNING - full garbage collections took 10% CPU time recently (threshold: 10%)\n",
      "distributed.utils_perf - WARNING - full garbage collections took 21% CPU time recently (threshold: 10%)\n"
     ]
    },
    {
     "name": "stdout",
     "output_type": "stream",
     "text": [
      "1988-01-01 00:00:00-1989-01-01 00:00:00\n"
     ]
    },
    {
     "name": "stderr",
     "output_type": "stream",
     "text": [
      "distributed.utils_perf - WARNING - full garbage collections took 22% CPU time recently (threshold: 10%)\n"
     ]
    },
    {
     "name": "stdout",
     "output_type": "stream",
     "text": [
      "1989-01-01 00:00:00-1990-01-01 00:00:00\n"
     ]
    },
    {
     "name": "stderr",
     "output_type": "stream",
     "text": [
      "distributed.utils_perf - WARNING - full garbage collections took 24% CPU time recently (threshold: 10%)\n"
     ]
    },
    {
     "name": "stdout",
     "output_type": "stream",
     "text": [
      "1990-01-01 00:00:00-1991-01-01 00:00:00\n"
     ]
    },
    {
     "name": "stderr",
     "output_type": "stream",
     "text": [
      "distributed.utils_perf - WARNING - full garbage collections took 28% CPU time recently (threshold: 10%)\n"
     ]
    },
    {
     "name": "stdout",
     "output_type": "stream",
     "text": [
      "1991-01-01 00:00:00-1992-01-01 00:00:00\n",
      "1992-01-01 00:00:00-1993-01-01 00:00:00\n"
     ]
    },
    {
     "name": "stderr",
     "output_type": "stream",
     "text": [
      "distributed.utils_perf - WARNING - full garbage collections took 29% CPU time recently (threshold: 10%)\n"
     ]
    },
    {
     "name": "stdout",
     "output_type": "stream",
     "text": [
      "1993-01-01 00:00:00-1994-01-01 00:00:00\n"
     ]
    },
    {
     "name": "stderr",
     "output_type": "stream",
     "text": [
      "distributed.utils_perf - WARNING - full garbage collections took 30% CPU time recently (threshold: 10%)\n"
     ]
    },
    {
     "name": "stdout",
     "output_type": "stream",
     "text": [
      "1994-01-01 00:00:00-1995-01-01 00:00:00\n"
     ]
    },
    {
     "name": "stderr",
     "output_type": "stream",
     "text": [
      "distributed.utils_perf - WARNING - full garbage collections took 31% CPU time recently (threshold: 10%)\n"
     ]
    },
    {
     "name": "stdout",
     "output_type": "stream",
     "text": [
      "1995-01-01 00:00:00-1996-01-01 00:00:00\n"
     ]
    },
    {
     "name": "stderr",
     "output_type": "stream",
     "text": [
      "distributed.utils_perf - WARNING - full garbage collections took 31% CPU time recently (threshold: 10%)\n"
     ]
    },
    {
     "name": "stdout",
     "output_type": "stream",
     "text": [
      "1996-01-01 00:00:00-1997-01-01 00:00:00\n"
     ]
    },
    {
     "name": "stderr",
     "output_type": "stream",
     "text": [
      "distributed.utils_perf - WARNING - full garbage collections took 32% CPU time recently (threshold: 10%)\n"
     ]
    },
    {
     "name": "stdout",
     "output_type": "stream",
     "text": [
      "1997-01-01 00:00:00-1998-01-01 00:00:00\n"
     ]
    },
    {
     "name": "stderr",
     "output_type": "stream",
     "text": [
      "distributed.utils_perf - WARNING - full garbage collections took 10% CPU time recently (threshold: 10%)\n",
      "distributed.utils_perf - WARNING - full garbage collections took 10% CPU time recently (threshold: 10%)\n",
      "distributed.utils_perf - WARNING - full garbage collections took 33% CPU time recently (threshold: 10%)\n"
     ]
    },
    {
     "name": "stdout",
     "output_type": "stream",
     "text": [
      "1998-01-01 00:00:00-1999-01-01 00:00:00\n"
     ]
    },
    {
     "name": "stderr",
     "output_type": "stream",
     "text": [
      "distributed.utils_perf - WARNING - full garbage collections took 33% CPU time recently (threshold: 10%)\n"
     ]
    },
    {
     "name": "stdout",
     "output_type": "stream",
     "text": [
      "1999-01-01 00:00:00-2000-01-01 00:00:00\n"
     ]
    },
    {
     "name": "stderr",
     "output_type": "stream",
     "text": [
      "distributed.utils_perf - WARNING - full garbage collections took 33% CPU time recently (threshold: 10%)\n"
     ]
    },
    {
     "name": "stdout",
     "output_type": "stream",
     "text": [
      "2000-01-01 00:00:00-2001-01-01 00:00:00\n",
      "2001-01-01 00:00:00-2002-01-01 00:00:00\n"
     ]
    },
    {
     "name": "stderr",
     "output_type": "stream",
     "text": [
      "distributed.utils_perf - WARNING - full garbage collections took 33% CPU time recently (threshold: 10%)\n"
     ]
    },
    {
     "name": "stdout",
     "output_type": "stream",
     "text": [
      "2002-01-01 00:00:00-2003-01-01 00:00:00\n"
     ]
    },
    {
     "name": "stderr",
     "output_type": "stream",
     "text": [
      "distributed.utils_perf - WARNING - full garbage collections took 34% CPU time recently (threshold: 10%)\n"
     ]
    },
    {
     "name": "stdout",
     "output_type": "stream",
     "text": [
      "2003-01-01 00:00:00-2004-01-01 00:00:00\n"
     ]
    },
    {
     "name": "stderr",
     "output_type": "stream",
     "text": [
      "distributed.utils_perf - WARNING - full garbage collections took 36% CPU time recently (threshold: 10%)\n"
     ]
    },
    {
     "name": "stdout",
     "output_type": "stream",
     "text": [
      "2004-01-01 00:00:00-2005-01-01 00:00:00\n"
     ]
    },
    {
     "name": "stderr",
     "output_type": "stream",
     "text": [
      "distributed.utils_perf - WARNING - full garbage collections took 36% CPU time recently (threshold: 10%)\n",
      "distributed.utils_perf - WARNING - full garbage collections took 11% CPU time recently (threshold: 10%)\n"
     ]
    },
    {
     "name": "stdout",
     "output_type": "stream",
     "text": [
      "2005-01-01 00:00:00-2006-01-01 00:00:00\n"
     ]
    },
    {
     "name": "stderr",
     "output_type": "stream",
     "text": [
      "distributed.utils_perf - WARNING - full garbage collections took 36% CPU time recently (threshold: 10%)\n"
     ]
    },
    {
     "name": "stdout",
     "output_type": "stream",
     "text": [
      "2006-01-01 00:00:00-2007-01-01 00:00:00\n"
     ]
    },
    {
     "name": "stderr",
     "output_type": "stream",
     "text": [
      "distributed.utils_perf - WARNING - full garbage collections took 10% CPU time recently (threshold: 10%)\n",
      "distributed.utils_perf - WARNING - full garbage collections took 36% CPU time recently (threshold: 10%)\n"
     ]
    },
    {
     "name": "stdout",
     "output_type": "stream",
     "text": [
      "2007-01-01 00:00:00-2008-01-01 00:00:00\n"
     ]
    },
    {
     "name": "stderr",
     "output_type": "stream",
     "text": [
      "distributed.utils_perf - WARNING - full garbage collections took 36% CPU time recently (threshold: 10%)\n"
     ]
    },
    {
     "name": "stdout",
     "output_type": "stream",
     "text": [
      "2008-01-01 00:00:00-2009-01-01 00:00:00\n"
     ]
    },
    {
     "name": "stderr",
     "output_type": "stream",
     "text": [
      "distributed.utils_perf - WARNING - full garbage collections took 36% CPU time recently (threshold: 10%)\n"
     ]
    },
    {
     "name": "stdout",
     "output_type": "stream",
     "text": [
      "2009-01-01 00:00:00-2010-01-01 00:00:00\n",
      "2010-01-01 00:00:00-2011-01-01 00:00:00\n"
     ]
    },
    {
     "name": "stderr",
     "output_type": "stream",
     "text": [
      "distributed.utils_perf - WARNING - full garbage collections took 36% CPU time recently (threshold: 10%)\n"
     ]
    },
    {
     "name": "stdout",
     "output_type": "stream",
     "text": [
      "2011-01-01 00:00:00-2012-01-01 00:00:00\n"
     ]
    },
    {
     "name": "stderr",
     "output_type": "stream",
     "text": [
      "distributed.utils_perf - WARNING - full garbage collections took 36% CPU time recently (threshold: 10%)\n",
      "distributed.utils_perf - WARNING - full garbage collections took 11% CPU time recently (threshold: 10%)\n",
      "distributed.utils_perf - WARNING - full garbage collections took 11% CPU time recently (threshold: 10%)\n"
     ]
    },
    {
     "name": "stdout",
     "output_type": "stream",
     "text": [
      "2012-01-01 00:00:00-2013-01-01 00:00:00\n"
     ]
    },
    {
     "name": "stderr",
     "output_type": "stream",
     "text": [
      "distributed.utils_perf - WARNING - full garbage collections took 37% CPU time recently (threshold: 10%)\n"
     ]
    },
    {
     "name": "stdout",
     "output_type": "stream",
     "text": [
      "2013-01-01 00:00:00-2014-01-01 00:00:00\n"
     ]
    },
    {
     "name": "stderr",
     "output_type": "stream",
     "text": [
      "distributed.utils_perf - WARNING - full garbage collections took 37% CPU time recently (threshold: 10%)\n"
     ]
    },
    {
     "name": "stdout",
     "output_type": "stream",
     "text": [
      "2014-01-01 00:00:00-2015-01-01 00:00:00\n"
     ]
    },
    {
     "name": "stderr",
     "output_type": "stream",
     "text": [
      "distributed.utils_perf - WARNING - full garbage collections took 36% CPU time recently (threshold: 10%)\n"
     ]
    },
    {
     "name": "stdout",
     "output_type": "stream",
     "text": [
      "2015-01-01 00:00:00-2016-01-01 00:00:00\n"
     ]
    },
    {
     "name": "stderr",
     "output_type": "stream",
     "text": [
      "distributed.utils_perf - WARNING - full garbage collections took 36% CPU time recently (threshold: 10%)\n"
     ]
    },
    {
     "name": "stdout",
     "output_type": "stream",
     "text": [
      "2016-01-01 00:00:00-2017-01-01 00:00:00\n"
     ]
    },
    {
     "name": "stderr",
     "output_type": "stream",
     "text": [
      "distributed.utils_perf - WARNING - full garbage collections took 36% CPU time recently (threshold: 10%)\n"
     ]
    },
    {
     "name": "stdout",
     "output_type": "stream",
     "text": [
      "2017-01-01 00:00:00-2018-01-01 00:00:00\n"
     ]
    },
    {
     "name": "stderr",
     "output_type": "stream",
     "text": [
      "distributed.utils_perf - WARNING - full garbage collections took 36% CPU time recently (threshold: 10%)\n"
     ]
    },
    {
     "name": "stdout",
     "output_type": "stream",
     "text": [
      "2018-01-01 00:00:00-2019-01-01 00:00:00\n"
     ]
    },
    {
     "name": "stderr",
     "output_type": "stream",
     "text": [
      "distributed.utils_perf - WARNING - full garbage collections took 10% CPU time recently (threshold: 10%)\n"
     ]
    },
    {
     "name": "stdout",
     "output_type": "stream",
     "text": [
      "1deg_c3\n",
      "1958-01-01 00:00:00-1959-01-01 00:00:00\n",
      "1959-01-01 00:00:00-1960-01-01 00:00:00\n",
      "1960-01-01 00:00:00-1961-01-01 00:00:00\n"
     ]
    },
    {
     "name": "stderr",
     "output_type": "stream",
     "text": [
      "distributed.utils_perf - WARNING - full garbage collections took 36% CPU time recently (threshold: 10%)\n"
     ]
    },
    {
     "name": "stdout",
     "output_type": "stream",
     "text": [
      "1961-01-01 00:00:00-1962-01-01 00:00:00\n",
      "1962-01-01 00:00:00-1963-01-01 00:00:00\n",
      "1963-01-01 00:00:00-1964-01-01 00:00:00\n",
      "1964-01-01 00:00:00-1965-01-01 00:00:00\n"
     ]
    },
    {
     "name": "stderr",
     "output_type": "stream",
     "text": [
      "distributed.utils_perf - WARNING - full garbage collections took 10% CPU time recently (threshold: 10%)\n"
     ]
    },
    {
     "name": "stdout",
     "output_type": "stream",
     "text": [
      "1965-01-01 00:00:00-1966-01-01 00:00:00\n",
      "1966-01-01 00:00:00-1967-01-01 00:00:00\n",
      "1967-01-01 00:00:00-1968-01-01 00:00:00\n"
     ]
    },
    {
     "name": "stderr",
     "output_type": "stream",
     "text": [
      "distributed.utils_perf - WARNING - full garbage collections took 10% CPU time recently (threshold: 10%)\n"
     ]
    },
    {
     "name": "stdout",
     "output_type": "stream",
     "text": [
      "1968-01-01 00:00:00-1969-01-01 00:00:00\n",
      "1969-01-01 00:00:00-1970-01-01 00:00:00\n",
      "1970-01-01 00:00:00-1971-01-01 00:00:00\n",
      "1971-01-01 00:00:00-1972-01-01 00:00:00\n",
      "1972-01-01 00:00:00-1973-01-01 00:00:00\n",
      "1973-01-01 00:00:00-1974-01-01 00:00:00\n",
      "1974-01-01 00:00:00-1975-01-01 00:00:00\n",
      "1975-01-01 00:00:00-1976-01-01 00:00:00\n",
      "1976-01-01 00:00:00-1977-01-01 00:00:00\n",
      "1977-01-01 00:00:00-1978-01-01 00:00:00\n",
      "1978-01-01 00:00:00-1979-01-01 00:00:00\n",
      "1979-01-01 00:00:00-1980-01-01 00:00:00\n",
      "1980-01-01 00:00:00-1981-01-01 00:00:00\n",
      "1981-01-01 00:00:00-1982-01-01 00:00:00\n",
      "1982-01-01 00:00:00-1983-01-01 00:00:00\n"
     ]
    },
    {
     "name": "stderr",
     "output_type": "stream",
     "text": [
      "distributed.utils_perf - WARNING - full garbage collections took 10% CPU time recently (threshold: 10%)\n"
     ]
    },
    {
     "name": "stdout",
     "output_type": "stream",
     "text": [
      "1983-01-01 00:00:00-1984-01-01 00:00:00\n",
      "1984-01-01 00:00:00-1985-01-01 00:00:00\n",
      "1985-01-01 00:00:00-1986-01-01 00:00:00\n",
      "1986-01-01 00:00:00-1987-01-01 00:00:00\n",
      "1987-01-01 00:00:00-1988-01-01 00:00:00\n",
      "1988-01-01 00:00:00-1989-01-01 00:00:00\n",
      "1989-01-01 00:00:00-1990-01-01 00:00:00\n",
      "1990-01-01 00:00:00-1991-01-01 00:00:00\n",
      "1991-01-01 00:00:00-1992-01-01 00:00:00\n",
      "1992-01-01 00:00:00-1993-01-01 00:00:00\n",
      "1993-01-01 00:00:00-1994-01-01 00:00:00\n",
      "1994-01-01 00:00:00-1995-01-01 00:00:00\n",
      "1995-01-01 00:00:00-1996-01-01 00:00:00\n",
      "1996-01-01 00:00:00-1997-01-01 00:00:00\n",
      "1997-01-01 00:00:00-1998-01-01 00:00:00\n",
      "1998-01-01 00:00:00-1999-01-01 00:00:00\n",
      "1999-01-01 00:00:00-2000-01-01 00:00:00\n",
      "2000-01-01 00:00:00-2001-01-01 00:00:00\n",
      "2001-01-01 00:00:00-2002-01-01 00:00:00\n"
     ]
    },
    {
     "name": "stderr",
     "output_type": "stream",
     "text": [
      "distributed.utils_perf - WARNING - full garbage collections took 31% CPU time recently (threshold: 10%)\n"
     ]
    },
    {
     "name": "stdout",
     "output_type": "stream",
     "text": [
      "2002-01-01 00:00:00-2003-01-01 00:00:00\n",
      "2003-01-01 00:00:00-2004-01-01 00:00:00\n",
      "2004-01-01 00:00:00-2005-01-01 00:00:00\n",
      "2005-01-01 00:00:00-2006-01-01 00:00:00\n",
      "2006-01-01 00:00:00-2007-01-01 00:00:00\n",
      "2007-01-01 00:00:00-2008-01-01 00:00:00\n",
      "2008-01-01 00:00:00-2009-01-01 00:00:00\n",
      "2009-01-01 00:00:00-2010-01-01 00:00:00\n",
      "2010-01-01 00:00:00-2011-01-01 00:00:00\n",
      "2011-01-01 00:00:00-2012-01-01 00:00:00\n",
      "2012-01-01 00:00:00-2013-01-01 00:00:00\n",
      "2013-01-01 00:00:00-2014-01-01 00:00:00\n",
      "2014-01-01 00:00:00-2015-01-01 00:00:00\n",
      "2015-01-01 00:00:00-2016-01-01 00:00:00\n",
      "2016-01-01 00:00:00-2017-01-01 00:00:00\n",
      "2017-01-01 00:00:00-2018-01-01 00:00:00\n",
      "2018-01-01 00:00:00-2019-01-01 00:00:00\n",
      "025deg_c3\n",
      "1958-01-01 00:00:00-1959-01-01 00:00:00\n",
      "1959-01-01 00:00:00-1960-01-01 00:00:00\n",
      "1960-01-01 00:00:00-1961-01-01 00:00:00\n"
     ]
    },
    {
     "name": "stderr",
     "output_type": "stream",
     "text": [
      "distributed.utils_perf - WARNING - full garbage collections took 28% CPU time recently (threshold: 10%)\n"
     ]
    },
    {
     "name": "stdout",
     "output_type": "stream",
     "text": [
      "1961-01-01 00:00:00-1962-01-01 00:00:00\n",
      "1962-01-01 00:00:00-1963-01-01 00:00:00\n",
      "1963-01-01 00:00:00-1964-01-01 00:00:00\n",
      "1964-01-01 00:00:00-1965-01-01 00:00:00\n",
      "1965-01-01 00:00:00-1966-01-01 00:00:00\n"
     ]
    },
    {
     "name": "stderr",
     "output_type": "stream",
     "text": [
      "distributed.utils_perf - WARNING - full garbage collections took 27% CPU time recently (threshold: 10%)\n"
     ]
    },
    {
     "name": "stdout",
     "output_type": "stream",
     "text": [
      "1966-01-01 00:00:00-1967-01-01 00:00:00\n",
      "1967-01-01 00:00:00-1968-01-01 00:00:00\n",
      "1968-01-01 00:00:00-1969-01-01 00:00:00\n",
      "1969-01-01 00:00:00-1970-01-01 00:00:00\n",
      "1970-01-01 00:00:00-1971-01-01 00:00:00\n"
     ]
    },
    {
     "name": "stderr",
     "output_type": "stream",
     "text": [
      "distributed.utils_perf - WARNING - full garbage collections took 27% CPU time recently (threshold: 10%)\n"
     ]
    },
    {
     "name": "stdout",
     "output_type": "stream",
     "text": [
      "1971-01-01 00:00:00-1972-01-01 00:00:00\n",
      "1972-01-01 00:00:00-1973-01-01 00:00:00\n",
      "1973-01-01 00:00:00-1974-01-01 00:00:00\n",
      "1974-01-01 00:00:00-1975-01-01 00:00:00\n",
      "1975-01-01 00:00:00-1976-01-01 00:00:00\n"
     ]
    },
    {
     "name": "stderr",
     "output_type": "stream",
     "text": [
      "distributed.utils_perf - WARNING - full garbage collections took 25% CPU time recently (threshold: 10%)\n"
     ]
    },
    {
     "name": "stdout",
     "output_type": "stream",
     "text": [
      "1976-01-01 00:00:00-1977-01-01 00:00:00\n",
      "1977-01-01 00:00:00-1978-01-01 00:00:00\n",
      "1978-01-01 00:00:00-1979-01-01 00:00:00\n",
      "1979-01-01 00:00:00-1980-01-01 00:00:00\n"
     ]
    },
    {
     "name": "stderr",
     "output_type": "stream",
     "text": [
      "distributed.utils_perf - WARNING - full garbage collections took 25% CPU time recently (threshold: 10%)\n"
     ]
    },
    {
     "name": "stdout",
     "output_type": "stream",
     "text": [
      "1980-01-01 00:00:00-1981-01-01 00:00:00\n",
      "1981-01-01 00:00:00-1982-01-01 00:00:00\n",
      "1982-01-01 00:00:00-1983-01-01 00:00:00\n",
      "1983-01-01 00:00:00-1984-01-01 00:00:00\n",
      "1984-01-01 00:00:00-1985-01-01 00:00:00\n"
     ]
    },
    {
     "name": "stderr",
     "output_type": "stream",
     "text": [
      "distributed.utils_perf - WARNING - full garbage collections took 25% CPU time recently (threshold: 10%)\n"
     ]
    },
    {
     "name": "stdout",
     "output_type": "stream",
     "text": [
      "1985-01-01 00:00:00-1986-01-01 00:00:00\n",
      "1986-01-01 00:00:00-1987-01-01 00:00:00\n",
      "1987-01-01 00:00:00-1988-01-01 00:00:00\n",
      "1988-01-01 00:00:00-1989-01-01 00:00:00\n",
      "1989-01-01 00:00:00-1990-01-01 00:00:00\n"
     ]
    },
    {
     "name": "stderr",
     "output_type": "stream",
     "text": [
      "distributed.utils_perf - WARNING - full garbage collections took 25% CPU time recently (threshold: 10%)\n"
     ]
    },
    {
     "name": "stdout",
     "output_type": "stream",
     "text": [
      "1990-01-01 00:00:00-1991-01-01 00:00:00\n",
      "1991-01-01 00:00:00-1992-01-01 00:00:00\n",
      "1992-01-01 00:00:00-1993-01-01 00:00:00\n",
      "1993-01-01 00:00:00-1994-01-01 00:00:00\n",
      "1994-01-01 00:00:00-1995-01-01 00:00:00\n"
     ]
    },
    {
     "name": "stderr",
     "output_type": "stream",
     "text": [
      "distributed.utils_perf - WARNING - full garbage collections took 23% CPU time recently (threshold: 10%)\n"
     ]
    },
    {
     "name": "stdout",
     "output_type": "stream",
     "text": [
      "1995-01-01 00:00:00-1996-01-01 00:00:00\n",
      "1996-01-01 00:00:00-1997-01-01 00:00:00\n",
      "1997-01-01 00:00:00-1998-01-01 00:00:00\n",
      "1998-01-01 00:00:00-1999-01-01 00:00:00\n",
      "1999-01-01 00:00:00-2000-01-01 00:00:00\n"
     ]
    },
    {
     "name": "stderr",
     "output_type": "stream",
     "text": [
      "distributed.utils_perf - WARNING - full garbage collections took 23% CPU time recently (threshold: 10%)\n"
     ]
    },
    {
     "name": "stdout",
     "output_type": "stream",
     "text": [
      "2000-01-01 00:00:00-2001-01-01 00:00:00\n",
      "2001-01-01 00:00:00-2002-01-01 00:00:00\n",
      "2002-01-01 00:00:00-2003-01-01 00:00:00\n",
      "2003-01-01 00:00:00-2004-01-01 00:00:00\n",
      "2004-01-01 00:00:00-2005-01-01 00:00:00\n"
     ]
    },
    {
     "name": "stderr",
     "output_type": "stream",
     "text": [
      "distributed.utils_perf - WARNING - full garbage collections took 22% CPU time recently (threshold: 10%)\n"
     ]
    },
    {
     "name": "stdout",
     "output_type": "stream",
     "text": [
      "2005-01-01 00:00:00-2006-01-01 00:00:00\n",
      "2006-01-01 00:00:00-2007-01-01 00:00:00\n",
      "2007-01-01 00:00:00-2008-01-01 00:00:00\n",
      "2008-01-01 00:00:00-2009-01-01 00:00:00\n"
     ]
    },
    {
     "name": "stderr",
     "output_type": "stream",
     "text": [
      "distributed.utils_perf - WARNING - full garbage collections took 22% CPU time recently (threshold: 10%)\n"
     ]
    },
    {
     "name": "stdout",
     "output_type": "stream",
     "text": [
      "2009-01-01 00:00:00-2010-01-01 00:00:00\n",
      "2010-01-01 00:00:00-2011-01-01 00:00:00\n",
      "2011-01-01 00:00:00-2012-01-01 00:00:00\n",
      "2012-01-01 00:00:00-2013-01-01 00:00:00\n",
      "2013-01-01 00:00:00-2014-01-01 00:00:00\n"
     ]
    },
    {
     "name": "stderr",
     "output_type": "stream",
     "text": [
      "distributed.utils_perf - WARNING - full garbage collections took 22% CPU time recently (threshold: 10%)\n"
     ]
    },
    {
     "name": "stdout",
     "output_type": "stream",
     "text": [
      "2014-01-01 00:00:00-2015-01-01 00:00:00\n",
      "2015-01-01 00:00:00-2016-01-01 00:00:00\n",
      "2016-01-01 00:00:00-2017-01-01 00:00:00\n",
      "2017-01-01 00:00:00-2018-01-01 00:00:00\n",
      "2018-01-01 00:00:00-2019-01-01 00:00:00\n"
     ]
    },
    {
     "name": "stderr",
     "output_type": "stream",
     "text": [
      "distributed.utils_perf - WARNING - full garbage collections took 20% CPU time recently (threshold: 10%)\n"
     ]
    },
    {
     "name": "stdout",
     "output_type": "stream",
     "text": [
      "01deg_c3\n",
      "1958-01-01 00:00:00-1959-01-01 00:00:00\n",
      "1959-01-01 00:00:00-1960-01-01 00:00:00\n"
     ]
    },
    {
     "name": "stderr",
     "output_type": "stream",
     "text": [
      "distributed.utils_perf - WARNING - full garbage collections took 20% CPU time recently (threshold: 10%)\n"
     ]
    },
    {
     "name": "stdout",
     "output_type": "stream",
     "text": [
      "1960-01-01 00:00:00-1961-01-01 00:00:00\n"
     ]
    },
    {
     "name": "stderr",
     "output_type": "stream",
     "text": [
      "distributed.utils_perf - WARNING - full garbage collections took 20% CPU time recently (threshold: 10%)\n"
     ]
    },
    {
     "name": "stdout",
     "output_type": "stream",
     "text": [
      "1961-01-01 00:00:00-1962-01-01 00:00:00\n",
      "1962-01-01 00:00:00-1963-01-01 00:00:00\n"
     ]
    },
    {
     "name": "stderr",
     "output_type": "stream",
     "text": [
      "distributed.utils_perf - WARNING - full garbage collections took 20% CPU time recently (threshold: 10%)\n"
     ]
    },
    {
     "name": "stdout",
     "output_type": "stream",
     "text": [
      "1963-01-01 00:00:00-1964-01-01 00:00:00\n"
     ]
    },
    {
     "name": "stderr",
     "output_type": "stream",
     "text": [
      "distributed.utils_perf - WARNING - full garbage collections took 20% CPU time recently (threshold: 10%)\n"
     ]
    },
    {
     "name": "stdout",
     "output_type": "stream",
     "text": [
      "1964-01-01 00:00:00-1965-01-01 00:00:00\n",
      "1965-01-01 00:00:00-1966-01-01 00:00:00\n"
     ]
    },
    {
     "name": "stderr",
     "output_type": "stream",
     "text": [
      "distributed.utils_perf - WARNING - full garbage collections took 20% CPU time recently (threshold: 10%)\n"
     ]
    },
    {
     "name": "stdout",
     "output_type": "stream",
     "text": [
      "1966-01-01 00:00:00-1967-01-01 00:00:00\n"
     ]
    },
    {
     "name": "stderr",
     "output_type": "stream",
     "text": [
      "distributed.utils_perf - WARNING - full garbage collections took 20% CPU time recently (threshold: 10%)\n"
     ]
    },
    {
     "name": "stdout",
     "output_type": "stream",
     "text": [
      "1967-01-01 00:00:00-1968-01-01 00:00:00\n",
      "1968-01-01 00:00:00-1969-01-01 00:00:00\n"
     ]
    },
    {
     "name": "stderr",
     "output_type": "stream",
     "text": [
      "distributed.utils_perf - WARNING - full garbage collections took 19% CPU time recently (threshold: 10%)\n"
     ]
    },
    {
     "name": "stdout",
     "output_type": "stream",
     "text": [
      "1969-01-01 00:00:00-1970-01-01 00:00:00\n"
     ]
    },
    {
     "name": "stderr",
     "output_type": "stream",
     "text": [
      "distributed.utils_perf - WARNING - full garbage collections took 19% CPU time recently (threshold: 10%)\n"
     ]
    },
    {
     "name": "stdout",
     "output_type": "stream",
     "text": [
      "1970-01-01 00:00:00-1971-01-01 00:00:00\n"
     ]
    },
    {
     "name": "stderr",
     "output_type": "stream",
     "text": [
      "distributed.utils_perf - WARNING - full garbage collections took 18% CPU time recently (threshold: 10%)\n"
     ]
    },
    {
     "name": "stdout",
     "output_type": "stream",
     "text": [
      "1971-01-01 00:00:00-1972-01-01 00:00:00\n",
      "1972-01-01 00:00:00-1973-01-01 00:00:00\n"
     ]
    },
    {
     "name": "stderr",
     "output_type": "stream",
     "text": [
      "distributed.utils_perf - WARNING - full garbage collections took 18% CPU time recently (threshold: 10%)\n"
     ]
    },
    {
     "name": "stdout",
     "output_type": "stream",
     "text": [
      "1973-01-01 00:00:00-1974-01-01 00:00:00\n"
     ]
    },
    {
     "name": "stderr",
     "output_type": "stream",
     "text": [
      "distributed.utils_perf - WARNING - full garbage collections took 18% CPU time recently (threshold: 10%)\n"
     ]
    },
    {
     "name": "stdout",
     "output_type": "stream",
     "text": [
      "1974-01-01 00:00:00-1975-01-01 00:00:00\n",
      "1975-01-01 00:00:00-1976-01-01 00:00:00\n"
     ]
    },
    {
     "name": "stderr",
     "output_type": "stream",
     "text": [
      "distributed.utils_perf - WARNING - full garbage collections took 18% CPU time recently (threshold: 10%)\n"
     ]
    },
    {
     "name": "stdout",
     "output_type": "stream",
     "text": [
      "1976-01-01 00:00:00-1977-01-01 00:00:00\n"
     ]
    },
    {
     "name": "stderr",
     "output_type": "stream",
     "text": [
      "distributed.utils_perf - WARNING - full garbage collections took 18% CPU time recently (threshold: 10%)\n"
     ]
    },
    {
     "name": "stdout",
     "output_type": "stream",
     "text": [
      "1977-01-01 00:00:00-1978-01-01 00:00:00\n",
      "1978-01-01 00:00:00-1979-01-01 00:00:00\n"
     ]
    },
    {
     "name": "stderr",
     "output_type": "stream",
     "text": [
      "distributed.utils_perf - WARNING - full garbage collections took 18% CPU time recently (threshold: 10%)\n"
     ]
    },
    {
     "name": "stdout",
     "output_type": "stream",
     "text": [
      "1979-01-01 00:00:00-1980-01-01 00:00:00\n"
     ]
    },
    {
     "name": "stderr",
     "output_type": "stream",
     "text": [
      "distributed.utils_perf - WARNING - full garbage collections took 19% CPU time recently (threshold: 10%)\n"
     ]
    },
    {
     "name": "stdout",
     "output_type": "stream",
     "text": [
      "1980-01-01 00:00:00-1981-01-01 00:00:00\n",
      "1981-01-01 00:00:00-1982-01-01 00:00:00\n"
     ]
    },
    {
     "name": "stderr",
     "output_type": "stream",
     "text": [
      "distributed.utils_perf - WARNING - full garbage collections took 18% CPU time recently (threshold: 10%)\n"
     ]
    },
    {
     "name": "stdout",
     "output_type": "stream",
     "text": [
      "1982-01-01 00:00:00-1983-01-01 00:00:00\n"
     ]
    },
    {
     "name": "stderr",
     "output_type": "stream",
     "text": [
      "distributed.utils_perf - WARNING - full garbage collections took 18% CPU time recently (threshold: 10%)\n"
     ]
    },
    {
     "name": "stdout",
     "output_type": "stream",
     "text": [
      "1983-01-01 00:00:00-1984-01-01 00:00:00\n",
      "1984-01-01 00:00:00-1985-01-01 00:00:00\n"
     ]
    },
    {
     "name": "stderr",
     "output_type": "stream",
     "text": [
      "distributed.utils_perf - WARNING - full garbage collections took 17% CPU time recently (threshold: 10%)\n"
     ]
    },
    {
     "name": "stdout",
     "output_type": "stream",
     "text": [
      "1985-01-01 00:00:00-1986-01-01 00:00:00\n"
     ]
    },
    {
     "name": "stderr",
     "output_type": "stream",
     "text": [
      "distributed.utils_perf - WARNING - full garbage collections took 18% CPU time recently (threshold: 10%)\n"
     ]
    },
    {
     "name": "stdout",
     "output_type": "stream",
     "text": [
      "1986-01-01 00:00:00-1987-01-01 00:00:00\n"
     ]
    },
    {
     "name": "stderr",
     "output_type": "stream",
     "text": [
      "distributed.utils_perf - WARNING - full garbage collections took 18% CPU time recently (threshold: 10%)\n"
     ]
    },
    {
     "name": "stdout",
     "output_type": "stream",
     "text": [
      "1987-01-01 00:00:00-1988-01-01 00:00:00\n",
      "1988-01-01 00:00:00-1989-01-01 00:00:00\n"
     ]
    },
    {
     "name": "stderr",
     "output_type": "stream",
     "text": [
      "distributed.utils_perf - WARNING - full garbage collections took 17% CPU time recently (threshold: 10%)\n"
     ]
    },
    {
     "name": "stdout",
     "output_type": "stream",
     "text": [
      "1989-01-01 00:00:00-1990-01-01 00:00:00\n"
     ]
    },
    {
     "name": "stderr",
     "output_type": "stream",
     "text": [
      "distributed.utils_perf - WARNING - full garbage collections took 17% CPU time recently (threshold: 10%)\n"
     ]
    },
    {
     "name": "stdout",
     "output_type": "stream",
     "text": [
      "1990-01-01 00:00:00-1991-01-01 00:00:00\n",
      "1991-01-01 00:00:00-1992-01-01 00:00:00\n"
     ]
    },
    {
     "name": "stderr",
     "output_type": "stream",
     "text": [
      "distributed.utils_perf - WARNING - full garbage collections took 17% CPU time recently (threshold: 10%)\n"
     ]
    },
    {
     "name": "stdout",
     "output_type": "stream",
     "text": [
      "1992-01-01 00:00:00-1993-01-01 00:00:00\n"
     ]
    },
    {
     "name": "stderr",
     "output_type": "stream",
     "text": [
      "distributed.utils_perf - WARNING - full garbage collections took 17% CPU time recently (threshold: 10%)\n"
     ]
    },
    {
     "name": "stdout",
     "output_type": "stream",
     "text": [
      "1993-01-01 00:00:00-1994-01-01 00:00:00\n",
      "1994-01-01 00:00:00-1995-01-01 00:00:00\n"
     ]
    },
    {
     "name": "stderr",
     "output_type": "stream",
     "text": [
      "distributed.utils_perf - WARNING - full garbage collections took 18% CPU time recently (threshold: 10%)\n"
     ]
    },
    {
     "name": "stdout",
     "output_type": "stream",
     "text": [
      "1995-01-01 00:00:00-1996-01-01 00:00:00\n"
     ]
    },
    {
     "name": "stderr",
     "output_type": "stream",
     "text": [
      "distributed.utils_perf - WARNING - full garbage collections took 18% CPU time recently (threshold: 10%)\n"
     ]
    },
    {
     "name": "stdout",
     "output_type": "stream",
     "text": [
      "1996-01-01 00:00:00-1997-01-01 00:00:00\n",
      "1997-01-01 00:00:00-1998-01-01 00:00:00\n"
     ]
    },
    {
     "name": "stderr",
     "output_type": "stream",
     "text": [
      "distributed.utils_perf - WARNING - full garbage collections took 17% CPU time recently (threshold: 10%)\n"
     ]
    },
    {
     "name": "stdout",
     "output_type": "stream",
     "text": [
      "1998-01-01 00:00:00-1999-01-01 00:00:00\n"
     ]
    },
    {
     "name": "stderr",
     "output_type": "stream",
     "text": [
      "distributed.utils_perf - WARNING - full garbage collections took 17% CPU time recently (threshold: 10%)\n"
     ]
    },
    {
     "name": "stdout",
     "output_type": "stream",
     "text": [
      "1999-01-01 00:00:00-2000-01-01 00:00:00\n",
      "2000-01-01 00:00:00-2001-01-01 00:00:00\n"
     ]
    },
    {
     "name": "stderr",
     "output_type": "stream",
     "text": [
      "distributed.utils_perf - WARNING - full garbage collections took 17% CPU time recently (threshold: 10%)\n"
     ]
    },
    {
     "name": "stdout",
     "output_type": "stream",
     "text": [
      "2001-01-01 00:00:00-2002-01-01 00:00:00\n"
     ]
    },
    {
     "name": "stderr",
     "output_type": "stream",
     "text": [
      "distributed.utils_perf - WARNING - full garbage collections took 17% CPU time recently (threshold: 10%)\n"
     ]
    },
    {
     "name": "stdout",
     "output_type": "stream",
     "text": [
      "2002-01-01 00:00:00-2003-01-01 00:00:00\n"
     ]
    },
    {
     "name": "stderr",
     "output_type": "stream",
     "text": [
      "distributed.utils_perf - WARNING - full garbage collections took 17% CPU time recently (threshold: 10%)\n"
     ]
    },
    {
     "name": "stdout",
     "output_type": "stream",
     "text": [
      "2003-01-01 00:00:00-2004-01-01 00:00:00\n",
      "2004-01-01 00:00:00-2005-01-01 00:00:00\n"
     ]
    },
    {
     "name": "stderr",
     "output_type": "stream",
     "text": [
      "distributed.utils_perf - WARNING - full garbage collections took 17% CPU time recently (threshold: 10%)\n"
     ]
    },
    {
     "name": "stdout",
     "output_type": "stream",
     "text": [
      "2005-01-01 00:00:00-2006-01-01 00:00:00\n"
     ]
    },
    {
     "name": "stderr",
     "output_type": "stream",
     "text": [
      "distributed.utils_perf - WARNING - full garbage collections took 17% CPU time recently (threshold: 10%)\n"
     ]
    },
    {
     "name": "stdout",
     "output_type": "stream",
     "text": [
      "2006-01-01 00:00:00-2007-01-01 00:00:00\n",
      "2007-01-01 00:00:00-2008-01-01 00:00:00\n"
     ]
    },
    {
     "name": "stderr",
     "output_type": "stream",
     "text": [
      "distributed.utils_perf - WARNING - full garbage collections took 18% CPU time recently (threshold: 10%)\n"
     ]
    },
    {
     "name": "stdout",
     "output_type": "stream",
     "text": [
      "2008-01-01 00:00:00-2009-01-01 00:00:00\n"
     ]
    },
    {
     "name": "stderr",
     "output_type": "stream",
     "text": [
      "distributed.utils_perf - WARNING - full garbage collections took 18% CPU time recently (threshold: 10%)\n"
     ]
    },
    {
     "name": "stdout",
     "output_type": "stream",
     "text": [
      "2009-01-01 00:00:00-2010-01-01 00:00:00\n",
      "2010-01-01 00:00:00-2011-01-01 00:00:00\n"
     ]
    },
    {
     "name": "stderr",
     "output_type": "stream",
     "text": [
      "distributed.utils_perf - WARNING - full garbage collections took 18% CPU time recently (threshold: 10%)\n"
     ]
    },
    {
     "name": "stdout",
     "output_type": "stream",
     "text": [
      "2011-01-01 00:00:00-2012-01-01 00:00:00\n"
     ]
    },
    {
     "name": "stderr",
     "output_type": "stream",
     "text": [
      "distributed.utils_perf - WARNING - full garbage collections took 18% CPU time recently (threshold: 10%)\n"
     ]
    },
    {
     "name": "stdout",
     "output_type": "stream",
     "text": [
      "2012-01-01 00:00:00-2013-01-01 00:00:00\n",
      "2013-01-01 00:00:00-2014-01-01 00:00:00\n"
     ]
    },
    {
     "name": "stderr",
     "output_type": "stream",
     "text": [
      "distributed.utils_perf - WARNING - full garbage collections took 18% CPU time recently (threshold: 10%)\n"
     ]
    },
    {
     "name": "stdout",
     "output_type": "stream",
     "text": [
      "2014-01-01 00:00:00-2015-01-01 00:00:00\n"
     ]
    },
    {
     "name": "stderr",
     "output_type": "stream",
     "text": [
      "distributed.utils_perf - WARNING - full garbage collections took 18% CPU time recently (threshold: 10%)\n"
     ]
    },
    {
     "name": "stdout",
     "output_type": "stream",
     "text": [
      "2015-01-01 00:00:00-2016-01-01 00:00:00\n"
     ]
    },
    {
     "name": "stderr",
     "output_type": "stream",
     "text": [
      "distributed.utils_perf - WARNING - full garbage collections took 18% CPU time recently (threshold: 10%)\n"
     ]
    },
    {
     "name": "stdout",
     "output_type": "stream",
     "text": [
      "2016-01-01 00:00:00-2017-01-01 00:00:00\n",
      "2017-01-01 00:00:00-2018-01-01 00:00:00\n"
     ]
    },
    {
     "name": "stderr",
     "output_type": "stream",
     "text": [
      "distributed.utils_perf - WARNING - full garbage collections took 18% CPU time recently (threshold: 10%)\n"
     ]
    },
    {
     "name": "stdout",
     "output_type": "stream",
     "text": [
      "2018-01-01 00:00:00-2019-01-01 00:00:00\n"
     ]
    },
    {
     "name": "stderr",
     "output_type": "stream",
     "text": [
      "distributed.utils_perf - WARNING - full garbage collections took 18% CPU time recently (threshold: 10%)\n"
     ]
    },
    {
     "name": "stdout",
     "output_type": "stream",
     "text": [
      "            1deg_c1  025deg_c1  01deg_c1   1deg_c2  025deg_c2   01deg_c2  \\\n",
      "1958-1959 -7.917024  -8.621313 -9.038554  3.605132  -9.391568  -9.437061   \n",
      "1959-1960 -9.336764 -11.208063 -9.601383  2.908654  -8.302914  -9.035173   \n",
      "1960-1961 -9.319559 -10.698197 -9.114564  4.487456  -8.156951  -8.274811   \n",
      "1961-1962 -9.864005 -10.131546 -9.206046  3.793975  -8.363847  -8.622679   \n",
      "1962-1963 -7.979758  -8.034292 -6.609710  3.957631  -6.379048  -7.060289   \n",
      "...             ...        ...       ...       ...        ...        ...   \n",
      "2014-2015  4.363242  -9.344319 -7.972081 -1.785874  -6.451693  -7.225060   \n",
      "2015-2016  3.184410 -11.550617 -9.909564 -3.597448  -8.468285 -10.144755   \n",
      "2016-2017  3.408581 -10.643487 -8.919695 -3.502439  -6.588681  -8.076314   \n",
      "2017-2018  4.989833  -7.880775 -7.047505 -1.558062  -5.466656  -6.675535   \n",
      "2018-2019  6.107391  -7.066350 -7.933144  0.416425  -5.825732  -6.379170   \n",
      "\n",
      "            1deg_c3  025deg_c3  01deg_c3  \n",
      "1958-1959 -1.300685  -6.872001 -9.339324  \n",
      "1959-1960 -2.032255  -6.412122 -8.085534  \n",
      "1960-1961 -0.442599  -5.078261 -6.632541  \n",
      "1961-1962 -0.987227  -6.001820 -7.090254  \n",
      "1962-1963 -0.296072  -3.651586 -6.872299  \n",
      "...             ...        ...       ...  \n",
      "2014-2015  0.205123  -4.426601 -6.432452  \n",
      "2015-2016 -1.675782  -5.912912 -8.870053  \n",
      "2016-2017 -1.593168  -5.295939 -6.712336  \n",
      "2017-2018  0.170721  -3.841146 -4.777176  \n",
      "2018-2019  1.609241  -3.459082 -5.267755  \n",
      "\n",
      "[61 rows x 9 columns]\n",
      "CPU times: user 7min 42s, sys: 51 s, total: 8min 33s\n",
      "Wall time: 19min 4s\n"
     ]
    }
   ],
   "source": [
    "%%time\n",
    "\n",
    "a = []\n",
    "\n",
    "for ekey in data.keys():\n",
    "    print(ekey)\n",
    "    \n",
    "    # devide time interval\n",
    "    b = []\n",
    "    c = []\n",
    "    for t in range (58,119,1):\n",
    "        tstart = pd.to_datetime('1900/01/01') + pd.DateOffset(years=t)\n",
    "        tend   = tstart + pd.DateOffset(years=1)\n",
    "        \n",
    "        c.append(str(tstart.year) +'-'+str(tend.year))\n",
    "        print(str(tstart) +'-'+str(tend))  \n",
    "        \n",
    "        # load data for each time interval\n",
    "        \n",
    "        e = data[ekey]\n",
    "        e['tx_trans'] = cc.querying.getvar(e['expt'],'tx_trans', session,\n",
    "                                           start_time=str(tstart.year), \n",
    "                                           end_time=str(tend.year)).sel(time=slice(tstart,tend))\n",
    "        e['ty_trans'] = cc.querying.getvar(e['expt'],'ty_trans', session,\n",
    "                                           start_time=str(tstart.year), \n",
    "                                           end_time=str(tend.year)).sel(time=slice(tstart,tend))\n",
    "        \n",
    "        \n",
    "\n",
    "        # 0-2000m transport      \n",
    "        e['tx_trans_int_2000'] = e['tx_trans'].sel(st_ocean=slice(0,2000)).sum('st_ocean')\n",
    "        e['ty_trans_int_2000'] = e['ty_trans'].sel(st_ocean=slice(0,2000)).sum('st_ocean')\n",
    "      \n",
    "        \n",
    "       # Transport of Tasman Sea\n",
    "        e['transport'] = dict()\n",
    "        for strait, (xmin, xmax, ymin, ymax) in e['straits'].items():\n",
    "            if strait == 'Tasman Sea':\n",
    "                if strait not in e['transport']:\n",
    "                    if xmin == xmax:\n",
    "                        e['transport'][strait] = e['tx_trans_int_2000'].sel(xu_ocean=xmin, method='nearest')\\\n",
    "                                                                    .sel(yt_ocean=slice(ymin, ymax))\\\n",
    "                                                                    .sum('yt_ocean')\n",
    "                    elif ymin == ymax:\n",
    "                        e['transport'][strait] = e['ty_trans_int_2000'].sel(yu_ocean=ymin, method='nearest')\\\n",
    "                                                                    .sel(xt_ocean=slice(xmin, xmax))\\\n",
    "                                                                    .sum('xt_ocean')\n",
    "                    else:\n",
    "                        raise ValueError('Transports are computed only along lines of either constant latitude or longitude')\n",
    "                    \n",
    "        Trans = e['transport'][strait].mean('time').values/1e6/1036\n",
    "        \n",
    "        \n",
    "        \n",
    "        b.append(Trans)\n",
    "    \n",
    "    a.append(b)\n",
    "\n",
    "    \n",
    "test=pd.DataFrame({'1deg_c1':a[0],'025deg_c1':a[1],'01deg_c1':a[2],\n",
    "                   '1deg_c2':a[3],'025deg_c2':a[4],'01deg_c2':a[5],\n",
    "                   '1deg_c3':a[6],'025deg_c3':a[7],'01deg_c3':a[8]})\n",
    "\n",
    "test.index = c\n",
    "\n",
    "print(test)\n",
    "\n",
    "round(test,2).to_csv('Transport_Tasman Sea(1).csv')"
   ]
  },
  {
   "cell_type": "markdown",
   "metadata": {
    "tags": []
   },
   "source": [
    "# ITF"
   ]
  },
  {
   "cell_type": "code",
   "execution_count": 6,
   "metadata": {},
   "outputs": [],
   "source": [
    "# Strait locations: [minlon, maxlon, minlat, maxlat]\n",
    "# Add as many as you like, but they must be zonal or meridional\n",
    "\n",
    "data['1deg_c1']['straits'] = OrderedDict([('Lombok Strait', [-245, -242, -8.33, -8.33]),\n",
    "                                          ('Ombai Strait',  [-237, -237, -10.33, -8.33]),\n",
    "                                          ('Timor Strait',  [-233, -233, -13.9, -9])])\n",
    "data['025deg_c1']['straits'] = OrderedDict([('Lombok Strait', [-244.5, -243.5, -8.22, -8.22]),\n",
    "                                         ('Ombai Strait',  [-235.5, -235.5, -9.21, -8.47]),\n",
    "                                         ('Timor Strait',  [-233, -233, -13.86, -8.71])])\n",
    "data['01deg_c1']['straits'] = OrderedDict([('Lombok Strait', [-244.3, -243.8, -8.37, -8.37]),\n",
    "                                        ('Ombai Strait',  [-234.9, -234.9, -8.86, -8.27]),\n",
    "                                        ('Timor Strait',  [-232.6, -232.6, -13.96, -8.37])])\n",
    "\n",
    "\n",
    "data['1deg_c2']['straits'] = OrderedDict([('Lombok Strait', [-245, -242, -8.33, -8.33]),\n",
    "                                       ('Ombai Strait',  [-237, -237, -10.33, -8.33]),\n",
    "                                       ('Timor Strait',  [-233, -233, -13.9, -9])])\n",
    "data['025deg_c2']['straits'] = OrderedDict([('Lombok Strait', [-244.5, -243.5, -8.22, -8.22]),\n",
    "                                         ('Ombai Strait',  [-235.5, -235.5, -9.21, -8.47]),\n",
    "                                         ('Timor Strait',  [-233, -233, -13.86, -8.71])])\n",
    "data['01deg_c2']['straits'] = OrderedDict([('Lombok Strait', [-244.3, -243.8, -8.37, -8.37]),\n",
    "                                        ('Ombai Strait',  [-234.9, -234.9, -8.86, -8.27]),\n",
    "                                        ('Timor Strait',  [-232.6, -232.6, -13.96, -8.37])])\n",
    "\n",
    "\n",
    "data['1deg_c3']['straits'] = OrderedDict([('Lombok Strait', [-245, -242, -8.33, -8.33]),\n",
    "                                       ('Ombai Strait',  [-237, -237, -10.33, -8.33]),\n",
    "                                       ('Timor Strait',  [-233, -233, -13.9, -9])])\n",
    "data['025deg_c3']['straits'] = OrderedDict([('Lombok Strait', [-244.5, -243.5, -8.22, -8.22]),\n",
    "                                         ('Ombai Strait',  [-235.5, -235.5, -9.21, -8.47]),\n",
    "                                         ('Timor Strait',  [-233, -233, -13.86, -8.71])])\n",
    "data['01deg_c3']['straits'] = OrderedDict([('Lombok Strait', [-244.3, -243.8, -8.37, -8.37]),\n",
    "                                        ('Ombai Strait',  [-234.9, -234.9, -8.86, -8.27]),\n",
    "                                        ('Timor Strait',  [-232.6, -232.6, -13.96, -8.37])])"
   ]
  },
  {
   "cell_type": "code",
   "execution_count": 10,
   "metadata": {},
   "outputs": [],
   "source": [
    "# # load data\n",
    "# for ekey in data.keys():\n",
    "#     print(ekey)\n",
    "#     e = data[ekey]\n",
    "#     e['tx_trans'] = cc.querying.getvar(e['expt'],'tx_trans', session,\n",
    "#                                        start_time='1958-01-01 00:00:00', \n",
    "#                                        end_time='2018-12-31 00:00:00')\n",
    "#     e['ty_trans'] = cc.querying.getvar(e['expt'],'ty_trans', session,\n",
    "#                                        start_time='1958-01-01 00:00:00', \n",
    "#                                        end_time='2018-12-31 00:00:00')\n",
    "\n",
    "        \n",
    "# # 0-2000m transport      \n",
    "#     e['tx_trans_int_2000'] = e['tx_trans'].sel(st_ocean=slice(0,2000)).sum('st_ocean')\n",
    "#     e['ty_trans_int_2000'] = e['ty_trans'].sel(st_ocean=slice(0,2000)).sum('st_ocean')"
   ]
  },
  {
   "cell_type": "code",
   "execution_count": 12,
   "metadata": {
    "tags": []
   },
   "outputs": [],
   "source": [
    "# # plot maps of transect locations (just final time shown), 0-2000m\n",
    "# m = 1.5 # margin (degrees)\n",
    "# for ekey in data.keys():\n",
    "#     print(ekey)\n",
    "#     e = data[ekey]\n",
    "#     for strait, (xmin, xmax, ymin, ymax) in e['straits'].items():\n",
    "#         print(strait)\n",
    "#         fig, ax = plt.subplots(nrows=1, ncols=1)\n",
    "#         ax.set_facecolor('gray')  # gray land points\n",
    "#         if xmin == xmax:\n",
    "#             e['tx_trans_int_2000'].isel(time=-1)\\\n",
    "#                                 .sel(xu_ocean=slice(xmin-m, xmax+m))\\\n",
    "#                                 .sel(yt_ocean=slice(ymin-m, ymax+m))\\\n",
    "#                                 .plot()\n",
    "\n",
    "#         elif ymin == ymax:\n",
    "#             e['ty_trans_int_2000'].isel(time=-1)\\\n",
    "#                                 .sel(xt_ocean=slice(xmin-m, xmax+m))\\\n",
    "#                                 .sel(yu_ocean=slice(ymin-m, ymax+m))\\\n",
    "#                                 .plot()\n",
    "#         else:\n",
    "#             raise ValueError('Transports are computed only along lines of either constant latitude or longitude')\n",
    "#         plt.plot([xmin, xmax], [ymin, ymax],\n",
    "#                 color='green', linewidth=4, alpha=0.7)\n",
    "#         plt.title(strait+', '+e['desc'])"
   ]
  },
  {
   "cell_type": "code",
   "execution_count": 13,
   "metadata": {
    "tags": []
   },
   "outputs": [],
   "source": [
    "# # plot vertical slices at transect locations\n",
    "# m = 1.5 # margin (degrees)\n",
    "# for ekey in data.keys():\n",
    "#     print(ekey)\n",
    "#     e = data[ekey]\n",
    "#     for strait, (xmin, xmax, ymin, ymax) in e['straits'].items():\n",
    "#         print(strait)\n",
    "#         fig, ax = plt.subplots(nrows=1, ncols=1)\n",
    "#         ax.set_facecolor('gray')  # gray land points\n",
    "#         if xmin == xmax:\n",
    "#             e['tx_trans'].isel(time=-1)\\\n",
    "#                                 .sel(xu_ocean=xmin, method='nearest')\\\n",
    "#                                 .sel(yt_ocean=slice(ymin-m, ymax+m))\\\n",
    "#                                 .plot()\n",
    "#             plt.plot([ymin, ymin, ymax, ymax], [0, 5000, 5000, 0],\n",
    "#                 color='green', linewidth=4, alpha=0.7)\n",
    "#         elif ymin == ymax:\n",
    "#             e['ty_trans'].isel(time=-1)\\\n",
    "#                                 .sel(xt_ocean=slice(xmin-m, xmax+m))\\\n",
    "#                                 .sel(yu_ocean=ymin, method='nearest')\\\n",
    "#                                 .plot()\n",
    "#             plt.plot([xmin, xmin, xmax, xmax], [0, 5000, 5000, 0],\n",
    "#                 color='green', linewidth=4, alpha=0.7)\n",
    "#         else:\n",
    "#             raise ValueError('Transports are computed only along lines of either constant latitude or longitude')\n",
    "#         plt.title(strait+', '+e['desc'])\n",
    "#         plt.gca().invert_yaxis()"
   ]
  },
  {
   "cell_type": "markdown",
   "metadata": {
    "tags": []
   },
   "source": [
    "## every 1 years"
   ]
  },
  {
   "cell_type": "code",
   "execution_count": 7,
   "metadata": {
    "tags": []
   },
   "outputs": [
    {
     "name": "stdout",
     "output_type": "stream",
     "text": [
      "1deg_c1\n",
      "1958-01-01 00:00:00-1959-01-01 00:00:00\n",
      "1959-01-01 00:00:00-1960-01-01 00:00:00\n",
      "1960-01-01 00:00:00-1961-01-01 00:00:00\n",
      "1961-01-01 00:00:00-1962-01-01 00:00:00\n",
      "1962-01-01 00:00:00-1963-01-01 00:00:00\n",
      "1963-01-01 00:00:00-1964-01-01 00:00:00\n",
      "1964-01-01 00:00:00-1965-01-01 00:00:00\n",
      "1965-01-01 00:00:00-1966-01-01 00:00:00\n",
      "1966-01-01 00:00:00-1967-01-01 00:00:00\n",
      "1967-01-01 00:00:00-1968-01-01 00:00:00\n",
      "1968-01-01 00:00:00-1969-01-01 00:00:00\n",
      "1969-01-01 00:00:00-1970-01-01 00:00:00\n",
      "1970-01-01 00:00:00-1971-01-01 00:00:00\n",
      "1971-01-01 00:00:00-1972-01-01 00:00:00\n",
      "1972-01-01 00:00:00-1973-01-01 00:00:00\n",
      "1973-01-01 00:00:00-1974-01-01 00:00:00\n",
      "1974-01-01 00:00:00-1975-01-01 00:00:00\n",
      "1975-01-01 00:00:00-1976-01-01 00:00:00\n",
      "1976-01-01 00:00:00-1977-01-01 00:00:00\n",
      "1977-01-01 00:00:00-1978-01-01 00:00:00\n",
      "1978-01-01 00:00:00-1979-01-01 00:00:00\n",
      "1979-01-01 00:00:00-1980-01-01 00:00:00\n",
      "1980-01-01 00:00:00-1981-01-01 00:00:00\n",
      "1981-01-01 00:00:00-1982-01-01 00:00:00\n",
      "1982-01-01 00:00:00-1983-01-01 00:00:00\n",
      "1983-01-01 00:00:00-1984-01-01 00:00:00\n",
      "1984-01-01 00:00:00-1985-01-01 00:00:00\n",
      "1985-01-01 00:00:00-1986-01-01 00:00:00\n",
      "1986-01-01 00:00:00-1987-01-01 00:00:00\n",
      "1987-01-01 00:00:00-1988-01-01 00:00:00\n",
      "1988-01-01 00:00:00-1989-01-01 00:00:00\n",
      "1989-01-01 00:00:00-1990-01-01 00:00:00\n",
      "1990-01-01 00:00:00-1991-01-01 00:00:00\n",
      "1991-01-01 00:00:00-1992-01-01 00:00:00\n",
      "1992-01-01 00:00:00-1993-01-01 00:00:00\n",
      "1993-01-01 00:00:00-1994-01-01 00:00:00\n",
      "1994-01-01 00:00:00-1995-01-01 00:00:00\n",
      "1995-01-01 00:00:00-1996-01-01 00:00:00\n",
      "1996-01-01 00:00:00-1997-01-01 00:00:00\n",
      "1997-01-01 00:00:00-1998-01-01 00:00:00\n",
      "1998-01-01 00:00:00-1999-01-01 00:00:00\n",
      "1999-01-01 00:00:00-2000-01-01 00:00:00\n",
      "2000-01-01 00:00:00-2001-01-01 00:00:00\n",
      "2001-01-01 00:00:00-2002-01-01 00:00:00\n",
      "2002-01-01 00:00:00-2003-01-01 00:00:00\n",
      "2003-01-01 00:00:00-2004-01-01 00:00:00\n",
      "2004-01-01 00:00:00-2005-01-01 00:00:00\n",
      "2005-01-01 00:00:00-2006-01-01 00:00:00\n",
      "2006-01-01 00:00:00-2007-01-01 00:00:00\n",
      "2007-01-01 00:00:00-2008-01-01 00:00:00\n",
      "2008-01-01 00:00:00-2009-01-01 00:00:00\n",
      "2009-01-01 00:00:00-2010-01-01 00:00:00\n",
      "2010-01-01 00:00:00-2011-01-01 00:00:00\n",
      "2011-01-01 00:00:00-2012-01-01 00:00:00\n",
      "2012-01-01 00:00:00-2013-01-01 00:00:00\n",
      "2013-01-01 00:00:00-2014-01-01 00:00:00\n",
      "2014-01-01 00:00:00-2015-01-01 00:00:00\n",
      "2015-01-01 00:00:00-2016-01-01 00:00:00\n",
      "2016-01-01 00:00:00-2017-01-01 00:00:00\n",
      "2017-01-01 00:00:00-2018-01-01 00:00:00\n",
      "2018-01-01 00:00:00-2019-01-01 00:00:00\n",
      "025deg_c1\n",
      "1958-01-01 00:00:00-1959-01-01 00:00:00\n",
      "1959-01-01 00:00:00-1960-01-01 00:00:00\n",
      "1960-01-01 00:00:00-1961-01-01 00:00:00\n",
      "1961-01-01 00:00:00-1962-01-01 00:00:00\n",
      "1962-01-01 00:00:00-1963-01-01 00:00:00\n",
      "1963-01-01 00:00:00-1964-01-01 00:00:00\n",
      "1964-01-01 00:00:00-1965-01-01 00:00:00\n",
      "1965-01-01 00:00:00-1966-01-01 00:00:00\n",
      "1966-01-01 00:00:00-1967-01-01 00:00:00\n",
      "1967-01-01 00:00:00-1968-01-01 00:00:00\n",
      "1968-01-01 00:00:00-1969-01-01 00:00:00\n",
      "1969-01-01 00:00:00-1970-01-01 00:00:00\n",
      "1970-01-01 00:00:00-1971-01-01 00:00:00\n",
      "1971-01-01 00:00:00-1972-01-01 00:00:00\n",
      "1972-01-01 00:00:00-1973-01-01 00:00:00\n",
      "1973-01-01 00:00:00-1974-01-01 00:00:00\n",
      "1974-01-01 00:00:00-1975-01-01 00:00:00\n",
      "1975-01-01 00:00:00-1976-01-01 00:00:00\n",
      "1976-01-01 00:00:00-1977-01-01 00:00:00\n",
      "1977-01-01 00:00:00-1978-01-01 00:00:00\n",
      "1978-01-01 00:00:00-1979-01-01 00:00:00\n",
      "1979-01-01 00:00:00-1980-01-01 00:00:00\n",
      "1980-01-01 00:00:00-1981-01-01 00:00:00\n",
      "1981-01-01 00:00:00-1982-01-01 00:00:00\n",
      "1982-01-01 00:00:00-1983-01-01 00:00:00\n",
      "1983-01-01 00:00:00-1984-01-01 00:00:00\n",
      "1984-01-01 00:00:00-1985-01-01 00:00:00\n",
      "1985-01-01 00:00:00-1986-01-01 00:00:00\n",
      "1986-01-01 00:00:00-1987-01-01 00:00:00\n",
      "1987-01-01 00:00:00-1988-01-01 00:00:00\n",
      "1988-01-01 00:00:00-1989-01-01 00:00:00\n",
      "1989-01-01 00:00:00-1990-01-01 00:00:00\n",
      "1990-01-01 00:00:00-1991-01-01 00:00:00\n",
      "1991-01-01 00:00:00-1992-01-01 00:00:00\n",
      "1992-01-01 00:00:00-1993-01-01 00:00:00\n",
      "1993-01-01 00:00:00-1994-01-01 00:00:00\n",
      "1994-01-01 00:00:00-1995-01-01 00:00:00\n",
      "1995-01-01 00:00:00-1996-01-01 00:00:00\n",
      "1996-01-01 00:00:00-1997-01-01 00:00:00\n",
      "1997-01-01 00:00:00-1998-01-01 00:00:00\n",
      "1998-01-01 00:00:00-1999-01-01 00:00:00\n",
      "1999-01-01 00:00:00-2000-01-01 00:00:00\n",
      "2000-01-01 00:00:00-2001-01-01 00:00:00\n",
      "2001-01-01 00:00:00-2002-01-01 00:00:00\n",
      "2002-01-01 00:00:00-2003-01-01 00:00:00\n",
      "2003-01-01 00:00:00-2004-01-01 00:00:00\n",
      "2004-01-01 00:00:00-2005-01-01 00:00:00\n",
      "2005-01-01 00:00:00-2006-01-01 00:00:00\n",
      "2006-01-01 00:00:00-2007-01-01 00:00:00\n",
      "2007-01-01 00:00:00-2008-01-01 00:00:00\n",
      "2008-01-01 00:00:00-2009-01-01 00:00:00\n",
      "2009-01-01 00:00:00-2010-01-01 00:00:00\n",
      "2010-01-01 00:00:00-2011-01-01 00:00:00\n",
      "2011-01-01 00:00:00-2012-01-01 00:00:00\n",
      "2012-01-01 00:00:00-2013-01-01 00:00:00\n",
      "2013-01-01 00:00:00-2014-01-01 00:00:00\n",
      "2014-01-01 00:00:00-2015-01-01 00:00:00\n",
      "2015-01-01 00:00:00-2016-01-01 00:00:00\n",
      "2016-01-01 00:00:00-2017-01-01 00:00:00\n",
      "2017-01-01 00:00:00-2018-01-01 00:00:00\n",
      "2018-01-01 00:00:00-2019-01-01 00:00:00\n",
      "01deg_c1\n",
      "1958-01-01 00:00:00-1959-01-01 00:00:00\n",
      "1959-01-01 00:00:00-1960-01-01 00:00:00\n",
      "1960-01-01 00:00:00-1961-01-01 00:00:00\n",
      "1961-01-01 00:00:00-1962-01-01 00:00:00\n",
      "1962-01-01 00:00:00-1963-01-01 00:00:00\n",
      "1963-01-01 00:00:00-1964-01-01 00:00:00\n",
      "1964-01-01 00:00:00-1965-01-01 00:00:00\n",
      "1965-01-01 00:00:00-1966-01-01 00:00:00\n",
      "1966-01-01 00:00:00-1967-01-01 00:00:00\n",
      "1967-01-01 00:00:00-1968-01-01 00:00:00\n",
      "1968-01-01 00:00:00-1969-01-01 00:00:00\n",
      "1969-01-01 00:00:00-1970-01-01 00:00:00\n",
      "1970-01-01 00:00:00-1971-01-01 00:00:00\n",
      "1971-01-01 00:00:00-1972-01-01 00:00:00\n",
      "1972-01-01 00:00:00-1973-01-01 00:00:00\n",
      "1973-01-01 00:00:00-1974-01-01 00:00:00\n",
      "1974-01-01 00:00:00-1975-01-01 00:00:00\n",
      "1975-01-01 00:00:00-1976-01-01 00:00:00\n",
      "1976-01-01 00:00:00-1977-01-01 00:00:00\n",
      "1977-01-01 00:00:00-1978-01-01 00:00:00\n",
      "1978-01-01 00:00:00-1979-01-01 00:00:00\n",
      "1979-01-01 00:00:00-1980-01-01 00:00:00\n",
      "1980-01-01 00:00:00-1981-01-01 00:00:00\n",
      "1981-01-01 00:00:00-1982-01-01 00:00:00\n",
      "1982-01-01 00:00:00-1983-01-01 00:00:00\n",
      "1983-01-01 00:00:00-1984-01-01 00:00:00\n",
      "1984-01-01 00:00:00-1985-01-01 00:00:00\n",
      "1985-01-01 00:00:00-1986-01-01 00:00:00\n",
      "1986-01-01 00:00:00-1987-01-01 00:00:00\n",
      "1987-01-01 00:00:00-1988-01-01 00:00:00\n",
      "1988-01-01 00:00:00-1989-01-01 00:00:00\n"
     ]
    },
    {
     "name": "stderr",
     "output_type": "stream",
     "text": [
      "distributed.utils_perf - WARNING - full garbage collections took 10% CPU time recently (threshold: 10%)\n"
     ]
    },
    {
     "name": "stdout",
     "output_type": "stream",
     "text": [
      "1989-01-01 00:00:00-1990-01-01 00:00:00\n"
     ]
    },
    {
     "name": "stderr",
     "output_type": "stream",
     "text": [
      "distributed.utils_perf - WARNING - full garbage collections took 10% CPU time recently (threshold: 10%)\n"
     ]
    },
    {
     "name": "stdout",
     "output_type": "stream",
     "text": [
      "1990-01-01 00:00:00-1991-01-01 00:00:00\n"
     ]
    },
    {
     "name": "stderr",
     "output_type": "stream",
     "text": [
      "distributed.utils_perf - WARNING - full garbage collections took 10% CPU time recently (threshold: 10%)\n",
      "distributed.utils_perf - WARNING - full garbage collections took 10% CPU time recently (threshold: 10%)\n"
     ]
    },
    {
     "name": "stdout",
     "output_type": "stream",
     "text": [
      "1991-01-01 00:00:00-1992-01-01 00:00:00\n"
     ]
    },
    {
     "name": "stderr",
     "output_type": "stream",
     "text": [
      "distributed.utils_perf - WARNING - full garbage collections took 10% CPU time recently (threshold: 10%)\n"
     ]
    },
    {
     "name": "stdout",
     "output_type": "stream",
     "text": [
      "1992-01-01 00:00:00-1993-01-01 00:00:00\n"
     ]
    },
    {
     "name": "stderr",
     "output_type": "stream",
     "text": [
      "distributed.utils_perf - WARNING - full garbage collections took 10% CPU time recently (threshold: 10%)\n"
     ]
    },
    {
     "name": "stdout",
     "output_type": "stream",
     "text": [
      "1993-01-01 00:00:00-1994-01-01 00:00:00\n"
     ]
    },
    {
     "name": "stderr",
     "output_type": "stream",
     "text": [
      "distributed.utils_perf - WARNING - full garbage collections took 10% CPU time recently (threshold: 10%)\n"
     ]
    },
    {
     "name": "stdout",
     "output_type": "stream",
     "text": [
      "1994-01-01 00:00:00-1995-01-01 00:00:00\n"
     ]
    },
    {
     "name": "stderr",
     "output_type": "stream",
     "text": [
      "distributed.utils_perf - WARNING - full garbage collections took 10% CPU time recently (threshold: 10%)\n"
     ]
    },
    {
     "name": "stdout",
     "output_type": "stream",
     "text": [
      "1995-01-01 00:00:00-1996-01-01 00:00:00\n"
     ]
    },
    {
     "name": "stderr",
     "output_type": "stream",
     "text": [
      "distributed.utils_perf - WARNING - full garbage collections took 10% CPU time recently (threshold: 10%)\n",
      "distributed.utils_perf - WARNING - full garbage collections took 10% CPU time recently (threshold: 10%)\n"
     ]
    },
    {
     "name": "stdout",
     "output_type": "stream",
     "text": [
      "1996-01-01 00:00:00-1997-01-01 00:00:00\n"
     ]
    },
    {
     "name": "stderr",
     "output_type": "stream",
     "text": [
      "distributed.utils_perf - WARNING - full garbage collections took 10% CPU time recently (threshold: 10%)\n"
     ]
    },
    {
     "name": "stdout",
     "output_type": "stream",
     "text": [
      "1997-01-01 00:00:00-1998-01-01 00:00:00\n"
     ]
    },
    {
     "name": "stderr",
     "output_type": "stream",
     "text": [
      "distributed.utils_perf - WARNING - full garbage collections took 10% CPU time recently (threshold: 10%)\n"
     ]
    },
    {
     "name": "stdout",
     "output_type": "stream",
     "text": [
      "1998-01-01 00:00:00-1999-01-01 00:00:00\n"
     ]
    },
    {
     "name": "stderr",
     "output_type": "stream",
     "text": [
      "distributed.utils_perf - WARNING - full garbage collections took 10% CPU time recently (threshold: 10%)\n"
     ]
    },
    {
     "name": "stdout",
     "output_type": "stream",
     "text": [
      "1999-01-01 00:00:00-2000-01-01 00:00:00\n"
     ]
    },
    {
     "name": "stderr",
     "output_type": "stream",
     "text": [
      "distributed.utils_perf - WARNING - full garbage collections took 10% CPU time recently (threshold: 10%)\n"
     ]
    },
    {
     "name": "stdout",
     "output_type": "stream",
     "text": [
      "2000-01-01 00:00:00-2001-01-01 00:00:00\n"
     ]
    },
    {
     "name": "stderr",
     "output_type": "stream",
     "text": [
      "distributed.utils_perf - WARNING - full garbage collections took 10% CPU time recently (threshold: 10%)\n",
      "distributed.utils_perf - WARNING - full garbage collections took 10% CPU time recently (threshold: 10%)\n"
     ]
    },
    {
     "name": "stdout",
     "output_type": "stream",
     "text": [
      "2001-01-01 00:00:00-2002-01-01 00:00:00\n"
     ]
    },
    {
     "name": "stderr",
     "output_type": "stream",
     "text": [
      "distributed.utils_perf - WARNING - full garbage collections took 10% CPU time recently (threshold: 10%)\n"
     ]
    },
    {
     "name": "stdout",
     "output_type": "stream",
     "text": [
      "2002-01-01 00:00:00-2003-01-01 00:00:00\n"
     ]
    },
    {
     "name": "stderr",
     "output_type": "stream",
     "text": [
      "distributed.utils_perf - WARNING - full garbage collections took 10% CPU time recently (threshold: 10%)\n"
     ]
    },
    {
     "name": "stdout",
     "output_type": "stream",
     "text": [
      "2003-01-01 00:00:00-2004-01-01 00:00:00\n"
     ]
    },
    {
     "name": "stderr",
     "output_type": "stream",
     "text": [
      "distributed.utils_perf - WARNING - full garbage collections took 10% CPU time recently (threshold: 10%)\n"
     ]
    },
    {
     "name": "stdout",
     "output_type": "stream",
     "text": [
      "2004-01-01 00:00:00-2005-01-01 00:00:00\n"
     ]
    },
    {
     "name": "stderr",
     "output_type": "stream",
     "text": [
      "distributed.utils_perf - WARNING - full garbage collections took 11% CPU time recently (threshold: 10%)\n"
     ]
    },
    {
     "name": "stdout",
     "output_type": "stream",
     "text": [
      "2005-01-01 00:00:00-2006-01-01 00:00:00\n"
     ]
    },
    {
     "name": "stderr",
     "output_type": "stream",
     "text": [
      "distributed.utils_perf - WARNING - full garbage collections took 12% CPU time recently (threshold: 10%)\n",
      "distributed.utils_perf - WARNING - full garbage collections took 12% CPU time recently (threshold: 10%)\n"
     ]
    },
    {
     "name": "stdout",
     "output_type": "stream",
     "text": [
      "2006-01-01 00:00:00-2007-01-01 00:00:00\n"
     ]
    },
    {
     "name": "stderr",
     "output_type": "stream",
     "text": [
      "distributed.utils_perf - WARNING - full garbage collections took 12% CPU time recently (threshold: 10%)\n"
     ]
    },
    {
     "name": "stdout",
     "output_type": "stream",
     "text": [
      "2007-01-01 00:00:00-2008-01-01 00:00:00\n"
     ]
    },
    {
     "name": "stderr",
     "output_type": "stream",
     "text": [
      "distributed.utils_perf - WARNING - full garbage collections took 12% CPU time recently (threshold: 10%)\n"
     ]
    },
    {
     "name": "stdout",
     "output_type": "stream",
     "text": [
      "2008-01-01 00:00:00-2009-01-01 00:00:00\n"
     ]
    },
    {
     "name": "stderr",
     "output_type": "stream",
     "text": [
      "distributed.utils_perf - WARNING - full garbage collections took 12% CPU time recently (threshold: 10%)\n"
     ]
    },
    {
     "name": "stdout",
     "output_type": "stream",
     "text": [
      "2009-01-01 00:00:00-2010-01-01 00:00:00\n"
     ]
    },
    {
     "name": "stderr",
     "output_type": "stream",
     "text": [
      "distributed.utils_perf - WARNING - full garbage collections took 12% CPU time recently (threshold: 10%)\n"
     ]
    },
    {
     "name": "stdout",
     "output_type": "stream",
     "text": [
      "2010-01-01 00:00:00-2011-01-01 00:00:00\n"
     ]
    },
    {
     "name": "stderr",
     "output_type": "stream",
     "text": [
      "distributed.utils_perf - WARNING - full garbage collections took 11% CPU time recently (threshold: 10%)\n"
     ]
    },
    {
     "name": "stdout",
     "output_type": "stream",
     "text": [
      "2011-01-01 00:00:00-2012-01-01 00:00:00\n"
     ]
    },
    {
     "name": "stderr",
     "output_type": "stream",
     "text": [
      "distributed.utils_perf - WARNING - full garbage collections took 11% CPU time recently (threshold: 10%)\n"
     ]
    },
    {
     "name": "stdout",
     "output_type": "stream",
     "text": [
      "2012-01-01 00:00:00-2013-01-01 00:00:00\n"
     ]
    },
    {
     "name": "stderr",
     "output_type": "stream",
     "text": [
      "distributed.utils_perf - WARNING - full garbage collections took 11% CPU time recently (threshold: 10%)\n",
      "distributed.utils_perf - WARNING - full garbage collections took 11% CPU time recently (threshold: 10%)\n"
     ]
    },
    {
     "name": "stdout",
     "output_type": "stream",
     "text": [
      "2013-01-01 00:00:00-2014-01-01 00:00:00\n"
     ]
    },
    {
     "name": "stderr",
     "output_type": "stream",
     "text": [
      "distributed.utils_perf - WARNING - full garbage collections took 11% CPU time recently (threshold: 10%)\n"
     ]
    },
    {
     "name": "stdout",
     "output_type": "stream",
     "text": [
      "2014-01-01 00:00:00-2015-01-01 00:00:00\n"
     ]
    },
    {
     "name": "stderr",
     "output_type": "stream",
     "text": [
      "distributed.utils_perf - WARNING - full garbage collections took 11% CPU time recently (threshold: 10%)\n"
     ]
    },
    {
     "name": "stdout",
     "output_type": "stream",
     "text": [
      "2015-01-01 00:00:00-2016-01-01 00:00:00\n"
     ]
    },
    {
     "name": "stderr",
     "output_type": "stream",
     "text": [
      "distributed.utils_perf - WARNING - full garbage collections took 11% CPU time recently (threshold: 10%)\n"
     ]
    },
    {
     "name": "stdout",
     "output_type": "stream",
     "text": [
      "2016-01-01 00:00:00-2017-01-01 00:00:00\n"
     ]
    },
    {
     "name": "stderr",
     "output_type": "stream",
     "text": [
      "distributed.utils_perf - WARNING - full garbage collections took 11% CPU time recently (threshold: 10%)\n"
     ]
    },
    {
     "name": "stdout",
     "output_type": "stream",
     "text": [
      "2017-01-01 00:00:00-2018-01-01 00:00:00\n"
     ]
    },
    {
     "name": "stderr",
     "output_type": "stream",
     "text": [
      "distributed.utils_perf - WARNING - full garbage collections took 11% CPU time recently (threshold: 10%)\n"
     ]
    },
    {
     "name": "stdout",
     "output_type": "stream",
     "text": [
      "2018-01-01 00:00:00-2019-01-01 00:00:00\n"
     ]
    },
    {
     "name": "stderr",
     "output_type": "stream",
     "text": [
      "distributed.utils_perf - WARNING - full garbage collections took 11% CPU time recently (threshold: 10%)\n"
     ]
    },
    {
     "name": "stdout",
     "output_type": "stream",
     "text": [
      "1deg_c2\n",
      "1958-01-01 00:00:00-1959-01-01 00:00:00\n",
      "1959-01-01 00:00:00-1960-01-01 00:00:00\n"
     ]
    },
    {
     "name": "stderr",
     "output_type": "stream",
     "text": [
      "distributed.utils_perf - WARNING - full garbage collections took 11% CPU time recently (threshold: 10%)\n"
     ]
    },
    {
     "name": "stdout",
     "output_type": "stream",
     "text": [
      "1960-01-01 00:00:00-1961-01-01 00:00:00\n",
      "1961-01-01 00:00:00-1962-01-01 00:00:00\n",
      "1962-01-01 00:00:00-1963-01-01 00:00:00\n",
      "1963-01-01 00:00:00-1964-01-01 00:00:00\n",
      "1964-01-01 00:00:00-1965-01-01 00:00:00\n",
      "1965-01-01 00:00:00-1966-01-01 00:00:00\n",
      "1966-01-01 00:00:00-1967-01-01 00:00:00\n",
      "1967-01-01 00:00:00-1968-01-01 00:00:00\n",
      "1968-01-01 00:00:00-1969-01-01 00:00:00\n",
      "1969-01-01 00:00:00-1970-01-01 00:00:00\n",
      "1970-01-01 00:00:00-1971-01-01 00:00:00\n",
      "1971-01-01 00:00:00-1972-01-01 00:00:00\n",
      "1972-01-01 00:00:00-1973-01-01 00:00:00\n",
      "1973-01-01 00:00:00-1974-01-01 00:00:00\n",
      "1974-01-01 00:00:00-1975-01-01 00:00:00\n",
      "1975-01-01 00:00:00-1976-01-01 00:00:00\n"
     ]
    },
    {
     "name": "stderr",
     "output_type": "stream",
     "text": [
      "distributed.utils_perf - WARNING - full garbage collections took 11% CPU time recently (threshold: 10%)\n"
     ]
    },
    {
     "name": "stdout",
     "output_type": "stream",
     "text": [
      "1976-01-01 00:00:00-1977-01-01 00:00:00\n",
      "1977-01-01 00:00:00-1978-01-01 00:00:00\n",
      "1978-01-01 00:00:00-1979-01-01 00:00:00\n",
      "1979-01-01 00:00:00-1980-01-01 00:00:00\n",
      "1980-01-01 00:00:00-1981-01-01 00:00:00\n",
      "1981-01-01 00:00:00-1982-01-01 00:00:00\n",
      "1982-01-01 00:00:00-1983-01-01 00:00:00\n",
      "1983-01-01 00:00:00-1984-01-01 00:00:00\n",
      "1984-01-01 00:00:00-1985-01-01 00:00:00\n",
      "1985-01-01 00:00:00-1986-01-01 00:00:00\n",
      "1986-01-01 00:00:00-1987-01-01 00:00:00\n",
      "1987-01-01 00:00:00-1988-01-01 00:00:00\n",
      "1988-01-01 00:00:00-1989-01-01 00:00:00\n",
      "1989-01-01 00:00:00-1990-01-01 00:00:00\n",
      "1990-01-01 00:00:00-1991-01-01 00:00:00\n",
      "1991-01-01 00:00:00-1992-01-01 00:00:00\n",
      "1992-01-01 00:00:00-1993-01-01 00:00:00\n",
      "1993-01-01 00:00:00-1994-01-01 00:00:00\n",
      "1994-01-01 00:00:00-1995-01-01 00:00:00\n",
      "1995-01-01 00:00:00-1996-01-01 00:00:00\n",
      "1996-01-01 00:00:00-1997-01-01 00:00:00\n",
      "1997-01-01 00:00:00-1998-01-01 00:00:00\n",
      "1998-01-01 00:00:00-1999-01-01 00:00:00\n",
      "1999-01-01 00:00:00-2000-01-01 00:00:00\n",
      "2000-01-01 00:00:00-2001-01-01 00:00:00\n",
      "2001-01-01 00:00:00-2002-01-01 00:00:00\n",
      "2002-01-01 00:00:00-2003-01-01 00:00:00\n",
      "2003-01-01 00:00:00-2004-01-01 00:00:00\n",
      "2004-01-01 00:00:00-2005-01-01 00:00:00\n",
      "2005-01-01 00:00:00-2006-01-01 00:00:00\n",
      "2006-01-01 00:00:00-2007-01-01 00:00:00\n",
      "2007-01-01 00:00:00-2008-01-01 00:00:00\n",
      "2008-01-01 00:00:00-2009-01-01 00:00:00\n",
      "2009-01-01 00:00:00-2010-01-01 00:00:00\n",
      "2010-01-01 00:00:00-2011-01-01 00:00:00\n",
      "2011-01-01 00:00:00-2012-01-01 00:00:00\n",
      "2012-01-01 00:00:00-2013-01-01 00:00:00\n",
      "2013-01-01 00:00:00-2014-01-01 00:00:00\n",
      "2014-01-01 00:00:00-2015-01-01 00:00:00\n",
      "2015-01-01 00:00:00-2016-01-01 00:00:00\n",
      "2016-01-01 00:00:00-2017-01-01 00:00:00\n",
      "2017-01-01 00:00:00-2018-01-01 00:00:00\n",
      "2018-01-01 00:00:00-2019-01-01 00:00:00\n",
      "025deg_c2\n",
      "1958-01-01 00:00:00-1959-01-01 00:00:00\n",
      "1959-01-01 00:00:00-1960-01-01 00:00:00\n",
      "1960-01-01 00:00:00-1961-01-01 00:00:00\n",
      "1961-01-01 00:00:00-1962-01-01 00:00:00\n",
      "1962-01-01 00:00:00-1963-01-01 00:00:00\n",
      "1963-01-01 00:00:00-1964-01-01 00:00:00\n",
      "1964-01-01 00:00:00-1965-01-01 00:00:00\n",
      "1965-01-01 00:00:00-1966-01-01 00:00:00\n",
      "1966-01-01 00:00:00-1967-01-01 00:00:00\n",
      "1967-01-01 00:00:00-1968-01-01 00:00:00\n",
      "1968-01-01 00:00:00-1969-01-01 00:00:00\n",
      "1969-01-01 00:00:00-1970-01-01 00:00:00\n",
      "1970-01-01 00:00:00-1971-01-01 00:00:00\n",
      "1971-01-01 00:00:00-1972-01-01 00:00:00\n",
      "1972-01-01 00:00:00-1973-01-01 00:00:00\n",
      "1973-01-01 00:00:00-1974-01-01 00:00:00\n",
      "1974-01-01 00:00:00-1975-01-01 00:00:00\n",
      "1975-01-01 00:00:00-1976-01-01 00:00:00\n",
      "1976-01-01 00:00:00-1977-01-01 00:00:00\n",
      "1977-01-01 00:00:00-1978-01-01 00:00:00\n",
      "1978-01-01 00:00:00-1979-01-01 00:00:00\n",
      "1979-01-01 00:00:00-1980-01-01 00:00:00\n",
      "1980-01-01 00:00:00-1981-01-01 00:00:00\n",
      "1981-01-01 00:00:00-1982-01-01 00:00:00\n",
      "1982-01-01 00:00:00-1983-01-01 00:00:00\n",
      "1983-01-01 00:00:00-1984-01-01 00:00:00\n",
      "1984-01-01 00:00:00-1985-01-01 00:00:00\n",
      "1985-01-01 00:00:00-1986-01-01 00:00:00\n",
      "1986-01-01 00:00:00-1987-01-01 00:00:00\n",
      "1987-01-01 00:00:00-1988-01-01 00:00:00\n",
      "1988-01-01 00:00:00-1989-01-01 00:00:00\n",
      "1989-01-01 00:00:00-1990-01-01 00:00:00\n",
      "1990-01-01 00:00:00-1991-01-01 00:00:00\n",
      "1991-01-01 00:00:00-1992-01-01 00:00:00\n",
      "1992-01-01 00:00:00-1993-01-01 00:00:00\n",
      "1993-01-01 00:00:00-1994-01-01 00:00:00\n",
      "1994-01-01 00:00:00-1995-01-01 00:00:00\n",
      "1995-01-01 00:00:00-1996-01-01 00:00:00\n",
      "1996-01-01 00:00:00-1997-01-01 00:00:00\n",
      "1997-01-01 00:00:00-1998-01-01 00:00:00\n",
      "1998-01-01 00:00:00-1999-01-01 00:00:00\n",
      "1999-01-01 00:00:00-2000-01-01 00:00:00\n",
      "2000-01-01 00:00:00-2001-01-01 00:00:00\n",
      "2001-01-01 00:00:00-2002-01-01 00:00:00\n",
      "2002-01-01 00:00:00-2003-01-01 00:00:00\n",
      "2003-01-01 00:00:00-2004-01-01 00:00:00\n",
      "2004-01-01 00:00:00-2005-01-01 00:00:00\n",
      "2005-01-01 00:00:00-2006-01-01 00:00:00\n",
      "2006-01-01 00:00:00-2007-01-01 00:00:00\n",
      "2007-01-01 00:00:00-2008-01-01 00:00:00\n",
      "2008-01-01 00:00:00-2009-01-01 00:00:00\n",
      "2009-01-01 00:00:00-2010-01-01 00:00:00\n",
      "2010-01-01 00:00:00-2011-01-01 00:00:00\n",
      "2011-01-01 00:00:00-2012-01-01 00:00:00\n",
      "2012-01-01 00:00:00-2013-01-01 00:00:00\n",
      "2013-01-01 00:00:00-2014-01-01 00:00:00\n",
      "2014-01-01 00:00:00-2015-01-01 00:00:00\n",
      "2015-01-01 00:00:00-2016-01-01 00:00:00\n",
      "2016-01-01 00:00:00-2017-01-01 00:00:00\n",
      "2017-01-01 00:00:00-2018-01-01 00:00:00\n",
      "2018-01-01 00:00:00-2019-01-01 00:00:00\n",
      "01deg_c2\n",
      "1958-01-01 00:00:00-1959-01-01 00:00:00\n",
      "1959-01-01 00:00:00-1960-01-01 00:00:00\n",
      "1960-01-01 00:00:00-1961-01-01 00:00:00\n",
      "1961-01-01 00:00:00-1962-01-01 00:00:00\n",
      "1962-01-01 00:00:00-1963-01-01 00:00:00\n",
      "1963-01-01 00:00:00-1964-01-01 00:00:00\n",
      "1964-01-01 00:00:00-1965-01-01 00:00:00\n",
      "1965-01-01 00:00:00-1966-01-01 00:00:00\n",
      "1966-01-01 00:00:00-1967-01-01 00:00:00\n",
      "1967-01-01 00:00:00-1968-01-01 00:00:00\n",
      "1968-01-01 00:00:00-1969-01-01 00:00:00\n",
      "1969-01-01 00:00:00-1970-01-01 00:00:00\n",
      "1970-01-01 00:00:00-1971-01-01 00:00:00\n",
      "1971-01-01 00:00:00-1972-01-01 00:00:00\n",
      "1972-01-01 00:00:00-1973-01-01 00:00:00\n",
      "1973-01-01 00:00:00-1974-01-01 00:00:00\n",
      "1974-01-01 00:00:00-1975-01-01 00:00:00\n",
      "1975-01-01 00:00:00-1976-01-01 00:00:00\n",
      "1976-01-01 00:00:00-1977-01-01 00:00:00\n",
      "1977-01-01 00:00:00-1978-01-01 00:00:00\n",
      "1978-01-01 00:00:00-1979-01-01 00:00:00\n",
      "1979-01-01 00:00:00-1980-01-01 00:00:00\n",
      "1980-01-01 00:00:00-1981-01-01 00:00:00\n",
      "1981-01-01 00:00:00-1982-01-01 00:00:00\n"
     ]
    },
    {
     "name": "stderr",
     "output_type": "stream",
     "text": [
      "distributed.utils_perf - WARNING - full garbage collections took 10% CPU time recently (threshold: 10%)\n"
     ]
    },
    {
     "name": "stdout",
     "output_type": "stream",
     "text": [
      "1982-01-01 00:00:00-1983-01-01 00:00:00\n"
     ]
    },
    {
     "name": "stderr",
     "output_type": "stream",
     "text": [
      "distributed.utils_perf - WARNING - full garbage collections took 10% CPU time recently (threshold: 10%)\n"
     ]
    },
    {
     "name": "stdout",
     "output_type": "stream",
     "text": [
      "1983-01-01 00:00:00-1984-01-01 00:00:00\n"
     ]
    },
    {
     "name": "stderr",
     "output_type": "stream",
     "text": [
      "distributed.utils_perf - WARNING - full garbage collections took 10% CPU time recently (threshold: 10%)\n"
     ]
    },
    {
     "name": "stdout",
     "output_type": "stream",
     "text": [
      "1984-01-01 00:00:00-1985-01-01 00:00:00\n",
      "1985-01-01 00:00:00-1986-01-01 00:00:00\n"
     ]
    },
    {
     "name": "stderr",
     "output_type": "stream",
     "text": [
      "distributed.utils_perf - WARNING - full garbage collections took 10% CPU time recently (threshold: 10%)\n"
     ]
    },
    {
     "name": "stdout",
     "output_type": "stream",
     "text": [
      "1986-01-01 00:00:00-1987-01-01 00:00:00\n"
     ]
    },
    {
     "name": "stderr",
     "output_type": "stream",
     "text": [
      "distributed.utils_perf - WARNING - full garbage collections took 10% CPU time recently (threshold: 10%)\n"
     ]
    },
    {
     "name": "stdout",
     "output_type": "stream",
     "text": [
      "1987-01-01 00:00:00-1988-01-01 00:00:00\n"
     ]
    },
    {
     "name": "stderr",
     "output_type": "stream",
     "text": [
      "distributed.utils_perf - WARNING - full garbage collections took 10% CPU time recently (threshold: 10%)\n"
     ]
    },
    {
     "name": "stdout",
     "output_type": "stream",
     "text": [
      "1988-01-01 00:00:00-1989-01-01 00:00:00\n"
     ]
    },
    {
     "name": "stderr",
     "output_type": "stream",
     "text": [
      "distributed.utils_perf - WARNING - full garbage collections took 10% CPU time recently (threshold: 10%)\n"
     ]
    },
    {
     "name": "stdout",
     "output_type": "stream",
     "text": [
      "1989-01-01 00:00:00-1990-01-01 00:00:00\n"
     ]
    },
    {
     "name": "stderr",
     "output_type": "stream",
     "text": [
      "distributed.utils_perf - WARNING - full garbage collections took 10% CPU time recently (threshold: 10%)\n"
     ]
    },
    {
     "name": "stdout",
     "output_type": "stream",
     "text": [
      "1990-01-01 00:00:00-1991-01-01 00:00:00\n"
     ]
    },
    {
     "name": "stderr",
     "output_type": "stream",
     "text": [
      "distributed.utils_perf - WARNING - full garbage collections took 10% CPU time recently (threshold: 10%)\n"
     ]
    },
    {
     "name": "stdout",
     "output_type": "stream",
     "text": [
      "1991-01-01 00:00:00-1992-01-01 00:00:00\n"
     ]
    },
    {
     "name": "stderr",
     "output_type": "stream",
     "text": [
      "distributed.utils_perf - WARNING - full garbage collections took 10% CPU time recently (threshold: 10%)\n"
     ]
    },
    {
     "name": "stdout",
     "output_type": "stream",
     "text": [
      "1992-01-01 00:00:00-1993-01-01 00:00:00\n",
      "1993-01-01 00:00:00-1994-01-01 00:00:00\n"
     ]
    },
    {
     "name": "stderr",
     "output_type": "stream",
     "text": [
      "distributed.utils_perf - WARNING - full garbage collections took 10% CPU time recently (threshold: 10%)\n"
     ]
    },
    {
     "name": "stdout",
     "output_type": "stream",
     "text": [
      "1994-01-01 00:00:00-1995-01-01 00:00:00\n"
     ]
    },
    {
     "name": "stderr",
     "output_type": "stream",
     "text": [
      "distributed.utils_perf - WARNING - full garbage collections took 10% CPU time recently (threshold: 10%)\n"
     ]
    },
    {
     "name": "stdout",
     "output_type": "stream",
     "text": [
      "1995-01-01 00:00:00-1996-01-01 00:00:00\n"
     ]
    },
    {
     "name": "stderr",
     "output_type": "stream",
     "text": [
      "distributed.utils_perf - WARNING - full garbage collections took 10% CPU time recently (threshold: 10%)\n"
     ]
    },
    {
     "name": "stdout",
     "output_type": "stream",
     "text": [
      "1996-01-01 00:00:00-1997-01-01 00:00:00\n"
     ]
    },
    {
     "name": "stderr",
     "output_type": "stream",
     "text": [
      "distributed.utils_perf - WARNING - full garbage collections took 11% CPU time recently (threshold: 10%)\n"
     ]
    },
    {
     "name": "stdout",
     "output_type": "stream",
     "text": [
      "1997-01-01 00:00:00-1998-01-01 00:00:00\n"
     ]
    },
    {
     "name": "stderr",
     "output_type": "stream",
     "text": [
      "distributed.utils_perf - WARNING - full garbage collections took 11% CPU time recently (threshold: 10%)\n"
     ]
    },
    {
     "name": "stdout",
     "output_type": "stream",
     "text": [
      "1998-01-01 00:00:00-1999-01-01 00:00:00\n"
     ]
    },
    {
     "name": "stderr",
     "output_type": "stream",
     "text": [
      "distributed.utils_perf - WARNING - full garbage collections took 11% CPU time recently (threshold: 10%)\n"
     ]
    },
    {
     "name": "stdout",
     "output_type": "stream",
     "text": [
      "1999-01-01 00:00:00-2000-01-01 00:00:00\n",
      "2000-01-01 00:00:00-2001-01-01 00:00:00\n"
     ]
    },
    {
     "name": "stderr",
     "output_type": "stream",
     "text": [
      "distributed.utils_perf - WARNING - full garbage collections took 13% CPU time recently (threshold: 10%)\n"
     ]
    },
    {
     "name": "stdout",
     "output_type": "stream",
     "text": [
      "2001-01-01 00:00:00-2002-01-01 00:00:00\n"
     ]
    },
    {
     "name": "stderr",
     "output_type": "stream",
     "text": [
      "distributed.utils_perf - WARNING - full garbage collections took 13% CPU time recently (threshold: 10%)\n"
     ]
    },
    {
     "name": "stdout",
     "output_type": "stream",
     "text": [
      "2002-01-01 00:00:00-2003-01-01 00:00:00\n"
     ]
    },
    {
     "name": "stderr",
     "output_type": "stream",
     "text": [
      "distributed.utils_perf - WARNING - full garbage collections took 15% CPU time recently (threshold: 10%)\n"
     ]
    },
    {
     "name": "stdout",
     "output_type": "stream",
     "text": [
      "2003-01-01 00:00:00-2004-01-01 00:00:00\n"
     ]
    },
    {
     "name": "stderr",
     "output_type": "stream",
     "text": [
      "distributed.utils_perf - WARNING - full garbage collections took 15% CPU time recently (threshold: 10%)\n"
     ]
    },
    {
     "name": "stdout",
     "output_type": "stream",
     "text": [
      "2004-01-01 00:00:00-2005-01-01 00:00:00\n"
     ]
    },
    {
     "name": "stderr",
     "output_type": "stream",
     "text": [
      "distributed.utils_perf - WARNING - full garbage collections took 15% CPU time recently (threshold: 10%)\n"
     ]
    },
    {
     "name": "stdout",
     "output_type": "stream",
     "text": [
      "2005-01-01 00:00:00-2006-01-01 00:00:00\n",
      "2006-01-01 00:00:00-2007-01-01 00:00:00\n"
     ]
    },
    {
     "name": "stderr",
     "output_type": "stream",
     "text": [
      "distributed.utils_perf - WARNING - full garbage collections took 15% CPU time recently (threshold: 10%)\n"
     ]
    },
    {
     "name": "stdout",
     "output_type": "stream",
     "text": [
      "2007-01-01 00:00:00-2008-01-01 00:00:00\n"
     ]
    },
    {
     "name": "stderr",
     "output_type": "stream",
     "text": [
      "distributed.utils_perf - WARNING - full garbage collections took 16% CPU time recently (threshold: 10%)\n"
     ]
    },
    {
     "name": "stdout",
     "output_type": "stream",
     "text": [
      "2008-01-01 00:00:00-2009-01-01 00:00:00\n"
     ]
    },
    {
     "name": "stderr",
     "output_type": "stream",
     "text": [
      "distributed.utils_perf - WARNING - full garbage collections took 16% CPU time recently (threshold: 10%)\n"
     ]
    },
    {
     "name": "stdout",
     "output_type": "stream",
     "text": [
      "2009-01-01 00:00:00-2010-01-01 00:00:00\n"
     ]
    },
    {
     "name": "stderr",
     "output_type": "stream",
     "text": [
      "distributed.utils_perf - WARNING - full garbage collections took 17% CPU time recently (threshold: 10%)\n"
     ]
    },
    {
     "name": "stdout",
     "output_type": "stream",
     "text": [
      "2010-01-01 00:00:00-2011-01-01 00:00:00\n"
     ]
    },
    {
     "name": "stderr",
     "output_type": "stream",
     "text": [
      "distributed.utils_perf - WARNING - full garbage collections took 17% CPU time recently (threshold: 10%)\n"
     ]
    },
    {
     "name": "stdout",
     "output_type": "stream",
     "text": [
      "2011-01-01 00:00:00-2012-01-01 00:00:00\n"
     ]
    },
    {
     "name": "stderr",
     "output_type": "stream",
     "text": [
      "distributed.utils_perf - WARNING - full garbage collections took 17% CPU time recently (threshold: 10%)\n"
     ]
    },
    {
     "name": "stdout",
     "output_type": "stream",
     "text": [
      "2012-01-01 00:00:00-2013-01-01 00:00:00\n"
     ]
    },
    {
     "name": "stderr",
     "output_type": "stream",
     "text": [
      "distributed.utils_perf - WARNING - full garbage collections took 17% CPU time recently (threshold: 10%)\n"
     ]
    },
    {
     "name": "stdout",
     "output_type": "stream",
     "text": [
      "2013-01-01 00:00:00-2014-01-01 00:00:00\n",
      "2014-01-01 00:00:00-2015-01-01 00:00:00\n"
     ]
    },
    {
     "name": "stderr",
     "output_type": "stream",
     "text": [
      "distributed.utils_perf - WARNING - full garbage collections took 17% CPU time recently (threshold: 10%)\n"
     ]
    },
    {
     "name": "stdout",
     "output_type": "stream",
     "text": [
      "2015-01-01 00:00:00-2016-01-01 00:00:00\n"
     ]
    },
    {
     "name": "stderr",
     "output_type": "stream",
     "text": [
      "distributed.utils_perf - WARNING - full garbage collections took 17% CPU time recently (threshold: 10%)\n"
     ]
    },
    {
     "name": "stdout",
     "output_type": "stream",
     "text": [
      "2016-01-01 00:00:00-2017-01-01 00:00:00\n"
     ]
    },
    {
     "name": "stderr",
     "output_type": "stream",
     "text": [
      "distributed.utils_perf - WARNING - full garbage collections took 17% CPU time recently (threshold: 10%)\n"
     ]
    },
    {
     "name": "stdout",
     "output_type": "stream",
     "text": [
      "2017-01-01 00:00:00-2018-01-01 00:00:00\n"
     ]
    },
    {
     "name": "stderr",
     "output_type": "stream",
     "text": [
      "distributed.utils_perf - WARNING - full garbage collections took 17% CPU time recently (threshold: 10%)\n"
     ]
    },
    {
     "name": "stdout",
     "output_type": "stream",
     "text": [
      "2018-01-01 00:00:00-2019-01-01 00:00:00\n"
     ]
    },
    {
     "name": "stderr",
     "output_type": "stream",
     "text": [
      "distributed.utils_perf - WARNING - full garbage collections took 18% CPU time recently (threshold: 10%)\n"
     ]
    },
    {
     "name": "stdout",
     "output_type": "stream",
     "text": [
      "1deg_c3\n",
      "1958-01-01 00:00:00-1959-01-01 00:00:00\n",
      "1959-01-01 00:00:00-1960-01-01 00:00:00\n",
      "1960-01-01 00:00:00-1961-01-01 00:00:00\n",
      "1961-01-01 00:00:00-1962-01-01 00:00:00\n",
      "1962-01-01 00:00:00-1963-01-01 00:00:00\n",
      "1963-01-01 00:00:00-1964-01-01 00:00:00\n",
      "1964-01-01 00:00:00-1965-01-01 00:00:00\n",
      "1965-01-01 00:00:00-1966-01-01 00:00:00\n",
      "1966-01-01 00:00:00-1967-01-01 00:00:00\n",
      "1967-01-01 00:00:00-1968-01-01 00:00:00\n",
      "1968-01-01 00:00:00-1969-01-01 00:00:00\n",
      "1969-01-01 00:00:00-1970-01-01 00:00:00\n",
      "1970-01-01 00:00:00-1971-01-01 00:00:00\n",
      "1971-01-01 00:00:00-1972-01-01 00:00:00\n",
      "1972-01-01 00:00:00-1973-01-01 00:00:00\n"
     ]
    },
    {
     "name": "stderr",
     "output_type": "stream",
     "text": [
      "distributed.utils_perf - WARNING - full garbage collections took 16% CPU time recently (threshold: 10%)\n"
     ]
    },
    {
     "name": "stdout",
     "output_type": "stream",
     "text": [
      "1973-01-01 00:00:00-1974-01-01 00:00:00\n",
      "1974-01-01 00:00:00-1975-01-01 00:00:00\n",
      "1975-01-01 00:00:00-1976-01-01 00:00:00\n",
      "1976-01-01 00:00:00-1977-01-01 00:00:00\n",
      "1977-01-01 00:00:00-1978-01-01 00:00:00\n",
      "1978-01-01 00:00:00-1979-01-01 00:00:00\n",
      "1979-01-01 00:00:00-1980-01-01 00:00:00\n",
      "1980-01-01 00:00:00-1981-01-01 00:00:00\n",
      "1981-01-01 00:00:00-1982-01-01 00:00:00\n",
      "1982-01-01 00:00:00-1983-01-01 00:00:00\n",
      "1983-01-01 00:00:00-1984-01-01 00:00:00\n",
      "1984-01-01 00:00:00-1985-01-01 00:00:00\n",
      "1985-01-01 00:00:00-1986-01-01 00:00:00\n",
      "1986-01-01 00:00:00-1987-01-01 00:00:00\n",
      "1987-01-01 00:00:00-1988-01-01 00:00:00\n",
      "1988-01-01 00:00:00-1989-01-01 00:00:00\n",
      "1989-01-01 00:00:00-1990-01-01 00:00:00\n",
      "1990-01-01 00:00:00-1991-01-01 00:00:00\n",
      "1991-01-01 00:00:00-1992-01-01 00:00:00\n",
      "1992-01-01 00:00:00-1993-01-01 00:00:00\n",
      "1993-01-01 00:00:00-1994-01-01 00:00:00\n",
      "1994-01-01 00:00:00-1995-01-01 00:00:00\n",
      "1995-01-01 00:00:00-1996-01-01 00:00:00\n",
      "1996-01-01 00:00:00-1997-01-01 00:00:00\n"
     ]
    },
    {
     "name": "stderr",
     "output_type": "stream",
     "text": [
      "distributed.utils_perf - WARNING - full garbage collections took 15% CPU time recently (threshold: 10%)\n"
     ]
    },
    {
     "name": "stdout",
     "output_type": "stream",
     "text": [
      "1997-01-01 00:00:00-1998-01-01 00:00:00\n",
      "1998-01-01 00:00:00-1999-01-01 00:00:00\n",
      "1999-01-01 00:00:00-2000-01-01 00:00:00\n",
      "2000-01-01 00:00:00-2001-01-01 00:00:00\n",
      "2001-01-01 00:00:00-2002-01-01 00:00:00\n",
      "2002-01-01 00:00:00-2003-01-01 00:00:00\n",
      "2003-01-01 00:00:00-2004-01-01 00:00:00\n",
      "2004-01-01 00:00:00-2005-01-01 00:00:00\n",
      "2005-01-01 00:00:00-2006-01-01 00:00:00\n",
      "2006-01-01 00:00:00-2007-01-01 00:00:00\n",
      "2007-01-01 00:00:00-2008-01-01 00:00:00\n",
      "2008-01-01 00:00:00-2009-01-01 00:00:00\n",
      "2009-01-01 00:00:00-2010-01-01 00:00:00\n",
      "2010-01-01 00:00:00-2011-01-01 00:00:00\n",
      "2011-01-01 00:00:00-2012-01-01 00:00:00\n",
      "2012-01-01 00:00:00-2013-01-01 00:00:00\n",
      "2013-01-01 00:00:00-2014-01-01 00:00:00\n",
      "2014-01-01 00:00:00-2015-01-01 00:00:00\n",
      "2015-01-01 00:00:00-2016-01-01 00:00:00\n",
      "2016-01-01 00:00:00-2017-01-01 00:00:00\n",
      "2017-01-01 00:00:00-2018-01-01 00:00:00\n",
      "2018-01-01 00:00:00-2019-01-01 00:00:00\n",
      "025deg_c3\n",
      "1958-01-01 00:00:00-1959-01-01 00:00:00\n"
     ]
    },
    {
     "name": "stderr",
     "output_type": "stream",
     "text": [
      "distributed.utils_perf - WARNING - full garbage collections took 15% CPU time recently (threshold: 10%)\n"
     ]
    },
    {
     "name": "stdout",
     "output_type": "stream",
     "text": [
      "1959-01-01 00:00:00-1960-01-01 00:00:00\n",
      "1960-01-01 00:00:00-1961-01-01 00:00:00\n",
      "1961-01-01 00:00:00-1962-01-01 00:00:00\n",
      "1962-01-01 00:00:00-1963-01-01 00:00:00\n"
     ]
    },
    {
     "name": "stderr",
     "output_type": "stream",
     "text": [
      "distributed.utils_perf - WARNING - full garbage collections took 15% CPU time recently (threshold: 10%)\n"
     ]
    },
    {
     "name": "stdout",
     "output_type": "stream",
     "text": [
      "1963-01-01 00:00:00-1964-01-01 00:00:00\n",
      "1964-01-01 00:00:00-1965-01-01 00:00:00\n",
      "1965-01-01 00:00:00-1966-01-01 00:00:00\n",
      "1966-01-01 00:00:00-1967-01-01 00:00:00\n",
      "1967-01-01 00:00:00-1968-01-01 00:00:00\n"
     ]
    },
    {
     "name": "stderr",
     "output_type": "stream",
     "text": [
      "distributed.utils_perf - WARNING - full garbage collections took 15% CPU time recently (threshold: 10%)\n"
     ]
    },
    {
     "name": "stdout",
     "output_type": "stream",
     "text": [
      "1968-01-01 00:00:00-1969-01-01 00:00:00\n",
      "1969-01-01 00:00:00-1970-01-01 00:00:00\n",
      "1970-01-01 00:00:00-1971-01-01 00:00:00\n",
      "1971-01-01 00:00:00-1972-01-01 00:00:00\n",
      "1972-01-01 00:00:00-1973-01-01 00:00:00\n"
     ]
    },
    {
     "name": "stderr",
     "output_type": "stream",
     "text": [
      "distributed.utils_perf - WARNING - full garbage collections took 12% CPU time recently (threshold: 10%)\n"
     ]
    },
    {
     "name": "stdout",
     "output_type": "stream",
     "text": [
      "1973-01-01 00:00:00-1974-01-01 00:00:00\n",
      "1974-01-01 00:00:00-1975-01-01 00:00:00\n",
      "1975-01-01 00:00:00-1976-01-01 00:00:00\n",
      "1976-01-01 00:00:00-1977-01-01 00:00:00\n",
      "1977-01-01 00:00:00-1978-01-01 00:00:00\n"
     ]
    },
    {
     "name": "stderr",
     "output_type": "stream",
     "text": [
      "distributed.utils_perf - WARNING - full garbage collections took 13% CPU time recently (threshold: 10%)\n"
     ]
    },
    {
     "name": "stdout",
     "output_type": "stream",
     "text": [
      "1978-01-01 00:00:00-1979-01-01 00:00:00\n",
      "1979-01-01 00:00:00-1980-01-01 00:00:00\n",
      "1980-01-01 00:00:00-1981-01-01 00:00:00\n",
      "1981-01-01 00:00:00-1982-01-01 00:00:00\n"
     ]
    },
    {
     "name": "stderr",
     "output_type": "stream",
     "text": [
      "distributed.utils_perf - WARNING - full garbage collections took 13% CPU time recently (threshold: 10%)\n"
     ]
    },
    {
     "name": "stdout",
     "output_type": "stream",
     "text": [
      "1982-01-01 00:00:00-1983-01-01 00:00:00\n",
      "1983-01-01 00:00:00-1984-01-01 00:00:00\n",
      "1984-01-01 00:00:00-1985-01-01 00:00:00\n",
      "1985-01-01 00:00:00-1986-01-01 00:00:00\n",
      "1986-01-01 00:00:00-1987-01-01 00:00:00\n"
     ]
    },
    {
     "name": "stderr",
     "output_type": "stream",
     "text": [
      "distributed.utils_perf - WARNING - full garbage collections took 13% CPU time recently (threshold: 10%)\n"
     ]
    },
    {
     "name": "stdout",
     "output_type": "stream",
     "text": [
      "1987-01-01 00:00:00-1988-01-01 00:00:00\n",
      "1988-01-01 00:00:00-1989-01-01 00:00:00\n",
      "1989-01-01 00:00:00-1990-01-01 00:00:00\n",
      "1990-01-01 00:00:00-1991-01-01 00:00:00\n",
      "1991-01-01 00:00:00-1992-01-01 00:00:00\n"
     ]
    },
    {
     "name": "stderr",
     "output_type": "stream",
     "text": [
      "distributed.utils_perf - WARNING - full garbage collections took 12% CPU time recently (threshold: 10%)\n"
     ]
    },
    {
     "name": "stdout",
     "output_type": "stream",
     "text": [
      "1992-01-01 00:00:00-1993-01-01 00:00:00\n",
      "1993-01-01 00:00:00-1994-01-01 00:00:00\n",
      "1994-01-01 00:00:00-1995-01-01 00:00:00\n",
      "1995-01-01 00:00:00-1996-01-01 00:00:00\n",
      "1996-01-01 00:00:00-1997-01-01 00:00:00\n"
     ]
    },
    {
     "name": "stderr",
     "output_type": "stream",
     "text": [
      "distributed.utils_perf - WARNING - full garbage collections took 12% CPU time recently (threshold: 10%)\n"
     ]
    },
    {
     "name": "stdout",
     "output_type": "stream",
     "text": [
      "1997-01-01 00:00:00-1998-01-01 00:00:00\n",
      "1998-01-01 00:00:00-1999-01-01 00:00:00\n",
      "1999-01-01 00:00:00-2000-01-01 00:00:00\n",
      "2000-01-01 00:00:00-2001-01-01 00:00:00\n"
     ]
    },
    {
     "name": "stderr",
     "output_type": "stream",
     "text": [
      "distributed.utils_perf - WARNING - full garbage collections took 12% CPU time recently (threshold: 10%)\n"
     ]
    },
    {
     "name": "stdout",
     "output_type": "stream",
     "text": [
      "2001-01-01 00:00:00-2002-01-01 00:00:00\n",
      "2002-01-01 00:00:00-2003-01-01 00:00:00\n",
      "2003-01-01 00:00:00-2004-01-01 00:00:00\n",
      "2004-01-01 00:00:00-2005-01-01 00:00:00\n",
      "2005-01-01 00:00:00-2006-01-01 00:00:00\n"
     ]
    },
    {
     "name": "stderr",
     "output_type": "stream",
     "text": [
      "distributed.utils_perf - WARNING - full garbage collections took 12% CPU time recently (threshold: 10%)\n"
     ]
    },
    {
     "name": "stdout",
     "output_type": "stream",
     "text": [
      "2006-01-01 00:00:00-2007-01-01 00:00:00\n",
      "2007-01-01 00:00:00-2008-01-01 00:00:00\n",
      "2008-01-01 00:00:00-2009-01-01 00:00:00\n",
      "2009-01-01 00:00:00-2010-01-01 00:00:00\n",
      "2010-01-01 00:00:00-2011-01-01 00:00:00\n"
     ]
    },
    {
     "name": "stderr",
     "output_type": "stream",
     "text": [
      "distributed.utils_perf - WARNING - full garbage collections took 11% CPU time recently (threshold: 10%)\n"
     ]
    },
    {
     "name": "stdout",
     "output_type": "stream",
     "text": [
      "2011-01-01 00:00:00-2012-01-01 00:00:00\n",
      "2012-01-01 00:00:00-2013-01-01 00:00:00\n",
      "2013-01-01 00:00:00-2014-01-01 00:00:00\n",
      "2014-01-01 00:00:00-2015-01-01 00:00:00\n",
      "2015-01-01 00:00:00-2016-01-01 00:00:00\n"
     ]
    },
    {
     "name": "stderr",
     "output_type": "stream",
     "text": [
      "distributed.utils_perf - WARNING - full garbage collections took 11% CPU time recently (threshold: 10%)\n"
     ]
    },
    {
     "name": "stdout",
     "output_type": "stream",
     "text": [
      "2016-01-01 00:00:00-2017-01-01 00:00:00\n",
      "2017-01-01 00:00:00-2018-01-01 00:00:00\n",
      "2018-01-01 00:00:00-2019-01-01 00:00:00\n",
      "01deg_c3\n",
      "1958-01-01 00:00:00-1959-01-01 00:00:00\n"
     ]
    },
    {
     "name": "stderr",
     "output_type": "stream",
     "text": [
      "distributed.utils_perf - WARNING - full garbage collections took 11% CPU time recently (threshold: 10%)\n"
     ]
    },
    {
     "name": "stdout",
     "output_type": "stream",
     "text": [
      "1959-01-01 00:00:00-1960-01-01 00:00:00\n"
     ]
    },
    {
     "name": "stderr",
     "output_type": "stream",
     "text": [
      "distributed.utils_perf - WARNING - full garbage collections took 11% CPU time recently (threshold: 10%)\n"
     ]
    },
    {
     "name": "stdout",
     "output_type": "stream",
     "text": [
      "1960-01-01 00:00:00-1961-01-01 00:00:00\n",
      "1961-01-01 00:00:00-1962-01-01 00:00:00\n"
     ]
    },
    {
     "name": "stderr",
     "output_type": "stream",
     "text": [
      "distributed.utils_perf - WARNING - full garbage collections took 11% CPU time recently (threshold: 10%)\n"
     ]
    },
    {
     "name": "stdout",
     "output_type": "stream",
     "text": [
      "1962-01-01 00:00:00-1963-01-01 00:00:00\n"
     ]
    },
    {
     "name": "stderr",
     "output_type": "stream",
     "text": [
      "distributed.utils_perf - WARNING - full garbage collections took 11% CPU time recently (threshold: 10%)\n"
     ]
    },
    {
     "name": "stdout",
     "output_type": "stream",
     "text": [
      "1963-01-01 00:00:00-1964-01-01 00:00:00\n",
      "1964-01-01 00:00:00-1965-01-01 00:00:00\n"
     ]
    },
    {
     "name": "stderr",
     "output_type": "stream",
     "text": [
      "distributed.utils_perf - WARNING - full garbage collections took 11% CPU time recently (threshold: 10%)\n"
     ]
    },
    {
     "name": "stdout",
     "output_type": "stream",
     "text": [
      "1965-01-01 00:00:00-1966-01-01 00:00:00\n"
     ]
    },
    {
     "name": "stderr",
     "output_type": "stream",
     "text": [
      "distributed.utils_perf - WARNING - full garbage collections took 11% CPU time recently (threshold: 10%)\n"
     ]
    },
    {
     "name": "stdout",
     "output_type": "stream",
     "text": [
      "1966-01-01 00:00:00-1967-01-01 00:00:00\n",
      "1967-01-01 00:00:00-1968-01-01 00:00:00\n"
     ]
    },
    {
     "name": "stderr",
     "output_type": "stream",
     "text": [
      "distributed.utils_perf - WARNING - full garbage collections took 11% CPU time recently (threshold: 10%)\n"
     ]
    },
    {
     "name": "stdout",
     "output_type": "stream",
     "text": [
      "1968-01-01 00:00:00-1969-01-01 00:00:00\n"
     ]
    },
    {
     "name": "stderr",
     "output_type": "stream",
     "text": [
      "distributed.utils_perf - WARNING - full garbage collections took 11% CPU time recently (threshold: 10%)\n"
     ]
    },
    {
     "name": "stdout",
     "output_type": "stream",
     "text": [
      "1969-01-01 00:00:00-1970-01-01 00:00:00\n",
      "1970-01-01 00:00:00-1971-01-01 00:00:00\n"
     ]
    },
    {
     "name": "stderr",
     "output_type": "stream",
     "text": [
      "distributed.utils_perf - WARNING - full garbage collections took 11% CPU time recently (threshold: 10%)\n"
     ]
    },
    {
     "name": "stdout",
     "output_type": "stream",
     "text": [
      "1971-01-01 00:00:00-1972-01-01 00:00:00\n"
     ]
    },
    {
     "name": "stderr",
     "output_type": "stream",
     "text": [
      "distributed.utils_perf - WARNING - full garbage collections took 11% CPU time recently (threshold: 10%)\n"
     ]
    },
    {
     "name": "stdout",
     "output_type": "stream",
     "text": [
      "1972-01-01 00:00:00-1973-01-01 00:00:00\n"
     ]
    },
    {
     "name": "stderr",
     "output_type": "stream",
     "text": [
      "distributed.utils_perf - WARNING - full garbage collections took 11% CPU time recently (threshold: 10%)\n"
     ]
    },
    {
     "name": "stdout",
     "output_type": "stream",
     "text": [
      "1973-01-01 00:00:00-1974-01-01 00:00:00\n",
      "1974-01-01 00:00:00-1975-01-01 00:00:00\n"
     ]
    },
    {
     "name": "stderr",
     "output_type": "stream",
     "text": [
      "distributed.utils_perf - WARNING - full garbage collections took 11% CPU time recently (threshold: 10%)\n"
     ]
    },
    {
     "name": "stdout",
     "output_type": "stream",
     "text": [
      "1975-01-01 00:00:00-1976-01-01 00:00:00\n"
     ]
    },
    {
     "name": "stderr",
     "output_type": "stream",
     "text": [
      "distributed.utils_perf - WARNING - full garbage collections took 11% CPU time recently (threshold: 10%)\n"
     ]
    },
    {
     "name": "stdout",
     "output_type": "stream",
     "text": [
      "1976-01-01 00:00:00-1977-01-01 00:00:00\n",
      "1977-01-01 00:00:00-1978-01-01 00:00:00\n"
     ]
    },
    {
     "name": "stderr",
     "output_type": "stream",
     "text": [
      "distributed.utils_perf - WARNING - full garbage collections took 11% CPU time recently (threshold: 10%)\n"
     ]
    },
    {
     "name": "stdout",
     "output_type": "stream",
     "text": [
      "1978-01-01 00:00:00-1979-01-01 00:00:00\n"
     ]
    },
    {
     "name": "stderr",
     "output_type": "stream",
     "text": [
      "distributed.utils_perf - WARNING - full garbage collections took 11% CPU time recently (threshold: 10%)\n"
     ]
    },
    {
     "name": "stdout",
     "output_type": "stream",
     "text": [
      "1979-01-01 00:00:00-1980-01-01 00:00:00\n",
      "1980-01-01 00:00:00-1981-01-01 00:00:00\n"
     ]
    },
    {
     "name": "stderr",
     "output_type": "stream",
     "text": [
      "distributed.utils_perf - WARNING - full garbage collections took 10% CPU time recently (threshold: 10%)\n"
     ]
    },
    {
     "name": "stdout",
     "output_type": "stream",
     "text": [
      "1981-01-01 00:00:00-1982-01-01 00:00:00\n"
     ]
    },
    {
     "name": "stderr",
     "output_type": "stream",
     "text": [
      "distributed.utils_perf - WARNING - full garbage collections took 11% CPU time recently (threshold: 10%)\n"
     ]
    },
    {
     "name": "stdout",
     "output_type": "stream",
     "text": [
      "1982-01-01 00:00:00-1983-01-01 00:00:00\n"
     ]
    },
    {
     "name": "stderr",
     "output_type": "stream",
     "text": [
      "distributed.utils_perf - WARNING - full garbage collections took 11% CPU time recently (threshold: 10%)\n"
     ]
    },
    {
     "name": "stdout",
     "output_type": "stream",
     "text": [
      "1983-01-01 00:00:00-1984-01-01 00:00:00\n",
      "1984-01-01 00:00:00-1985-01-01 00:00:00\n"
     ]
    },
    {
     "name": "stderr",
     "output_type": "stream",
     "text": [
      "distributed.utils_perf - WARNING - full garbage collections took 11% CPU time recently (threshold: 10%)\n"
     ]
    },
    {
     "name": "stdout",
     "output_type": "stream",
     "text": [
      "1985-01-01 00:00:00-1986-01-01 00:00:00\n"
     ]
    },
    {
     "name": "stderr",
     "output_type": "stream",
     "text": [
      "distributed.utils_perf - WARNING - full garbage collections took 11% CPU time recently (threshold: 10%)\n"
     ]
    },
    {
     "name": "stdout",
     "output_type": "stream",
     "text": [
      "1986-01-01 00:00:00-1987-01-01 00:00:00\n",
      "1987-01-01 00:00:00-1988-01-01 00:00:00\n"
     ]
    },
    {
     "name": "stderr",
     "output_type": "stream",
     "text": [
      "distributed.utils_perf - WARNING - full garbage collections took 11% CPU time recently (threshold: 10%)\n"
     ]
    },
    {
     "name": "stdout",
     "output_type": "stream",
     "text": [
      "1988-01-01 00:00:00-1989-01-01 00:00:00\n"
     ]
    },
    {
     "name": "stderr",
     "output_type": "stream",
     "text": [
      "distributed.utils_perf - WARNING - full garbage collections took 11% CPU time recently (threshold: 10%)\n"
     ]
    },
    {
     "name": "stdout",
     "output_type": "stream",
     "text": [
      "1989-01-01 00:00:00-1990-01-01 00:00:00\n",
      "1990-01-01 00:00:00-1991-01-01 00:00:00\n"
     ]
    },
    {
     "name": "stderr",
     "output_type": "stream",
     "text": [
      "distributed.utils_perf - WARNING - full garbage collections took 11% CPU time recently (threshold: 10%)\n"
     ]
    },
    {
     "name": "stdout",
     "output_type": "stream",
     "text": [
      "1991-01-01 00:00:00-1992-01-01 00:00:00\n"
     ]
    },
    {
     "name": "stderr",
     "output_type": "stream",
     "text": [
      "distributed.utils_perf - WARNING - full garbage collections took 11% CPU time recently (threshold: 10%)\n"
     ]
    },
    {
     "name": "stdout",
     "output_type": "stream",
     "text": [
      "1992-01-01 00:00:00-1993-01-01 00:00:00\n",
      "1993-01-01 00:00:00-1994-01-01 00:00:00\n"
     ]
    },
    {
     "name": "stderr",
     "output_type": "stream",
     "text": [
      "distributed.utils_perf - WARNING - full garbage collections took 11% CPU time recently (threshold: 10%)\n"
     ]
    },
    {
     "name": "stdout",
     "output_type": "stream",
     "text": [
      "1994-01-01 00:00:00-1995-01-01 00:00:00\n"
     ]
    },
    {
     "name": "stderr",
     "output_type": "stream",
     "text": [
      "distributed.utils_perf - WARNING - full garbage collections took 11% CPU time recently (threshold: 10%)\n"
     ]
    },
    {
     "name": "stdout",
     "output_type": "stream",
     "text": [
      "1995-01-01 00:00:00-1996-01-01 00:00:00\n",
      "1996-01-01 00:00:00-1997-01-01 00:00:00\n"
     ]
    },
    {
     "name": "stderr",
     "output_type": "stream",
     "text": [
      "distributed.utils_perf - WARNING - full garbage collections took 11% CPU time recently (threshold: 10%)\n"
     ]
    },
    {
     "name": "stdout",
     "output_type": "stream",
     "text": [
      "1997-01-01 00:00:00-1998-01-01 00:00:00\n"
     ]
    },
    {
     "name": "stderr",
     "output_type": "stream",
     "text": [
      "distributed.utils_perf - WARNING - full garbage collections took 11% CPU time recently (threshold: 10%)\n"
     ]
    },
    {
     "name": "stdout",
     "output_type": "stream",
     "text": [
      "1998-01-01 00:00:00-1999-01-01 00:00:00\n",
      "1999-01-01 00:00:00-2000-01-01 00:00:00\n"
     ]
    },
    {
     "name": "stderr",
     "output_type": "stream",
     "text": [
      "distributed.utils_perf - WARNING - full garbage collections took 10% CPU time recently (threshold: 10%)\n"
     ]
    },
    {
     "name": "stdout",
     "output_type": "stream",
     "text": [
      "2000-01-01 00:00:00-2001-01-01 00:00:00\n"
     ]
    },
    {
     "name": "stderr",
     "output_type": "stream",
     "text": [
      "distributed.utils_perf - WARNING - full garbage collections took 10% CPU time recently (threshold: 10%)\n"
     ]
    },
    {
     "name": "stdout",
     "output_type": "stream",
     "text": [
      "2001-01-01 00:00:00-2002-01-01 00:00:00\n"
     ]
    },
    {
     "name": "stderr",
     "output_type": "stream",
     "text": [
      "distributed.utils_perf - WARNING - full garbage collections took 10% CPU time recently (threshold: 10%)\n"
     ]
    },
    {
     "name": "stdout",
     "output_type": "stream",
     "text": [
      "2002-01-01 00:00:00-2003-01-01 00:00:00\n",
      "2003-01-01 00:00:00-2004-01-01 00:00:00\n"
     ]
    },
    {
     "name": "stderr",
     "output_type": "stream",
     "text": [
      "distributed.utils_perf - WARNING - full garbage collections took 11% CPU time recently (threshold: 10%)\n"
     ]
    },
    {
     "name": "stdout",
     "output_type": "stream",
     "text": [
      "2004-01-01 00:00:00-2005-01-01 00:00:00\n"
     ]
    },
    {
     "name": "stderr",
     "output_type": "stream",
     "text": [
      "distributed.utils_perf - WARNING - full garbage collections took 11% CPU time recently (threshold: 10%)\n"
     ]
    },
    {
     "name": "stdout",
     "output_type": "stream",
     "text": [
      "2005-01-01 00:00:00-2006-01-01 00:00:00\n",
      "2006-01-01 00:00:00-2007-01-01 00:00:00\n"
     ]
    },
    {
     "name": "stderr",
     "output_type": "stream",
     "text": [
      "distributed.utils_perf - WARNING - full garbage collections took 11% CPU time recently (threshold: 10%)\n"
     ]
    },
    {
     "name": "stdout",
     "output_type": "stream",
     "text": [
      "2007-01-01 00:00:00-2008-01-01 00:00:00\n"
     ]
    },
    {
     "name": "stderr",
     "output_type": "stream",
     "text": [
      "distributed.utils_perf - WARNING - full garbage collections took 11% CPU time recently (threshold: 10%)\n"
     ]
    },
    {
     "name": "stdout",
     "output_type": "stream",
     "text": [
      "2008-01-01 00:00:00-2009-01-01 00:00:00\n",
      "2009-01-01 00:00:00-2010-01-01 00:00:00\n"
     ]
    },
    {
     "name": "stderr",
     "output_type": "stream",
     "text": [
      "distributed.utils_perf - WARNING - full garbage collections took 11% CPU time recently (threshold: 10%)\n"
     ]
    },
    {
     "name": "stdout",
     "output_type": "stream",
     "text": [
      "2010-01-01 00:00:00-2011-01-01 00:00:00\n"
     ]
    },
    {
     "name": "stderr",
     "output_type": "stream",
     "text": [
      "distributed.utils_perf - WARNING - full garbage collections took 11% CPU time recently (threshold: 10%)\n"
     ]
    },
    {
     "name": "stdout",
     "output_type": "stream",
     "text": [
      "2011-01-01 00:00:00-2012-01-01 00:00:00\n",
      "2012-01-01 00:00:00-2013-01-01 00:00:00\n"
     ]
    },
    {
     "name": "stderr",
     "output_type": "stream",
     "text": [
      "distributed.utils_perf - WARNING - full garbage collections took 11% CPU time recently (threshold: 10%)\n"
     ]
    },
    {
     "name": "stdout",
     "output_type": "stream",
     "text": [
      "2013-01-01 00:00:00-2014-01-01 00:00:00\n"
     ]
    },
    {
     "name": "stderr",
     "output_type": "stream",
     "text": [
      "distributed.utils_perf - WARNING - full garbage collections took 11% CPU time recently (threshold: 10%)\n"
     ]
    },
    {
     "name": "stdout",
     "output_type": "stream",
     "text": [
      "2014-01-01 00:00:00-2015-01-01 00:00:00\n",
      "2015-01-01 00:00:00-2016-01-01 00:00:00\n"
     ]
    },
    {
     "name": "stderr",
     "output_type": "stream",
     "text": [
      "distributed.utils_perf - WARNING - full garbage collections took 11% CPU time recently (threshold: 10%)\n"
     ]
    },
    {
     "name": "stdout",
     "output_type": "stream",
     "text": [
      "2016-01-01 00:00:00-2017-01-01 00:00:00\n"
     ]
    },
    {
     "name": "stderr",
     "output_type": "stream",
     "text": [
      "distributed.utils_perf - WARNING - full garbage collections took 11% CPU time recently (threshold: 10%)\n"
     ]
    },
    {
     "name": "stdout",
     "output_type": "stream",
     "text": [
      "2017-01-01 00:00:00-2018-01-01 00:00:00\n",
      "2018-01-01 00:00:00-2019-01-01 00:00:00\n"
     ]
    },
    {
     "name": "stderr",
     "output_type": "stream",
     "text": [
      "distributed.utils_perf - WARNING - full garbage collections took 11% CPU time recently (threshold: 10%)\n"
     ]
    },
    {
     "name": "stdout",
     "output_type": "stream",
     "text": [
      "             1deg_c1  025deg_c1   01deg_c1    1deg_c2  025deg_c2   01deg_c2  \\\n",
      "1958-1959 -13.258690 -10.991136 -11.460603  -8.219184  -6.481525 -11.907808   \n",
      "1959-1960 -12.323820 -10.959953 -12.112440  -8.554464  -6.158961 -12.101757   \n",
      "1960-1961 -13.197903 -12.498023 -14.098995  -9.471695  -7.742918 -12.883297   \n",
      "1961-1962 -13.545202 -12.761459 -13.542351 -10.276499  -8.729441 -12.667336   \n",
      "1962-1963 -12.289729 -11.145937 -13.216709  -8.931449  -6.772574 -12.391393   \n",
      "...              ...        ...        ...        ...        ...        ...   \n",
      "2014-2015  -8.995713  -6.460616 -11.855156  -9.754433  -5.523503 -10.851865   \n",
      "2015-2016  -7.326432  -4.841247 -10.463765  -7.794578  -3.869443  -9.062365   \n",
      "2016-2017  -8.092306  -5.956051 -12.802076  -8.506743  -5.064951 -11.271096   \n",
      "2017-2018 -10.403181  -8.524607 -14.152781 -10.746807  -7.842039 -12.879836   \n",
      "2018-2019  -9.867186  -7.692584 -12.640900 -10.371756  -7.309824 -11.663337   \n",
      "\n",
      "             1deg_c3  025deg_c3   01deg_c3  \n",
      "1958-1959  -8.758297  -5.772785 -10.492292  \n",
      "1959-1960  -9.046263  -5.286799 -10.662288  \n",
      "1960-1961 -10.209460  -7.199012 -11.448425  \n",
      "1961-1962 -11.112559  -7.936855 -11.684667  \n",
      "1962-1963  -9.848424  -6.499601 -11.339392  \n",
      "...              ...        ...        ...  \n",
      "2014-2015  -9.524068  -6.617767 -11.051028  \n",
      "2015-2016  -7.942163  -4.716297  -9.168570  \n",
      "2016-2017  -8.874958  -5.924554 -11.786198  \n",
      "2017-2018 -11.085431  -8.557468 -13.360893  \n",
      "2018-2019 -10.451077  -8.105931 -12.127172  \n",
      "\n",
      "[61 rows x 9 columns]\n",
      "CPU times: user 11min 8s, sys: 1min, total: 12min 9s\n",
      "Wall time: 26min 33s\n"
     ]
    }
   ],
   "source": [
    "%%time\n",
    "\n",
    "a = []\n",
    "\n",
    "for ekey in data.keys():\n",
    "    print(ekey)\n",
    "    \n",
    "    # devide time interval\n",
    "    b = []\n",
    "    c = []\n",
    "    for t in range (58,119,1):\n",
    "        tstart = pd.to_datetime('1900/01/01') + pd.DateOffset(years=t)\n",
    "        tend   = tstart + pd.DateOffset(years=1)\n",
    "        \n",
    "        c.append(str(tstart.year) +'-'+str(tend.year))\n",
    "        print(str(tstart) +'-'+str(tend))  \n",
    "        \n",
    "        # load data for each time interval\n",
    "        \n",
    "        e = data[ekey]\n",
    "        e['tx_trans'] = cc.querying.getvar(e['expt'],'tx_trans', session,\n",
    "                                           start_time=str(tstart.year), \n",
    "                                           end_time=str(tend.year)).sel(time=slice(tstart,tend))\n",
    "        e['ty_trans'] = cc.querying.getvar(e['expt'],'ty_trans', session,\n",
    "                                           start_time=str(tstart.year), \n",
    "                                           end_time=str(tend.year)).sel(time=slice(tstart,tend))\n",
    "        \n",
    "        e['ty_trans'] = e['ty_trans'].where(e['ty_trans']<0, 0)\n",
    "        \n",
    "        # 0-2000m transport \n",
    "        e['tx_trans_int_2000'] = e['tx_trans'].sel(st_ocean=slice(0,2000)).sum('st_ocean')\n",
    "        e['ty_trans_int_2000'] = e['ty_trans'].sel(st_ocean=slice(0,2000)).sum('st_ocean')\n",
    "\n",
    "        \n",
    "        # Tansport of ITF\n",
    "        e['transport'] = dict()\n",
    "        for strait, (xmin, xmax, ymin, ymax) in e['straits'].items():\n",
    "            if strait == 'Lombok Strait':\n",
    "                \n",
    "                if xmin == xmax:\n",
    "                    e['transport'][strait] = e['tx_trans_int_2000'].sel(xu_ocean=xmin, method='nearest')\\\n",
    "                                                                .sel(yt_ocean=slice(ymin, ymax))\\\n",
    "                                                                .sum('yt_ocean')\n",
    "                elif ymin == ymax:\n",
    "                    e['transport'][strait] = e['ty_trans_int_2000'].sel(yu_ocean=ymin, method='nearest')\\\n",
    "                                                                .sel(xt_ocean=slice(xmin, xmax))\\\n",
    "                                                                .sum('xt_ocean')\n",
    "                else:\n",
    "                    raise ValueError('Transports are computed only along lines of either constant latitude or longitude')\n",
    "\n",
    "                trans1 = e['transport'][strait].mean('time').values/1e6/1036\n",
    "                \n",
    "            if strait == 'Ombai Strait':\n",
    "                \n",
    "                if xmin == xmax:\n",
    "                    e['transport'][strait] = e['tx_trans_int_2000'].sel(xu_ocean=xmin, method='nearest')\\\n",
    "                                                                .sel(yt_ocean=slice(ymin, ymax))\\\n",
    "                                                                .sum('yt_ocean')\n",
    "                elif ymin == ymax:\n",
    "                    e['transport'][strait] = e['ty_trans_int_2000'].sel(yu_ocean=ymin, method='nearest')\\\n",
    "                                                                .sel(xt_ocean=slice(xmin, xmax))\\\n",
    "                                                                .sum('xt_ocean')\n",
    "                else:\n",
    "                    raise ValueError('Transports are computed only along lines of either constant latitude or longitude')\n",
    "\n",
    "                trans2 = e['transport'][strait].mean('time').values/1e6/1036\n",
    "                \n",
    "            if strait == 'Timor Strait':\n",
    "                \n",
    "                if xmin == xmax:\n",
    "                    e['transport'][strait] = e['tx_trans_int_2000'].sel(xu_ocean=xmin, method='nearest')\\\n",
    "                                                                .sel(yt_ocean=slice(ymin, ymax))\\\n",
    "                                                                .sum('yt_ocean')\n",
    "                elif ymin == ymax:\n",
    "                    e['transport'][strait] = e['ty_trans_int_2000'].sel(yu_ocean=ymin, method='nearest')\\\n",
    "                                                                .sel(xt_ocean=slice(xmin, xmax))\\\n",
    "                                                                .sum('xt_ocean')\n",
    "                else:\n",
    "                    raise ValueError('Transports are computed only along lines of either constant latitude or longitude')\n",
    "\n",
    "                trans3 = e['transport'][strait].mean('time').values/1e6/1036\n",
    "                    \n",
    "        Trans = trans1 + trans2 + trans3\n",
    "        \n",
    "        \n",
    "        b.append(Trans)\n",
    "    \n",
    "    a.append(b)\n",
    "\n",
    "    \n",
    "test=pd.DataFrame({'1deg_c1':a[0],'025deg_c1':a[1],'01deg_c1':a[2],\n",
    "                   '1deg_c2':a[3],'025deg_c2':a[4],'01deg_c2':a[5],\n",
    "                   '1deg_c3':a[6],'025deg_c3':a[7],'01deg_c3':a[8]})\n",
    "\n",
    "test.index = c\n",
    "\n",
    "print(test)\n",
    "\n",
    "\n",
    "round(test,2).to_csv('Transport_ITF(1).csv')"
   ]
  },
  {
   "cell_type": "code",
   "execution_count": null,
   "metadata": {},
   "outputs": [],
   "source": []
  }
 ],
 "metadata": {
  "extensions": {
   "jupyter_dashboards": {
    "activeView": "grid_default",
    "version": 1,
    "views": {
     "grid_default": {
      "cellMargin": 10,
      "defaultCellHeight": 20,
      "maxColumns": 12,
      "name": "grid",
      "type": "grid"
     },
     "report_default": {
      "name": "report",
      "type": "report"
     }
    }
   }
  },
  "kernelspec": {
   "display_name": "Python [conda env:analysis3-21.07]",
   "language": "python",
   "name": "conda-env-analysis3-21.07-py"
  },
  "language_info": {
   "codemirror_mode": {
    "name": "ipython",
    "version": 3
   },
   "file_extension": ".py",
   "mimetype": "text/x-python",
   "name": "python",
   "nbconvert_exporter": "python",
   "pygments_lexer": "ipython3",
   "version": "3.9.7"
  }
 },
 "nbformat": 4,
 "nbformat_minor": 4
}
