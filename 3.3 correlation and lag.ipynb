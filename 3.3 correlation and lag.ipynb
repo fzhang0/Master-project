{
 "cells": [
  {
   "cell_type": "code",
   "execution_count": 1,
   "id": "0c2e9454-6552-4932-ab8c-9f17ab620b6b",
   "metadata": {},
   "outputs": [
    {
     "name": "stdout",
     "output_type": "stream",
     "text": [
      "Populating the interactive namespace from numpy and matplotlib\n",
      "Available exptdata keys:  ['1deg_c1', '025deg_c1', '01deg_c1', '1deg_c2', '025deg_c2', '01deg_c2', '1deg_c3', '025deg_c3', '01deg_c3']\n"
     ]
    }
   ],
   "source": [
    "%matplotlib inline\n",
    "%pylab inline\n",
    "\n",
    "import matplotlib.pyplot as plt\n",
    "import numpy as np\n",
    "import pandas as pd\n",
    "import copy\n",
    "import scipy.stats as stats\n",
    "\n",
    "import sys, os\n",
    "sys.path.append(os.path.join(os.getcwd(), '..'))  # so we can import ../exptdata\n",
    "import exptdata\n",
    "print('Available exptdata keys: ', [k for k in exptdata.exptdict.keys()])"
   ]
  },
  {
   "cell_type": "code",
   "execution_count": 2,
   "id": "cd56f386-032f-4cc3-91ef-157e4bac2d07",
   "metadata": {},
   "outputs": [],
   "source": [
    "figdir = ''\n",
    "def savefigure(fname):\n",
    "    plt.savefig(os.path.join(figdir, fname+'.png'),dpi=300, bbox_inches=\"tight\", facecolor = 'w')  # comment out to disable saving\n",
    "#     plt.savefig(os.path.join(figdir, fname+'.pdf'),dpi=300, bbox_inches=\"tight\")  # comment out to disable saving\n",
    "    return"
   ]
  },
  {
   "cell_type": "markdown",
   "id": "65031841-45a3-42e7-b4c2-209649a4036e",
   "metadata": {
    "tags": []
   },
   "source": [
    "### Function"
   ]
  },
  {
   "cell_type": "code",
   "execution_count": 3,
   "id": "f58f21e8-b706-4571-9b7d-d50229aad2b1",
   "metadata": {},
   "outputs": [],
   "source": [
    "def correlation():\n",
    "    df1 = pd.DataFrame({'x':x1, 'y':y1})\n",
    "    df2 = pd.DataFrame({'x':x2, 'y':y2})\n",
    "    df3 = pd.DataFrame({'x':x3, 'y':y3})\n",
    "    # print(df1.x.corr(df1.y))\n",
    "    # print(df2.x.corr(df2.y))\n",
    "    # print(df3.x.corr(df3.y))\n",
    "    r1, p1=stats.pearsonr(df1.x,df1.y)\n",
    "    r2, p2=stats.pearsonr(df2.x,df2.y)\n",
    "    r3, p3=stats.pearsonr(df3.x,df3.y)\n",
    "    a1.append(r1)\n",
    "    a2.append(r2)\n",
    "    a3.append(r3)\n",
    "    b1.append(p1)\n",
    "    b2.append(p2)\n",
    "    b3.append(p3)"
   ]
  },
  {
   "cell_type": "markdown",
   "id": "38a54576-8deb-4f5f-a494-5a57726bb438",
   "metadata": {},
   "source": [
    "### 分段平均"
   ]
  },
  {
   "cell_type": "code",
   "execution_count": 5,
   "id": "4fac3621-9b6b-4c57-8a97-57509207c1ea",
   "metadata": {},
   "outputs": [],
   "source": [
    "def isplit_by_n(ls, n):\n",
    "    for i in range(0, len(ls), n):\n",
    "        yield ls[i:i+n]\n",
    "\n",
    "def split_by_n(ls, n):\n",
    "    return list(isplit_by_n(ls, n))"
   ]
  },
  {
   "cell_type": "code",
   "execution_count": 6,
   "id": "623f872e-9354-4e87-9497-4aa2d2c60f15",
   "metadata": {
    "tags": []
   },
   "outputs": [
    {
     "name": "stdout",
     "output_type": "stream",
     "text": [
      "        1deg    025deg     01deg\n",
      "0  -0.112338  0.031121  0.286695\n",
      "1  -0.083141  0.059778  0.327094\n",
      "2  -0.059687  0.109314  0.365920\n",
      "3  -0.018073  0.163494  0.455637\n",
      "4  -0.037561  0.300904  0.547335\n",
      "5  -0.011101  0.321915  0.518114\n",
      "6   0.007726  0.333947  0.502932\n",
      "7   0.044810  0.350766  0.536263\n",
      "8   0.059494  0.351980  0.545887\n",
      "9   0.064942  0.346560  0.529579\n",
      "10  0.073140  0.353828  0.550925\n",
      "11  0.096670  0.387569  0.565869\n",
      "12  0.083816  0.348960  0.489479\n",
      "13 -0.012154  0.351987  0.403391\n",
      "14 -0.055040  0.295076  0.299936\n",
      "15 -0.069409  0.247848  0.243170\n",
      "16 -0.080680  0.212991  0.139984\n",
      "17 -0.108114  0.162794  0.041887\n",
      "18 -0.141585  0.107024 -0.045951\n",
      "19 -0.174251  0.046898 -0.152656\n",
      "20 -0.206072 -0.001300 -0.264450\n",
      "        1deg    025deg     01deg\n",
      "0   0.657186  0.902437  0.248730\n",
      "1   0.742924  0.813727  0.185200\n",
      "2   0.814008  0.665899  0.135338\n",
      "3   0.943257  0.516833  0.057402\n",
      "4   0.886195  0.240553  0.022963\n",
      "5   0.966271  0.207647  0.033128\n",
      "6   0.976524  0.190191  0.039613\n",
      "7   0.864406  0.167458  0.026480\n",
      "8   0.820567  0.165891  0.023401\n",
      "9   0.804423  0.172963  0.028796\n",
      "10  0.780269  0.163525  0.021904\n",
      "11  0.712064  0.124275  0.017899\n",
      "12  0.749102  0.169807  0.046126\n",
      "13  0.964367  0.181222  0.121290\n",
      "14  0.839562  0.267217  0.259042\n",
      "15  0.798398  0.354690  0.364138\n",
      "16  0.766448  0.428357  0.605106\n",
      "17  0.690225  0.546910  0.877590\n",
      "18  0.600941  0.693207  0.865811\n",
      "19  0.518646  0.863070  0.572470\n",
      "20  0.443855  0.996187  0.322291\n"
     ]
    }
   ],
   "source": [
    "dataset1 = pd.read_csv('3.2 IR_value/IR_Aus-NZ(1).csv')\n",
    "dataset2 = pd.read_csv('3.1 Total upper ocean trans/Transport_Tasman Sea(1).csv')\n",
    "\n",
    "j = 10\n",
    "\n",
    "X1 = dataset1.iloc[:, 1].values\n",
    "X2 = dataset1.iloc[:, 2].values\n",
    "X3 = dataset1.iloc[:, 3].values\n",
    "Y1 = dataset2.iloc[:, 1].values\n",
    "Y2 = dataset2.iloc[:, 2].values\n",
    "Y3 = dataset2.iloc[:, 3].values\n",
    "\n",
    "x1 = split_by_n(X1,j)\n",
    "x1 = [sum(x)/len(x) for x in x1]\n",
    "x2 = split_by_n(X2,j)\n",
    "x2 = [sum(x)/len(x) for x in x2]\n",
    "x3 = split_by_n(X3,j)\n",
    "x3 = [sum(x)/len(x) for x in x3]\n",
    "y1 = split_by_n(Y1,j)\n",
    "y1 = [sum(x)/len(x) for x in y1]\n",
    "y2 = split_by_n(Y2,j)\n",
    "y2 = [sum(x)/len(x) for x in y2]\n",
    "y3 = split_by_n(Y3,j)\n",
    "y3 = [sum(x)/len(x) for x in y3]\n",
    "\n",
    "x1 = x1[:-1]\n",
    "x2 = x2[:-1]\n",
    "x3 = x3[:-1]\n",
    "y1 = y1[:-1]\n",
    "y2 = y2[:-1]\n",
    "y3 = y3[:-1]\n",
    "        \n",
    "a1 = []\n",
    "a2 = []\n",
    "a3 = []\n",
    "b1 = []\n",
    "b2 = []\n",
    "b3 = []\n",
    "\n",
    "correlation()\n",
    "\n",
    "\n",
    "\n",
    "for i in range(1,21):\n",
    "\n",
    "    X1 = dataset1.iloc[:-i, 1].values\n",
    "    X2 = dataset1.iloc[:-i, 2].values\n",
    "    X3 = dataset1.iloc[:-i, 3].values\n",
    "    Y1 = dataset2.iloc[i:, 1].values\n",
    "    Y2 = dataset2.iloc[i:, 2].values\n",
    "    Y3 = dataset2.iloc[i:, 3].values\n",
    "\n",
    "    x1 = split_by_n(X1,j)\n",
    "    x1 = [sum(x)/len(x) for x in x1]\n",
    "    x2 = split_by_n(X2,j)\n",
    "    x2 = [sum(x)/len(x) for x in x2]\n",
    "    x3 = split_by_n(X3,j)\n",
    "    x3 = [sum(x)/len(x) for x in x3]\n",
    "    y1 = split_by_n(Y1,j)\n",
    "    y1 = [sum(x)/len(x) for x in y1]\n",
    "    y2 = split_by_n(Y2,j)\n",
    "    y2 = [sum(x)/len(x) for x in y2]\n",
    "    y3 = split_by_n(Y3,j)\n",
    "    y3 = [sum(x)/len(x) for x in y3]\n",
    "    \n",
    "    if i != 3:\n",
    "        x1 = x1[:-1]\n",
    "        x2 = x2[:-1]\n",
    "        x3 = x3[:-1]\n",
    "        y1 = y1[:-1]\n",
    "        y2 = y2[:-1]\n",
    "        y3 = y3[:-1]\n",
    "    correlation()\n",
    "        \n",
    "        \n",
    "test1 = pd.DataFrame({'1deg':a1,'025deg':a2,'01deg':a3})\n",
    "\n",
    "test1.index = [0,1,2,3,4,5,6,7,8,9,10,11,12,13,14,15,16,17,18,19,20]\n",
    "\n",
    "print(test1)\n",
    "\n",
    "round(test1,2).to_csv('3.31 correlation and lags/correlation and lags(' + str(j) + ').csv')\n",
    "\n",
    "\n",
    "\n",
    "test2 = pd.DataFrame({'1deg':b1,'025deg':b2,'01deg':b3})\n",
    "\n",
    "test2.index = [0,1,2,3,4,5,6,7,8,9,10,11,12,13,14,15,16,17,18,19,20]\n",
    "\n",
    "print(test2)\n",
    "\n",
    "round(test2,2).to_csv('3.31 p value and lags/p value and lags(' + str(j) + ').csv')"
   ]
  },
  {
   "cell_type": "markdown",
   "id": "880c181e-651c-49d7-bb7d-152a8f84af77",
   "metadata": {
    "tags": []
   },
   "source": [
    "### 连续平均"
   ]
  },
  {
   "cell_type": "code",
   "execution_count": 23,
   "id": "146d60cb-b239-43b0-b4a2-22dd0080385f",
   "metadata": {
    "tags": []
   },
   "outputs": [],
   "source": [
    "dataset1 = pd.read_csv('3.2 IR_value/IR_Aus-NZ(1).csv')\n",
    "dataset2 = pd.read_csv('3.1 Total upper ocean trans/Transport_Tasman Sea(1).csv')\n",
    "\n",
    "for j in range (2,11):\n",
    "    \n",
    "    X1 = dataset1.iloc[:, 1].values\n",
    "    X2 = dataset1.iloc[:, 2].values\n",
    "    X3 = dataset1.iloc[:, 3].values\n",
    "    Y1 = dataset2.iloc[:, 1].values\n",
    "    Y2 = dataset2.iloc[:, 2].values\n",
    "    Y3 = dataset2.iloc[:, 3].values\n",
    "    \n",
    "    w = j\n",
    "    \n",
    "    x1 = np.convolve(X1, np.ones(w), 'valid') / w\n",
    "    x2 = np.convolve(X2, np.ones(w), 'valid') / w\n",
    "    x3 = np.convolve(X3, np.ones(w), 'valid') / w\n",
    "    y1 = np.convolve(Y1, np.ones(w), 'valid') / w\n",
    "    y2 = np.convolve(Y2, np.ones(w), 'valid') / w\n",
    "    y3 = np.convolve(Y3, np.ones(w), 'valid') / w\n",
    "\n",
    "    a1 = []\n",
    "    a2 = []\n",
    "    a3 = []\n",
    "    b1 = []\n",
    "    b2 = []\n",
    "    b3 = []\n",
    "\n",
    "    correlation()\n",
    "\n",
    "\n",
    "    for i in range(1,21):\n",
    "\n",
    "        X1 = dataset1.iloc[:-i, 1].values\n",
    "        X2 = dataset1.iloc[:-i, 2].values\n",
    "        X3 = dataset1.iloc[:-i, 3].values\n",
    "        Y1 = dataset2.iloc[i:, 1].values\n",
    "        Y2 = dataset2.iloc[i:, 2].values\n",
    "        Y3 = dataset2.iloc[i:, 3].values\n",
    "\n",
    "        x1 = np.convolve(X1, np.ones(w), 'valid') / w\n",
    "        x2 = np.convolve(X2, np.ones(w), 'valid') / w\n",
    "        x3 = np.convolve(X3, np.ones(w), 'valid') / w\n",
    "        y1 = np.convolve(Y1, np.ones(w), 'valid') / w\n",
    "        y2 = np.convolve(Y2, np.ones(w), 'valid') / w\n",
    "        y3 = np.convolve(Y3, np.ones(w), 'valid') / w\n",
    "\n",
    "        correlation()\n",
    "        \n",
    "    test = pd.DataFrame({'1deg':a1,'025deg':a2,'01deg':a3})\n",
    "\n",
    "    test.index = [0,1,2,3,4,5,6,7,8,9,10,11,12,13,14,15,16,17,18,19,20]\n",
    "\n",
    "    print(test)\n",
    "\n",
    "    round(test,2).to_csv('5.3 correlation and lags/correlation and lags (' + str(j) + ').csv')"
   ]
  },
  {
   "cell_type": "markdown",
   "id": "c269d5c3-7350-425f-b2f5-47247d8f8ec1",
   "metadata": {},
   "source": [
    "### Plot"
   ]
  },
  {
   "cell_type": "code",
   "execution_count": 99,
   "id": "829010f8-7c2f-41d2-a8af-737c5e97f114",
   "metadata": {},
   "outputs": [],
   "source": [
    "for j in range (2,11):\n",
    "    \n",
    "    x = [0,1,2,3,4,5,6,7,8,9,10,11,12,13,14,15,16,17,18,19,20]\n",
    "    dataset = pd.read_csv('3.3 correlation and lags/correlation and lag (10).csv')\n",
    "    y1 = dataset.iloc[:, 1].values\n",
    "    y2 = dataset.iloc[:, 2].values\n",
    "    y3 = dataset.iloc[:, 3].values\n",
    "\n",
    "    plt.figure(figsize(12,8))\n",
    "\n",
    "    plt.plot(x,y1, label = '1deg')\n",
    "    plt.plot(x,y2, label = '025deg',linestyle = '--')\n",
    "    plt.plot(x,y3, label = '01deg',linestyle = ':')\n",
    "\n",
    "    # plt.legend(bbox_to_anchor=(1.05, 0), loc=3, borderaxespad=0)\n",
    "    plt.legend(loc=1)                        \n",
    "    plt.xticks(x)\n",
    "    plt.title('correlation of IR value and SAM index with lags')\n",
    "    plt.xlabel('lag')\n",
    "    plt.ylabel('correlation')\n",
    "\n",
    "    savefigure('correlation and lag of ' + str(j) + '-year averaged') "
   ]
  },
  {
   "cell_type": "code",
   "execution_count": 100,
   "id": "c0b09916-edd0-4c1f-b8a4-54f2fd2b4a5a",
   "metadata": {
    "collapsed": true,
    "jupyter": {
     "outputs_hidden": true
    },
    "tags": []
   },
   "outputs": [
    {
     "data": {
      "image/png": "[encoded data removed]",
      "text/plain": [
       "<Figure size 864x576 with 1 Axes>"
      ]
     },
     "metadata": {
      "needs_background": "light"
     },
     "output_type": "display_data"
    }
   ],
   "source": []
  }
 ],
 "metadata": {
  "kernelspec": {
   "display_name": "Python [conda env:analysis3-21.10]",
   "language": "python",
   "name": "conda-env-analysis3-21.10-py"
  },
  "language_info": {
   "codemirror_mode": {
    "name": "ipython",
    "version": 3
   },
   "file_extension": ".py",
   "mimetype": "text/x-python",
   "name": "python",
   "nbconvert_exporter": "python",
   "pygments_lexer": "ipython3",
   "version": "3.9.9"
  }
 },
 "nbformat": 4,
 "nbformat_minor": 5
}
